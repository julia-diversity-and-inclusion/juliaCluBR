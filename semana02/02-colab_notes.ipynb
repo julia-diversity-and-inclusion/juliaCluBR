{
 "cells": [
  {
   "cell_type": "markdown",
   "metadata": {},
   "source": [
    "# Solução dos exercícios da semana anterior"
   ]
  },
  {
   "cell_type": "markdown",
   "metadata": {},
   "source": [
    "1. Crie um vetor com 7 elementos, preenchido aleatoriamente com variáveis booleanas."
   ]
  },
  {
   "cell_type": "code",
   "execution_count": null,
   "metadata": {},
   "outputs": [],
   "source": [
    "# Solução 1\n",
    "a = rand(Bool,7)"
   ]
  },
  {
   "cell_type": "code",
   "execution_count": null,
   "metadata": {},
   "outputs": [],
   "source": [
    "# Solução 2\n",
    "a = [true, false]\n",
    "b = rand(a, 7)"
   ]
  },
  {
   "cell_type": "markdown",
   "metadata": {},
   "source": [
    "2. Crie um vetor com os elementos opostos ao anterior."
   ]
  },
  {
   "cell_type": "code",
   "execution_count": null,
   "metadata": {},
   "outputs": [],
   "source": [
    "# Solução 1\n",
    "b= .!a"
   ]
  },
  {
   "cell_type": "code",
   "execution_count": null,
   "metadata": {},
   "outputs": [],
   "source": [
    "# Solução 2\n",
    "vectorb = falses(7)\n",
    "for i in 1:length(b)\n",
    "    vectorb[i]=!b[i]\n",
    "end"
   ]
  },
  {
   "cell_type": "markdown",
   "metadata": {},
   "source": [
    "3. Faça três testes booleanos entre os elementos dos vetores anteriores."
   ]
  },
  {
   "cell_type": "code",
   "execution_count": null,
   "metadata": {},
   "outputs": [],
   "source": [
    "a .= b"
   ]
  },
  {
   "cell_type": "code",
   "execution_count": null,
   "metadata": {},
   "outputs": [],
   "source": [
    "a .> b"
   ]
  },
  {
   "cell_type": "code",
   "execution_count": null,
   "metadata": {},
   "outputs": [],
   "source": [
    "b .>= a"
   ]
  },
  {
   "cell_type": "code",
   "execution_count": null,
   "metadata": {},
   "outputs": [],
   "source": [
    "a .* b"
   ]
  },
  {
   "cell_type": "code",
   "execution_count": null,
   "metadata": {
    "scrolled": true
   },
   "outputs": [],
   "source": [
    "b .| a"
   ]
  },
  {
   "cell_type": "code",
   "execution_count": null,
   "metadata": {},
   "outputs": [],
   "source": [
    "a .& b"
   ]
  },
  {
   "cell_type": "code",
   "execution_count": null,
   "metadata": {},
   "outputs": [],
   "source": [
    "# Outros exemplos:\n",
    "a = true\n",
    "b = false\n",
    "c = true\n",
    "\n",
    "a | b\n",
    "a | c\n",
    "b | c\n",
    "a & b\n",
    "a & c\n",
    "b & c\n",
    "!a\n",
    "!b\n",
    "!c"
   ]
  },
  {
   "cell_type": "markdown",
   "metadata": {},
   "source": [
    "4. Crie uma matriz de números inteiros, com 5 linhas e 4 colunas."
   ]
  },
  {
   "cell_type": "code",
   "execution_count": null,
   "metadata": {},
   "outputs": [],
   "source": [
    "A = rand(1:100,5,4)"
   ]
  },
  {
   "cell_type": "markdown",
   "metadata": {},
   "source": [
    "5. Ordene somente uma coluna desta matriz."
   ]
  },
  {
   "cell_type": "code",
   "execution_count": null,
   "metadata": {},
   "outputs": [],
   "source": [
    "A[:,2] = sort(A[:,2])"
   ]
  },
  {
   "cell_type": "markdown",
   "metadata": {},
   "source": [
    "6. Como podemos gerar números aleatórios a partir de diferentes distribuições (normal, binária, de Poisson, logarítmica, etc)?"
   ]
  },
  {
   "cell_type": "code",
   "execution_count": null,
   "metadata": {},
   "outputs": [],
   "source": [
    "# Distribuição normal\n",
    "randn(3)\n",
    "\n",
    "# Outras distribuições\n",
    "Pkg.add(\"Distributions\")\n",
    "using Distributions"
   ]
  },
  {
   "cell_type": "markdown",
   "metadata": {},
   "source": [
    "7. Como podemos utilizar constantes universais nas nossas equações (como pi, euler, golden ratio, etc)?"
   ]
  },
  {
   "cell_type": "code",
   "execution_count": null,
   "metadata": {},
   "outputs": [],
   "source": [
    "pi"
   ]
  },
  {
   "cell_type": "code",
   "execution_count": null,
   "metadata": {},
   "outputs": [],
   "source": [
    "Base.MathConstants.eulergamma"
   ]
  },
  {
   "cell_type": "code",
   "execution_count": null,
   "metadata": {},
   "outputs": [],
   "source": [
    "Base.MathConstants.golden"
   ]
  },
  {
   "cell_type": "markdown",
   "metadata": {},
   "source": [
    "8. Como podemos gerar números aleatórios a partir de diferentes distribuições (normal, binária, de Poisson, logarítmica, etc)?"
   ]
  },
  {
   "cell_type": "code",
   "execution_count": null,
   "metadata": {},
   "outputs": [],
   "source": [
    "Pkg.add(\"Distributions\")\n",
    "using Distributions"
   ]
  },
  {
   "cell_type": "markdown",
   "metadata": {},
   "source": [
    "---\n",
    "# Mais sobre Arrays"
   ]
  },
  {
   "cell_type": "markdown",
   "metadata": {},
   "source": [
    "Operador ellipsis (para vetores de uma dimensão)"
   ]
  },
  {
   "cell_type": "code",
   "execution_count": null,
   "metadata": {},
   "outputs": [],
   "source": [
    "a = [1:5...]"
   ]
  },
  {
   "cell_type": "code",
   "execution_count": null,
   "metadata": {},
   "outputs": [],
   "source": [
    "a = [1:5;]"
   ]
  },
  {
   "cell_type": "code",
   "execution_count": null,
   "metadata": {
    "scrolled": true
   },
   "outputs": [],
   "source": [
    "a = [1:3:5...]"
   ]
  },
  {
   "cell_type": "code",
   "execution_count": null,
   "metadata": {},
   "outputs": [],
   "source": [
    "3 in a"
   ]
  },
  {
   "cell_type": "code",
   "execution_count": null,
   "metadata": {},
   "outputs": [],
   "source": [
    "in(3, a)"
   ]
  },
  {
   "cell_type": "code",
   "execution_count": null,
   "metadata": {},
   "outputs": [],
   "source": [
    "# Criar matriz H aleatória com números inteiros aleatórios de 1 a 90, dimensões 6x3.\n",
    "A = rand(1:90,6,3)"
   ]
  },
  {
   "cell_type": "code",
   "execution_count": null,
   "metadata": {},
   "outputs": [],
   "source": [
    "# Encontre o 12. Caso não tenha, retornar mensagem.\n",
    "m = \"Esta matriz não tem este número\"\n",
    "if in(12,A) == false\n",
    "    println(m)\n",
    "else\n",
    "    for i in 1:size(A)[1]\n",
    "        for j in 1:size(A)[2]\n",
    "            if A[i,j]==12\n",
    "                println(\"linha \", i, \"coluna \", j)\n",
    "            end\n",
    "        end\n",
    "    end\n",
    "end"
   ]
  },
  {
   "cell_type": "code",
   "execution_count": null,
   "metadata": {},
   "outputs": [],
   "source": [
    "# Retorne a posição de um elemento qualquer presente na matriz.\n",
    "n=56\n",
    "\n",
    "for i in 1:size(A)[1], j in 1:size(A)[2]\n",
    "    if A[i,j]==n\n",
    "       println(\"O número $n está na linha \", i, \", coluna \", j)\n",
    "    end\n",
    "end"
   ]
  },
  {
   "cell_type": "markdown",
   "metadata": {},
   "source": [
    "Saca só essa função **LINDONA** que o [@kguidonimartins](https://github.com/kguidonimartins) criou!"
   ]
  },
  {
   "cell_type": "code",
   "execution_count": null,
   "metadata": {},
   "outputs": [],
   "source": [
    "using Pkg\n",
    "Pkg.add(\"Random\")\n",
    "using Random\n",
    "\n",
    "Random.seed!(10)\n",
    "\n",
    "H = rand(1:90, 10, 9)\n",
    "\n",
    "function buscar_numero_matriz(qual, matriz)\n",
    "   (n, m) = size(matriz)\n",
    "   celli = 0\n",
    "   cellj = 0\n",
    "\n",
    "   numero = qual\n",
    "\n",
    "   if in(numero, matriz) == false\n",
    "       print(\"Tá frio!\")\n",
    "   end\n",
    "\n",
    "   for i=1:n\n",
    "       for j=1:m\n",
    "           if matriz[i, j] == numero\n",
    "               celli = i\n",
    "               cellj = j\n",
    "               println(\"linha: \", celli)\n",
    "               println(\"coluna: \", cellj)\n",
    "           end\n",
    "       end\n",
    "   end\n",
    "end\n",
    "\n",
    "buscar_numero_matriz(1, H)"
   ]
  },
  {
   "cell_type": "markdown",
   "metadata": {},
   "source": [
    "Como gerar repetidamente os mesmos números aleatórios?"
   ]
  },
  {
   "cell_type": "code",
   "execution_count": null,
   "metadata": {},
   "outputs": [],
   "source": [
    "using Pkg\n",
    "IJulia.Pkg.add(\"Random\") # Utilize IJulia.Pkg quando estiver montando um notebook (como este aqui!)."
   ]
  },
  {
   "cell_type": "code",
   "execution_count": null,
   "metadata": {},
   "outputs": [],
   "source": [
    "using Random\n",
    "Random.seed!(10)"
   ]
  },
  {
   "cell_type": "code",
   "execution_count": null,
   "metadata": {
    "scrolled": true
   },
   "outputs": [],
   "source": [
    "rand(4)"
   ]
  },
  {
   "cell_type": "code",
   "execution_count": null,
   "metadata": {
    "scrolled": true
   },
   "outputs": [],
   "source": [
    "Random.seed!(10)\n",
    "rand(4)"
   ]
  },
  {
   "cell_type": "markdown",
   "metadata": {},
   "source": [
    "# Plots"
   ]
  },
  {
   "cell_type": "code",
   "execution_count": null,
   "metadata": {},
   "outputs": [],
   "source": [
    "IJulia.Pkg.add(\"Plots\")\n",
    "IJulia.Pkg.add(\"GR\")"
   ]
  },
  {
   "cell_type": "code",
   "execution_count": null,
   "metadata": {},
   "outputs": [],
   "source": [
    "# Para mostrar o gráfico no navegador:\n",
    "plotly()\n",
    "plot(rand(5,5)linewidth=2.0,title=\"Aleatório\")"
   ]
  },
  {
   "cell_type": "code",
   "execution_count": null,
   "metadata": {},
   "outputs": [],
   "source": [
    "# Para voltar a exibir o gráfico no Atom\n",
    "gr()\n",
    "plot(rand(5,5)linewidth=2.0,title=\"Aleatório\")"
   ]
  },
  {
   "cell_type": "code",
   "execution_count": null,
   "metadata": {},
   "outputs": [],
   "source": [
    "x = range(0, stop=2*pi, length=1000)"
   ]
  },
  {
   "cell_type": "code",
   "execution_count": null,
   "metadata": {},
   "outputs": [],
   "source": [
    "y = sin.(3*x+4*cos.2*x));"
   ]
  },
  {
   "cell_type": "code",
   "execution_count": null,
   "metadata": {},
   "outputs": [],
   "source": [
    "histogram(rand(20000))"
   ]
  },
  {
   "cell_type": "code",
   "execution_count": null,
   "metadata": {},
   "outputs": [],
   "source": [
    "scatter(rand(30), rand(30))"
   ]
  },
  {
   "cell_type": "code",
   "execution_count": null,
   "metadata": {},
   "outputs": [],
   "source": [
    "bar(rand(3))"
   ]
  },
  {
   "cell_type": "markdown",
   "metadata": {},
   "source": [
    "### Salvar plot:\n",
    "Você pode mudar a extensão na função savefig para salvar em outros formatos (png, tiff, etc)"
   ]
  },
  {
   "cell_type": "code",
   "execution_count": null,
   "metadata": {},
   "outputs": [],
   "source": [
    "savefig(\"figura1.pdf\")"
   ]
  },
  {
   "cell_type": "markdown",
   "metadata": {},
   "source": [
    "# Pérolas da semana"
   ]
  },
  {
   "cell_type": "markdown",
   "metadata": {},
   "source": [
    "\"É só usar um 'ampersand'!\" (Raquel, 2019)\n",
    "\n",
    "\"Julia também te ensina ética!\" (Todos, 2019)\n",
    "\n",
<<<<<<< HEAD:semana02/notes13042019.ipynb
    "\"Então vamos pornográfico.\" (Hélio, 2019)"
=======
    "1. Escolha dois tipos de gráficos, brinque com eles e traga na próxima semana os seus gráficos mais bonitos!\n",
    "2. Resolva o desafio correspondente ao número que você tirou no sorteio que está na Issue #9 no nosso repositório no GitHub. \n "
>>>>>>> 363524ef52b4b7ac9ba1ac0abb445972ef997c1f:semana02/02-colab_notes.ipynb
   ]
  }
 ],
 "metadata": {
  "kernelspec": {
   "display_name": "Julia 1.0.3",
   "language": "julia",
   "name": "julia-1.0"
  },
  "language_info": {
   "file_extension": ".jl",
   "mimetype": "application/julia",
   "name": "julia",
   "version": "1.0.3"
  }
 },
 "nbformat": 4,
 "nbformat_minor": 2
}
