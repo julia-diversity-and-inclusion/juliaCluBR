{
 "cells": [
  {
   "cell_type": "markdown",
   "metadata": {},
   "source": [
    "# Anotações da semana 03\n",
    "2019-IV-20"
   ]
  },
  {
   "cell_type": "markdown",
   "metadata": {},
   "source": [
    "### Dataframes"
   ]
  },
  {
   "cell_type": "markdown",
   "metadata": {},
   "source": [
    "Organizando os pacotes que vamos usar:"
   ]
  },
  {
   "cell_type": "code",
   "execution_count": 1,
   "metadata": {},
   "outputs": [
    {
     "name": "stdout",
     "output_type": "stream",
     "text": [
      "\u001b[32m\u001b[1m  Updating\u001b[22m\u001b[39m registry at `C:\\Users\\Gracielle\\.juliapro\\JuliaPro_v1.0.3.1\\registries\\JuliaPro`\n"
     ]
    },
    {
     "name": "stderr",
     "output_type": "stream",
     "text": [
      "┌ Warning: InterruptException()\n",
      "└ @ Pkg.Operations C:\\Users\\julia\\AppData\\Local\\Julia-1.0.3\\share\\julia\\stdlib\\v1.0\\Pkg\\src\\Operations.jl:484\n"
     ]
    },
    {
     "name": "stdout",
     "output_type": "stream",
     "text": [
      "\u001b[32m\u001b[1m  Updating\u001b[22m\u001b[39m git-repo `https://pkg.juliacomputing.com//registry/JuliaPro`\n",
      "\u001b[?25l\u001b[2K\u001b[?25h\u001b[32m\u001b[1m Resolving\u001b[22m\u001b[39m package versions...\n",
      "\u001b[32m\u001b[1m Installed\u001b[22m\u001b[39m DataFrames ────────────────── v0.17.1\n",
      "\u001b[32m\u001b[1m Installed\u001b[22m\u001b[39m DataStreams ───────────────── v0.4.1\n",
      "\u001b[32m\u001b[1m Installed\u001b[22m\u001b[39m Tables ────────────────────── v0.1.18\n",
      "\u001b[32m\u001b[1m Installed\u001b[22m\u001b[39m TimeZones ─────────────────── v0.9.0\n",
      "\u001b[32m\u001b[1m Installed\u001b[22m\u001b[39m CategoricalArrays ─────────── v0.5.2\n",
      "\u001b[32m\u001b[1m Installed\u001b[22m\u001b[39m CodecZlib ─────────────────── v0.5.0\n",
      "\u001b[32m\u001b[1m Installed\u001b[22m\u001b[39m IteratorInterfaceExtensions ─ v0.1.1\n",
      "\u001b[32m\u001b[1m Installed\u001b[22m\u001b[39m Mocking ───────────────────── v0.5.7\n",
      "\u001b[32m\u001b[1m Installed\u001b[22m\u001b[39m RData ─────────────────────── v0.6.0\n",
      "\u001b[32m\u001b[1m Installed\u001b[22m\u001b[39m Parsers ───────────────────── v0.2.22\n",
      "\u001b[32m\u001b[1m Installed\u001b[22m\u001b[39m EzXML ─────────────────────── v0.9.0\n",
      "\u001b[32m\u001b[1m Installed\u001b[22m\u001b[39m WeakRefStrings ────────────── v0.5.8\n",
      "\u001b[32m\u001b[1m Installed\u001b[22m\u001b[39m FileIO ────────────────────── v1.0.6\n",
      "\u001b[32m\u001b[1m Installed\u001b[22m\u001b[39m TableTraits ───────────────── v0.4.1\n",
      "\u001b[32m\u001b[1m Installed\u001b[22m\u001b[39m TranscodingStreams ────────── v0.9.4\n",
      "\u001b[32m\u001b[1m Installed\u001b[22m\u001b[39m CSV ───────────────────────── v0.4.3\n",
      "\u001b[32m\u001b[1m Installed\u001b[22m\u001b[39m RDatasets ─────────────────── v0.6.1\n",
      "\u001b[32m\u001b[1m  Updating\u001b[22m\u001b[39m `C:\\Users\\Gracielle\\.juliapro\\JuliaPro_v1.0.3.1\\environments\\v1.0\\Project.toml`\n",
      " \u001b[90m [336ed68f]\u001b[39m\u001b[92m + CSV v0.4.3\u001b[39m\n",
      " \u001b[90m [a93c6f00]\u001b[39m\u001b[92m + DataFrames v0.17.1\u001b[39m\n",
      " \u001b[90m [ce6b1742]\u001b[39m\u001b[92m + RDatasets v0.6.1\u001b[39m\n",
      " \u001b[90m [10745b16]\u001b[39m\u001b[92m + Statistics \u001b[39m\n",
      "\u001b[32m\u001b[1m  Updating\u001b[22m\u001b[39m `C:\\Users\\Gracielle\\.juliapro\\JuliaPro_v1.0.3.1\\environments\\v1.0\\Manifest.toml`\n",
      " \u001b[90m [336ed68f]\u001b[39m\u001b[92m + CSV v0.4.3\u001b[39m\n",
      " \u001b[90m [324d7699]\u001b[39m\u001b[92m + CategoricalArrays v0.5.2\u001b[39m\n",
      " \u001b[90m [944b1d66]\u001b[39m\u001b[92m + CodecZlib v0.5.0\u001b[39m\n",
      " \u001b[90m [a93c6f00]\u001b[39m\u001b[92m + DataFrames v0.17.1\u001b[39m\n",
      " \u001b[90m [9a8bc11e]\u001b[39m\u001b[92m + DataStreams v0.4.1\u001b[39m\n",
      " \u001b[90m [8f5d6c58]\u001b[39m\u001b[92m + EzXML v0.9.0\u001b[39m\n",
      " \u001b[90m [5789e2e9]\u001b[39m\u001b[92m + FileIO v1.0.6\u001b[39m\n",
      " \u001b[90m [82899510]\u001b[39m\u001b[92m + IteratorInterfaceExtensions v0.1.1\u001b[39m\n",
      " \u001b[90m [78c3b35d]\u001b[39m\u001b[92m + Mocking v0.5.7\u001b[39m\n",
      " \u001b[90m [69de0a69]\u001b[39m\u001b[92m + Parsers v0.2.22\u001b[39m\n",
      " \u001b[90m [df47a6cb]\u001b[39m\u001b[92m + RData v0.6.0\u001b[39m\n",
      " \u001b[90m [ce6b1742]\u001b[39m\u001b[92m + RDatasets v0.6.1\u001b[39m\n",
      " \u001b[90m [3783bdb8]\u001b[39m\u001b[92m + TableTraits v0.4.1\u001b[39m\n",
      " \u001b[90m [bd369af6]\u001b[39m\u001b[92m + Tables v0.1.18\u001b[39m\n",
      " \u001b[90m [f269a46b]\u001b[39m\u001b[92m + TimeZones v0.9.0\u001b[39m\n",
      " \u001b[90m [3bb67fe8]\u001b[39m\u001b[92m + TranscodingStreams v0.9.4\u001b[39m\n",
      " \u001b[90m [ea10d353]\u001b[39m\u001b[92m + WeakRefStrings v0.5.8\u001b[39m\n",
      " \u001b[90m [9fa8497b]\u001b[39m\u001b[92m + Future \u001b[39m\n",
      "\u001b[32m\u001b[1m  Building\u001b[22m\u001b[39m EzXML ────→ `C:\\Users\\Gracielle\\.juliapro\\JuliaPro_v1.0.3.1\\packages\\EzXML\\DUxj7\\deps\\build.log`\n",
      "\u001b[32m\u001b[1m  Building\u001b[22m\u001b[39m TimeZones → `C:\\Users\\Gracielle\\.juliapro\\JuliaPro_v1.0.3.1\\packages\\TimeZones\\oXITd\\deps\\build.log`\n",
      "\u001b[32m\u001b[1m  Building\u001b[22m\u001b[39m CodecZlib → `C:\\Users\\Gracielle\\.juliapro\\JuliaPro_v1.0.3.1\\packages\\CodecZlib\\wwgbh\\deps\\build.log`\n"
     ]
    }
   ],
   "source": [
    "using Pkg\n",
    "#Pkg.installed() #lista os pacotes que você já tem e as correspondentes versões\n",
    "Pkg.update() \n",
    "Pkg.add([\n",
    "        \"DataFrames\",\n",
    "        \"CSV\",\n",
    "        \"Statistics\",\n",
    "        \"Random\",\n",
    "        \"RDatasets\"\n",
    "        ])\n",
    "using DataFrames,\n",
    "        CSV,\n",
    "        Statistics,\n",
    "        Random,\n",
    "        RDatasets\n",
    "        ])"
   ]
  },
  {
   "cell_type": "code",
   "execution_count": 5,
   "metadata": {},
   "outputs": [],
   "source": [
    "using DataFrames,\n",
    "        CSV,\n",
    "        Statistics,\n",
    "        Random,\n",
    "        RDatasets"
   ]
  },
  {
   "cell_type": "markdown",
   "metadata": {},
   "source": [
    "Vamos explorar o pacote DataFrames pra ver o que ele pode fazer por nós:"
   ]
  },
  {
   "cell_type": "code",
   "execution_count": 7,
   "metadata": {},
   "outputs": [
    {
     "name": "stdout",
     "output_type": "stream",
     "text": [
      "search: \u001b[0m\u001b[1mD\u001b[22m\u001b[0m\u001b[1ma\u001b[22m\u001b[0m\u001b[1mt\u001b[22m\u001b[0m\u001b[1ma\u001b[22m\u001b[0m\u001b[1mF\u001b[22m\u001b[0m\u001b[1mr\u001b[22m\u001b[0m\u001b[1ma\u001b[22m\u001b[0m\u001b[1mm\u001b[22m\u001b[0m\u001b[1me\u001b[22m \u001b[0m\u001b[1mD\u001b[22m\u001b[0m\u001b[1ma\u001b[22m\u001b[0m\u001b[1mt\u001b[22m\u001b[0m\u001b[1ma\u001b[22m\u001b[0m\u001b[1mF\u001b[22m\u001b[0m\u001b[1mr\u001b[22m\u001b[0m\u001b[1ma\u001b[22m\u001b[0m\u001b[1mm\u001b[22m\u001b[0m\u001b[1me\u001b[22ms \u001b[0m\u001b[1mD\u001b[22m\u001b[0m\u001b[1ma\u001b[22m\u001b[0m\u001b[1mt\u001b[22m\u001b[0m\u001b[1ma\u001b[22m\u001b[0m\u001b[1mF\u001b[22m\u001b[0m\u001b[1mr\u001b[22m\u001b[0m\u001b[1ma\u001b[22m\u001b[0m\u001b[1mm\u001b[22m\u001b[0m\u001b[1me\u001b[22mRow Sub\u001b[0m\u001b[1mD\u001b[22m\u001b[0m\u001b[1ma\u001b[22m\u001b[0m\u001b[1mt\u001b[22m\u001b[0m\u001b[1ma\u001b[22m\u001b[0m\u001b[1mF\u001b[22m\u001b[0m\u001b[1mr\u001b[22m\u001b[0m\u001b[1ma\u001b[22m\u001b[0m\u001b[1mm\u001b[22m\u001b[0m\u001b[1me\u001b[22m Groupe\u001b[0m\u001b[1md\u001b[22mD\u001b[0m\u001b[1ma\u001b[22m\u001b[0m\u001b[1mt\u001b[22m\u001b[0m\u001b[1ma\u001b[22m\u001b[0m\u001b[1mF\u001b[22m\u001b[0m\u001b[1mr\u001b[22m\u001b[0m\u001b[1ma\u001b[22m\u001b[0m\u001b[1mm\u001b[22m\u001b[0m\u001b[1me\u001b[22m\n",
      "\n"
     ]
    },
    {
     "data": {
      "text/latex": [
       "\\begin{verbatim}\n",
       "DataFrame <: AbstractDataFrame\n",
       "\\end{verbatim}\n",
       "An AbstractDataFrame that stores a set of named columns\n",
       "\n",
       "The columns are normally AbstractVectors stored in memory, particularly a Vector or CategoricalVector.\n",
       "\n",
       "\\textbf{Constructors}\n",
       "\n",
       "\\begin{verbatim}\n",
       "DataFrame(columns::Vector, names::Vector{Symbol}; makeunique::Bool=false)\n",
       "DataFrame(columns::Matrix, names::Vector{Symbol}; makeunique::Bool=false)\n",
       "DataFrame(kwargs...)\n",
       "DataFrame(pairs::Pair{Symbol}...; makeunique::Bool=false)\n",
       "DataFrame() # an empty DataFrame\n",
       "DataFrame(t::Type, nrows::Integer, ncols::Integer) # an empty DataFrame of arbitrary size\n",
       "DataFrame(column_eltypes::Vector, names::Vector, nrows::Integer; makeunique::Bool=false)\n",
       "DataFrame(column_eltypes::Vector, cnames::Vector, categorical::Vector, nrows::Integer;\n",
       "          makeunique::Bool=false)\n",
       "DataFrame(ds::AbstractDict)\n",
       "DataFrame(table; makeunique::Bool=false)\n",
       "\\end{verbatim}\n",
       "\\textbf{Arguments}\n",
       "\n",
       "\\begin{itemize}\n",
       "\\item \\texttt{columns} : a Vector with each column as contents or a Matrix\n",
       "\n",
       "\n",
       "\\item \\texttt{names} : the column names\n",
       "\n",
       "\n",
       "\\item \\texttt{makeunique} : if \\texttt{false} (the default), an error will be raised if duplicates in \\texttt{names} are found; if \\texttt{true}, duplicate names will be suffixed with \\texttt{\\_i} (\\texttt{i} starting at 1 for the first duplicate).\n",
       "\n",
       "\n",
       "\\item \\texttt{kwargs} : the key gives the column names, and the value is the column contents\n",
       "\n",
       "\n",
       "\\item \\texttt{t} : elemental type of all columns\n",
       "\n",
       "\n",
       "\\item \\texttt{nrows}, \\texttt{ncols} : number of rows and columns\n",
       "\n",
       "\n",
       "\\item \\texttt{column\\_eltypes} : elemental type of each column\n",
       "\n",
       "\n",
       "\\item \\texttt{categorical} : \\texttt{Vector\\{Bool\\}} indicating which columns should be converted to                 \\texttt{CategoricalVector}\n",
       "\n",
       "\n",
       "\\item \\texttt{ds} : \\texttt{AbstractDict} of columns\n",
       "\n",
       "\n",
       "\\item \\texttt{table}: any type that implements the \\href{https://github.com/JuliaData/Tables.jl}{Tables.jl} interface\n",
       "\n",
       "\\end{itemize}\n",
       "Each column in \\texttt{columns} should be the same length.\n",
       "\n",
       "\\textbf{Notes}\n",
       "\n",
       "A \\texttt{DataFrame} is a lightweight object. As long as columns are not manipulated, creation of a \\texttt{DataFrame} from existing AbstractVectors is inexpensive. For example, indexing on columns is inexpensive, but indexing by rows is expensive because copies are made of each column.\n",
       "\n",
       "If a column is passed to a \\texttt{DataFrame} constructor or is assigned as a whole using \\texttt{setindex!} then its reference is stored in the \\texttt{DataFrame}. An exception to this rule is assignment of an \\texttt{AbstractRange} as a column, in which case the range is collected to a \\texttt{Vector}.\n",
       "\n",
       "Because column types can vary, a \\texttt{DataFrame} is not type stable. For performance-critical code, do not index into a \\texttt{DataFrame} inside of loops.\n",
       "\n",
       "\\textbf{Examples}\n",
       "\n",
       "\\begin{verbatim}\n",
       "df = DataFrame()\n",
       "v = [\"x\",\"y\",\"z\"][rand(1:3, 10)]\n",
       "df1 = DataFrame(Any[collect(1:10), v, rand(10)], [:A, :B, :C])\n",
       "df2 = DataFrame(A = 1:10, B = v, C = rand(10))\n",
       "dump(df1)\n",
       "dump(df2)\n",
       "describe(df2)\n",
       "first(df1, 10)\n",
       "df1[:A] + df2[:C]\n",
       "df1[1:4, 1:2]\n",
       "df1[[:A,:C]]\n",
       "df1[1:2, [:A,:C]]\n",
       "df1[:, [:A,:C]]\n",
       "df1[:, [1,3]]\n",
       "df1[1:4, :]\n",
       "df1[1:4, :C]\n",
       "df1[1:4, :C] = 40. * df1[1:4, :C]\n",
       "[df1; df2]  # vcat\n",
       "[df1  df2]  # hcat\n",
       "size(df1)\n",
       "\\end{verbatim}\n"
      ],
      "text/markdown": [
       "```\n",
       "DataFrame <: AbstractDataFrame\n",
       "```\n",
       "\n",
       "An AbstractDataFrame that stores a set of named columns\n",
       "\n",
       "The columns are normally AbstractVectors stored in memory, particularly a Vector or CategoricalVector.\n",
       "\n",
       "**Constructors**\n",
       "\n",
       "```julia\n",
       "DataFrame(columns::Vector, names::Vector{Symbol}; makeunique::Bool=false)\n",
       "DataFrame(columns::Matrix, names::Vector{Symbol}; makeunique::Bool=false)\n",
       "DataFrame(kwargs...)\n",
       "DataFrame(pairs::Pair{Symbol}...; makeunique::Bool=false)\n",
       "DataFrame() # an empty DataFrame\n",
       "DataFrame(t::Type, nrows::Integer, ncols::Integer) # an empty DataFrame of arbitrary size\n",
       "DataFrame(column_eltypes::Vector, names::Vector, nrows::Integer; makeunique::Bool=false)\n",
       "DataFrame(column_eltypes::Vector, cnames::Vector, categorical::Vector, nrows::Integer;\n",
       "          makeunique::Bool=false)\n",
       "DataFrame(ds::AbstractDict)\n",
       "DataFrame(table; makeunique::Bool=false)\n",
       "```\n",
       "\n",
       "**Arguments**\n",
       "\n",
       "  * `columns` : a Vector with each column as contents or a Matrix\n",
       "  * `names` : the column names\n",
       "  * `makeunique` : if `false` (the default), an error will be raised if duplicates in `names` are found; if `true`, duplicate names will be suffixed with `_i` (`i` starting at 1 for the first duplicate).\n",
       "  * `kwargs` : the key gives the column names, and the value is the column contents\n",
       "  * `t` : elemental type of all columns\n",
       "  * `nrows`, `ncols` : number of rows and columns\n",
       "  * `column_eltypes` : elemental type of each column\n",
       "  * `categorical` : `Vector{Bool}` indicating which columns should be converted to                 `CategoricalVector`\n",
       "  * `ds` : `AbstractDict` of columns\n",
       "  * `table`: any type that implements the [Tables.jl](https://github.com/JuliaData/Tables.jl) interface\n",
       "\n",
       "Each column in `columns` should be the same length.\n",
       "\n",
       "**Notes**\n",
       "\n",
       "A `DataFrame` is a lightweight object. As long as columns are not manipulated, creation of a `DataFrame` from existing AbstractVectors is inexpensive. For example, indexing on columns is inexpensive, but indexing by rows is expensive because copies are made of each column.\n",
       "\n",
       "If a column is passed to a `DataFrame` constructor or is assigned as a whole using `setindex!` then its reference is stored in the `DataFrame`. An exception to this rule is assignment of an `AbstractRange` as a column, in which case the range is collected to a `Vector`.\n",
       "\n",
       "Because column types can vary, a `DataFrame` is not type stable. For performance-critical code, do not index into a `DataFrame` inside of loops.\n",
       "\n",
       "**Examples**\n",
       "\n",
       "```julia\n",
       "df = DataFrame()\n",
       "v = [\"x\",\"y\",\"z\"][rand(1:3, 10)]\n",
       "df1 = DataFrame(Any[collect(1:10), v, rand(10)], [:A, :B, :C])\n",
       "df2 = DataFrame(A = 1:10, B = v, C = rand(10))\n",
       "dump(df1)\n",
       "dump(df2)\n",
       "describe(df2)\n",
       "first(df1, 10)\n",
       "df1[:A] + df2[:C]\n",
       "df1[1:4, 1:2]\n",
       "df1[[:A,:C]]\n",
       "df1[1:2, [:A,:C]]\n",
       "df1[:, [:A,:C]]\n",
       "df1[:, [1,3]]\n",
       "df1[1:4, :]\n",
       "df1[1:4, :C]\n",
       "df1[1:4, :C] = 40. * df1[1:4, :C]\n",
       "[df1; df2]  # vcat\n",
       "[df1  df2]  # hcat\n",
       "size(df1)\n",
       "```\n"
      ],
      "text/plain": [
       "\u001b[36m  DataFrame <: AbstractDataFrame\u001b[39m\n",
       "\n",
       "  An AbstractDataFrame that stores a set of named columns\n",
       "\n",
       "  The columns are normally AbstractVectors stored in memory, particularly a\n",
       "  Vector or CategoricalVector.\n",
       "\n",
       "  \u001b[1mConstructors\u001b[22m\n",
       "\n",
       "\u001b[36m  DataFrame(columns::Vector, names::Vector{Symbol}; makeunique::Bool=false)\u001b[39m\n",
       "\u001b[36m  DataFrame(columns::Matrix, names::Vector{Symbol}; makeunique::Bool=false)\u001b[39m\n",
       "\u001b[36m  DataFrame(kwargs...)\u001b[39m\n",
       "\u001b[36m  DataFrame(pairs::Pair{Symbol}...; makeunique::Bool=false)\u001b[39m\n",
       "\u001b[36m  DataFrame() # an empty DataFrame\u001b[39m\n",
       "\u001b[36m  DataFrame(t::Type, nrows::Integer, ncols::Integer) # an empty DataFrame of arbitrary size\u001b[39m\n",
       "\u001b[36m  DataFrame(column_eltypes::Vector, names::Vector, nrows::Integer; makeunique::Bool=false)\u001b[39m\n",
       "\u001b[36m  DataFrame(column_eltypes::Vector, cnames::Vector, categorical::Vector, nrows::Integer;\u001b[39m\n",
       "\u001b[36m            makeunique::Bool=false)\u001b[39m\n",
       "\u001b[36m  DataFrame(ds::AbstractDict)\u001b[39m\n",
       "\u001b[36m  DataFrame(table; makeunique::Bool=false)\u001b[39m\n",
       "\n",
       "  \u001b[1mArguments\u001b[22m\n",
       "\n",
       "    •    \u001b[36mcolumns\u001b[39m : a Vector with each column as contents or a Matrix\n",
       "\n",
       "    •    \u001b[36mnames\u001b[39m : the column names\n",
       "\n",
       "    •    \u001b[36mmakeunique\u001b[39m : if \u001b[36mfalse\u001b[39m (the default), an error will be raised if\n",
       "        duplicates in \u001b[36mnames\u001b[39m are found; if \u001b[36mtrue\u001b[39m, duplicate names will be\n",
       "        suffixed with \u001b[36m_i\u001b[39m (\u001b[36mi\u001b[39m starting at 1 for the first duplicate).\n",
       "\n",
       "    •    \u001b[36mkwargs\u001b[39m : the key gives the column names, and the value is the\n",
       "        column contents\n",
       "\n",
       "    •    \u001b[36mt\u001b[39m : elemental type of all columns\n",
       "\n",
       "    •    \u001b[36mnrows\u001b[39m, \u001b[36mncols\u001b[39m : number of rows and columns\n",
       "\n",
       "    •    \u001b[36mcolumn_eltypes\u001b[39m : elemental type of each column\n",
       "\n",
       "    •    \u001b[36mcategorical\u001b[39m : \u001b[36mVector{Bool}\u001b[39m indicating which columns should be\n",
       "        converted to \u001b[36mCategoricalVector\u001b[39m\n",
       "\n",
       "    •    \u001b[36mds\u001b[39m : \u001b[36mAbstractDict\u001b[39m of columns\n",
       "\n",
       "    •    \u001b[36mtable\u001b[39m: any type that implements the Tables.jl\n",
       "        (https://github.com/JuliaData/Tables.jl) interface\n",
       "\n",
       "  Each column in \u001b[36mcolumns\u001b[39m should be the same length.\n",
       "\n",
       "  \u001b[1mNotes\u001b[22m\n",
       "\n",
       "  A \u001b[36mDataFrame\u001b[39m is a lightweight object. As long as columns are not manipulated,\n",
       "  creation of a \u001b[36mDataFrame\u001b[39m from existing AbstractVectors is inexpensive. For\n",
       "  example, indexing on columns is inexpensive, but indexing by rows is\n",
       "  expensive because copies are made of each column.\n",
       "\n",
       "  If a column is passed to a \u001b[36mDataFrame\u001b[39m constructor or is assigned as a whole\n",
       "  using \u001b[36msetindex!\u001b[39m then its reference is stored in the \u001b[36mDataFrame\u001b[39m. An exception\n",
       "  to this rule is assignment of an \u001b[36mAbstractRange\u001b[39m as a column, in which case\n",
       "  the range is collected to a \u001b[36mVector\u001b[39m.\n",
       "\n",
       "  Because column types can vary, a \u001b[36mDataFrame\u001b[39m is not type stable. For\n",
       "  performance-critical code, do not index into a \u001b[36mDataFrame\u001b[39m inside of loops.\n",
       "\n",
       "  \u001b[1mExamples\u001b[22m\n",
       "\n",
       "\u001b[36m  df = DataFrame()\u001b[39m\n",
       "\u001b[36m  v = [\"x\",\"y\",\"z\"][rand(1:3, 10)]\u001b[39m\n",
       "\u001b[36m  df1 = DataFrame(Any[collect(1:10), v, rand(10)], [:A, :B, :C])\u001b[39m\n",
       "\u001b[36m  df2 = DataFrame(A = 1:10, B = v, C = rand(10))\u001b[39m\n",
       "\u001b[36m  dump(df1)\u001b[39m\n",
       "\u001b[36m  dump(df2)\u001b[39m\n",
       "\u001b[36m  describe(df2)\u001b[39m\n",
       "\u001b[36m  first(df1, 10)\u001b[39m\n",
       "\u001b[36m  df1[:A] + df2[:C]\u001b[39m\n",
       "\u001b[36m  df1[1:4, 1:2]\u001b[39m\n",
       "\u001b[36m  df1[[:A,:C]]\u001b[39m\n",
       "\u001b[36m  df1[1:2, [:A,:C]]\u001b[39m\n",
       "\u001b[36m  df1[:, [:A,:C]]\u001b[39m\n",
       "\u001b[36m  df1[:, [1,3]]\u001b[39m\n",
       "\u001b[36m  df1[1:4, :]\u001b[39m\n",
       "\u001b[36m  df1[1:4, :C]\u001b[39m\n",
       "\u001b[36m  df1[1:4, :C] = 40. * df1[1:4, :C]\u001b[39m\n",
       "\u001b[36m  [df1; df2]  # vcat\u001b[39m\n",
       "\u001b[36m  [df1  df2]  # hcat\u001b[39m\n",
       "\u001b[36m  size(df1)\u001b[39m"
      ]
     },
     "execution_count": 7,
     "metadata": {},
     "output_type": "execute_result"
    }
   ],
   "source": [
    "?DataFrame"
   ]
  },
  {
   "cell_type": "markdown",
   "metadata": {},
   "source": [
    "Vamos então criar um fataframe para brincar:"
   ]
  },
  {
   "cell_type": "code",
   "execution_count": 8,
   "metadata": {},
   "outputs": [
    {
     "data": {
      "text/html": [
       "<table class=\"data-frame\"><thead><tr><th></th></tr><tr><th></th></tr></thead><tbody><p>0 rows × 0 columns</p></tbody></table>"
      ],
      "text/latex": [
       "\\begin{tabular}{r|}\n",
       "\t& \\\\\n",
       "\t\\hline\n",
       "\t& \\\\\n",
       "\t\\hline\n",
       "\\end{tabular}\n"
      ],
      "text/plain": [
       "0×0 DataFrame\n"
      ]
     },
     "execution_count": 8,
     "metadata": {},
     "output_type": "execute_result"
    }
   ],
   "source": [
    "df=DataFrame()"
   ]
  },
  {
   "cell_type": "markdown",
   "metadata": {},
   "source": [
    "Criamos um df vazio. Agora vamos inspecionar as dimensões dele (finge que você não sabe e que alguém te passou um df que você nunca viu na vida)."
   ]
  },
  {
   "cell_type": "code",
   "execution_count": 9,
   "metadata": {
    "scrolled": true
   },
   "outputs": [
    {
     "data": {
      "text/plain": [
       "0"
      ]
     },
     "execution_count": 9,
     "metadata": {},
     "output_type": "execute_result"
    }
   ],
   "source": [
    "size(df,1) # Quantas linhas meu df tem?"
   ]
  },
  {
   "cell_type": "code",
   "execution_count": 11,
   "metadata": {},
   "outputs": [
    {
     "data": {
      "text/plain": [
       "0"
      ]
     },
     "execution_count": 11,
     "metadata": {},
     "output_type": "execute_result"
    }
   ],
   "source": [
    "nrow(df) # A mesma coisa, mas de outro jeito."
   ]
  },
  {
   "cell_type": "code",
   "execution_count": 10,
   "metadata": {},
   "outputs": [
    {
     "data": {
      "text/plain": [
       "0"
      ]
     },
     "execution_count": 10,
     "metadata": {},
     "output_type": "execute_result"
    }
   ],
   "source": [
    "size(df,2) #Quantas colunas meu df tem?"
   ]
  },
  {
   "cell_type": "code",
   "execution_count": 13,
   "metadata": {},
   "outputs": [
    {
     "data": {
      "text/plain": [
       "0"
      ]
     },
     "execution_count": 13,
     "metadata": {},
     "output_type": "execute_result"
    }
   ],
   "source": [
    "ncol(df) # A mesma coisa, mas de outro jeito."
   ]
  },
  {
   "cell_type": "code",
   "execution_count": 16,
   "metadata": {},
   "outputs": [
    {
     "data": {
      "text/html": [
       "<table class=\"data-frame\"><thead><tr><th></th><th>PRIMEIRACOLUNA</th></tr><tr><th></th><th>Int64</th></tr></thead><tbody><p>10 rows × 1 columns</p><tr><th>1</th><td>1</td></tr><tr><th>2</th><td>2</td></tr><tr><th>3</th><td>3</td></tr><tr><th>4</th><td>4</td></tr><tr><th>5</th><td>5</td></tr><tr><th>6</th><td>6</td></tr><tr><th>7</th><td>7</td></tr><tr><th>8</th><td>8</td></tr><tr><th>9</th><td>9</td></tr><tr><th>10</th><td>10</td></tr></tbody></table>"
      ],
      "text/latex": [
       "\\begin{tabular}{r|c}\n",
       "\t& PRIMEIRACOLUNA\\\\\n",
       "\t\\hline\n",
       "\t& Int64\\\\\n",
       "\t\\hline\n",
       "\t1 & 1 \\\\\n",
       "\t2 & 2 \\\\\n",
       "\t3 & 3 \\\\\n",
       "\t4 & 4 \\\\\n",
       "\t5 & 5 \\\\\n",
       "\t6 & 6 \\\\\n",
       "\t7 & 7 \\\\\n",
       "\t8 & 8 \\\\\n",
       "\t9 & 9 \\\\\n",
       "\t10 & 10 \\\\\n",
       "\\end{tabular}\n"
      ],
      "text/plain": [
       "10×1 DataFrame\n",
       "│ Row │ PRIMEIRACOLUNA │\n",
       "│     │ \u001b[90mInt64\u001b[39m          │\n",
       "├─────┼────────────────┤\n",
       "│ 1   │ 1              │\n",
       "│ 2   │ 2              │\n",
       "│ 3   │ 3              │\n",
       "│ 4   │ 4              │\n",
       "│ 5   │ 5              │\n",
       "│ 6   │ 6              │\n",
       "│ 7   │ 7              │\n",
       "│ 8   │ 8              │\n",
       "│ 9   │ 9              │\n",
       "│ 10  │ 10             │"
      ]
     },
     "execution_count": 16,
     "metadata": {},
     "output_type": "execute_result"
    }
   ],
   "source": [
    "df.PRIMEIRACOLUNA=1:10 # Criando a primeira coluna com 10 linhas preenchidas com uma sequência de 1 a 10.\n",
    "df"
   ]
  },
  {
   "cell_type": "code",
   "execution_count": 19,
   "metadata": {},
   "outputs": [
    {
     "data": {
      "text/plain": [
       "MersenneTwister(UInt32[0x0000002a], Random.DSFMT.DSFMT_state(Int32[964434469, 1073036706, 1860149520, 1073503458, 1687169063, 1073083486, -399267803, 1072983952, -909620556, 1072836235  …  -293054293, 1073002412, -1300127419, 1073642642, 1917177374, -666058738, -337596527, 1830741494, 382, 0]), [0.0, 0.0, 0.0, 0.0, 0.0, 0.0, 0.0, 0.0, 0.0, 0.0  …  0.0, 0.0, 0.0, 0.0, 0.0, 0.0, 0.0, 0.0, 0.0, 0.0], UInt128[0x00000000000000000000000000000000, 0x00000000000000000000000000000000, 0x00000000000000000000000000000000, 0x00000000000000000000000000000000, 0x00000000000000000000000000000000, 0x00000000000000000000000000000000, 0x00000000000000000000000000000000, 0x00000000000000000000000000000000, 0x00000000000000000000000000000000, 0x00000000000000000000000000000000  …  0x00000000000000000000000000000000, 0x00000000000000000000000000000000, 0x00000000000000000000000000000000, 0x00000000000000000000000000000000, 0x00000000000000000000000000000000, 0x00000000000000000000000000000000, 0x00000000000000000000000000000000, 0x00000000000000000000000000000000, 0x00000000000000000000000000000000, 0x00000000000000000000000000000000], 1002, 0)"
      ]
     },
     "execution_count": 19,
     "metadata": {},
     "output_type": "execute_result"
    }
   ],
   "source": [
    "Random.seed!(42) # Vamos travar o conjunto de números aleatórios para facilitar nosso trabalho em grupo! <3"
   ]
  },
  {
   "cell_type": "markdown",
   "metadata": {},
   "source": [
    "Vamos preencher a nossa matriz com três colunas:"
   ]
  },
  {
   "cell_type": "code",
   "execution_count": 26,
   "metadata": {},
   "outputs": [
    {
     "data": {
      "text/html": [
       "<table class=\"data-frame\"><thead><tr><th></th><th>A</th><th>B</th><th>C</th></tr><tr><th></th><th>Int64</th><th>String</th><th>Float64</th></tr></thead><tbody><p>10 rows × 3 columns</p><tr><th>1</th><td>1</td><td>a</td><td>0.61205</td></tr><tr><th>2</th><td>2</td><td>b</td><td>0.210885</td></tr><tr><th>3</th><td>3</td><td>c</td><td>0.167169</td></tr><tr><th>4</th><td>4</td><td>d</td><td>0.497081</td></tr><tr><th>5</th><td>5</td><td>e</td><td>0.969432</td></tr><tr><th>6</th><td>6</td><td>f</td><td>0.0823367</td></tr><tr><th>7</th><td>7</td><td>g</td><td>0.244683</td></tr><tr><th>8</th><td>8</td><td>h</td><td>0.452418</td></tr><tr><th>9</th><td>9</td><td>i</td><td>0.763719</td></tr><tr><th>10</th><td>10</td><td>j</td><td>0.281987</td></tr></tbody></table>"
      ],
      "text/latex": [
       "\\begin{tabular}{r|ccc}\n",
       "\t& A & B & C\\\\\n",
       "\t\\hline\n",
       "\t& Int64 & String & Float64\\\\\n",
       "\t\\hline\n",
       "\t1 & 1 & a & 0.61205 \\\\\n",
       "\t2 & 2 & b & 0.210885 \\\\\n",
       "\t3 & 3 & c & 0.167169 \\\\\n",
       "\t4 & 4 & d & 0.497081 \\\\\n",
       "\t5 & 5 & e & 0.969432 \\\\\n",
       "\t6 & 6 & f & 0.0823367 \\\\\n",
       "\t7 & 7 & g & 0.244683 \\\\\n",
       "\t8 & 8 & h & 0.452418 \\\\\n",
       "\t9 & 9 & i & 0.763719 \\\\\n",
       "\t10 & 10 & j & 0.281987 \\\\\n",
       "\\end{tabular}\n"
      ],
      "text/plain": [
       "10×3 DataFrame\n",
       "│ Row │ A     │ B      │ C         │\n",
       "│     │ \u001b[90mInt64\u001b[39m │ \u001b[90mString\u001b[39m │ \u001b[90mFloat64\u001b[39m   │\n",
       "├─────┼───────┼────────┼───────────┤\n",
       "│ 1   │ 1     │ a      │ 0.61205   │\n",
       "│ 2   │ 2     │ b      │ 0.210885  │\n",
       "│ 3   │ 3     │ c      │ 0.167169  │\n",
       "│ 4   │ 4     │ d      │ 0.497081  │\n",
       "│ 5   │ 5     │ e      │ 0.969432  │\n",
       "│ 6   │ 6     │ f      │ 0.0823367 │\n",
       "│ 7   │ 7     │ g      │ 0.244683  │\n",
       "│ 8   │ 8     │ h      │ 0.452418  │\n",
       "│ 9   │ 9     │ i      │ 0.763719  │\n",
       "│ 10  │ 10    │ j      │ 0.281987  │"
      ]
     },
     "execution_count": 26,
     "metadata": {},
     "output_type": "execute_result"
    }
   ],
   "source": [
    "df1 = DataFrame(A = 1:10, B = [\"a\",\"b\",\"c\",\"d\",\"e\",\"f\",\"g\",\"h\",\"i\",\"j\"], C = rand(10))"
   ]
  },
  {
   "cell_type": "markdown",
   "metadata": {},
   "source": [
    "Agora vamos renomear as colunas:"
   ]
  },
  {
   "cell_type": "code",
   "execution_count": 27,
   "metadata": {},
   "outputs": [
    {
     "data": {
      "text/html": [
       "<table class=\"data-frame\"><thead><tr><th></th><th>F</th><th>B</th><th>C</th></tr><tr><th></th><th>Int64</th><th>String</th><th>Float64</th></tr></thead><tbody><p>10 rows × 3 columns</p><tr><th>1</th><td>1</td><td>a</td><td>0.61205</td></tr><tr><th>2</th><td>2</td><td>b</td><td>0.210885</td></tr><tr><th>3</th><td>3</td><td>c</td><td>0.167169</td></tr><tr><th>4</th><td>4</td><td>d</td><td>0.497081</td></tr><tr><th>5</th><td>5</td><td>e</td><td>0.969432</td></tr><tr><th>6</th><td>6</td><td>f</td><td>0.0823367</td></tr><tr><th>7</th><td>7</td><td>g</td><td>0.244683</td></tr><tr><th>8</th><td>8</td><td>h</td><td>0.452418</td></tr><tr><th>9</th><td>9</td><td>i</td><td>0.763719</td></tr><tr><th>10</th><td>10</td><td>j</td><td>0.281987</td></tr></tbody></table>"
      ],
      "text/latex": [
       "\\begin{tabular}{r|ccc}\n",
       "\t& F & B & C\\\\\n",
       "\t\\hline\n",
       "\t& Int64 & String & Float64\\\\\n",
       "\t\\hline\n",
       "\t1 & 1 & a & 0.61205 \\\\\n",
       "\t2 & 2 & b & 0.210885 \\\\\n",
       "\t3 & 3 & c & 0.167169 \\\\\n",
       "\t4 & 4 & d & 0.497081 \\\\\n",
       "\t5 & 5 & e & 0.969432 \\\\\n",
       "\t6 & 6 & f & 0.0823367 \\\\\n",
       "\t7 & 7 & g & 0.244683 \\\\\n",
       "\t8 & 8 & h & 0.452418 \\\\\n",
       "\t9 & 9 & i & 0.763719 \\\\\n",
       "\t10 & 10 & j & 0.281987 \\\\\n",
       "\\end{tabular}\n"
      ],
      "text/plain": [
       "10×3 DataFrame\n",
       "│ Row │ F     │ B      │ C         │\n",
       "│     │ \u001b[90mInt64\u001b[39m │ \u001b[90mString\u001b[39m │ \u001b[90mFloat64\u001b[39m   │\n",
       "├─────┼───────┼────────┼───────────┤\n",
       "│ 1   │ 1     │ a      │ 0.61205   │\n",
       "│ 2   │ 2     │ b      │ 0.210885  │\n",
       "│ 3   │ 3     │ c      │ 0.167169  │\n",
       "│ 4   │ 4     │ d      │ 0.497081  │\n",
       "│ 5   │ 5     │ e      │ 0.969432  │\n",
       "│ 6   │ 6     │ f      │ 0.0823367 │\n",
       "│ 7   │ 7     │ g      │ 0.244683  │\n",
       "│ 8   │ 8     │ h      │ 0.452418  │\n",
       "│ 9   │ 9     │ i      │ 0.763719  │\n",
       "│ 10  │ 10    │ j      │ 0.281987  │"
      ]
     },
     "execution_count": 27,
     "metadata": {},
     "output_type": "execute_result"
    }
   ],
   "source": [
    "rename(df1,:A => :F) # \"Pegue a coluna que se chama 'A' e agora chame ela de 'F', mas não salve no meu objeto df1\""
   ]
  },
  {
   "cell_type": "code",
   "execution_count": 28,
   "metadata": {},
   "outputs": [
    {
     "data": {
      "text/html": [
       "<table class=\"data-frame\"><thead><tr><th></th><th>A</th><th>B</th><th>C</th></tr><tr><th></th><th>Int64</th><th>String</th><th>Float64</th></tr></thead><tbody><p>10 rows × 3 columns</p><tr><th>1</th><td>1</td><td>a</td><td>0.61205</td></tr><tr><th>2</th><td>2</td><td>b</td><td>0.210885</td></tr><tr><th>3</th><td>3</td><td>c</td><td>0.167169</td></tr><tr><th>4</th><td>4</td><td>d</td><td>0.497081</td></tr><tr><th>5</th><td>5</td><td>e</td><td>0.969432</td></tr><tr><th>6</th><td>6</td><td>f</td><td>0.0823367</td></tr><tr><th>7</th><td>7</td><td>g</td><td>0.244683</td></tr><tr><th>8</th><td>8</td><td>h</td><td>0.452418</td></tr><tr><th>9</th><td>9</td><td>i</td><td>0.763719</td></tr><tr><th>10</th><td>10</td><td>j</td><td>0.281987</td></tr></tbody></table>"
      ],
      "text/latex": [
       "\\begin{tabular}{r|ccc}\n",
       "\t& A & B & C\\\\\n",
       "\t\\hline\n",
       "\t& Int64 & String & Float64\\\\\n",
       "\t\\hline\n",
       "\t1 & 1 & a & 0.61205 \\\\\n",
       "\t2 & 2 & b & 0.210885 \\\\\n",
       "\t3 & 3 & c & 0.167169 \\\\\n",
       "\t4 & 4 & d & 0.497081 \\\\\n",
       "\t5 & 5 & e & 0.969432 \\\\\n",
       "\t6 & 6 & f & 0.0823367 \\\\\n",
       "\t7 & 7 & g & 0.244683 \\\\\n",
       "\t8 & 8 & h & 0.452418 \\\\\n",
       "\t9 & 9 & i & 0.763719 \\\\\n",
       "\t10 & 10 & j & 0.281987 \\\\\n",
       "\\end{tabular}\n"
      ],
      "text/plain": [
       "10×3 DataFrame\n",
       "│ Row │ A     │ B      │ C         │\n",
       "│     │ \u001b[90mInt64\u001b[39m │ \u001b[90mString\u001b[39m │ \u001b[90mFloat64\u001b[39m   │\n",
       "├─────┼───────┼────────┼───────────┤\n",
       "│ 1   │ 1     │ a      │ 0.61205   │\n",
       "│ 2   │ 2     │ b      │ 0.210885  │\n",
       "│ 3   │ 3     │ c      │ 0.167169  │\n",
       "│ 4   │ 4     │ d      │ 0.497081  │\n",
       "│ 5   │ 5     │ e      │ 0.969432  │\n",
       "│ 6   │ 6     │ f      │ 0.0823367 │\n",
       "│ 7   │ 7     │ g      │ 0.244683  │\n",
       "│ 8   │ 8     │ h      │ 0.452418  │\n",
       "│ 9   │ 9     │ i      │ 0.763719  │\n",
       "│ 10  │ 10    │ j      │ 0.281987  │"
      ]
     },
     "execution_count": 28,
     "metadata": {},
     "output_type": "execute_result"
    }
   ],
   "source": [
    "df1 #Conferindo se atualizou o objeto ou não"
   ]
  },
  {
   "cell_type": "code",
   "execution_count": 29,
   "metadata": {},
   "outputs": [
    {
     "data": {
      "text/html": [
       "<table class=\"data-frame\"><thead><tr><th></th><th>F</th><th>B</th><th>C</th></tr><tr><th></th><th>Int64</th><th>String</th><th>Float64</th></tr></thead><tbody><p>10 rows × 3 columns</p><tr><th>1</th><td>1</td><td>a</td><td>0.61205</td></tr><tr><th>2</th><td>2</td><td>b</td><td>0.210885</td></tr><tr><th>3</th><td>3</td><td>c</td><td>0.167169</td></tr><tr><th>4</th><td>4</td><td>d</td><td>0.497081</td></tr><tr><th>5</th><td>5</td><td>e</td><td>0.969432</td></tr><tr><th>6</th><td>6</td><td>f</td><td>0.0823367</td></tr><tr><th>7</th><td>7</td><td>g</td><td>0.244683</td></tr><tr><th>8</th><td>8</td><td>h</td><td>0.452418</td></tr><tr><th>9</th><td>9</td><td>i</td><td>0.763719</td></tr><tr><th>10</th><td>10</td><td>j</td><td>0.281987</td></tr></tbody></table>"
      ],
      "text/latex": [
       "\\begin{tabular}{r|ccc}\n",
       "\t& F & B & C\\\\\n",
       "\t\\hline\n",
       "\t& Int64 & String & Float64\\\\\n",
       "\t\\hline\n",
       "\t1 & 1 & a & 0.61205 \\\\\n",
       "\t2 & 2 & b & 0.210885 \\\\\n",
       "\t3 & 3 & c & 0.167169 \\\\\n",
       "\t4 & 4 & d & 0.497081 \\\\\n",
       "\t5 & 5 & e & 0.969432 \\\\\n",
       "\t6 & 6 & f & 0.0823367 \\\\\n",
       "\t7 & 7 & g & 0.244683 \\\\\n",
       "\t8 & 8 & h & 0.452418 \\\\\n",
       "\t9 & 9 & i & 0.763719 \\\\\n",
       "\t10 & 10 & j & 0.281987 \\\\\n",
       "\\end{tabular}\n"
      ],
      "text/plain": [
       "10×3 DataFrame\n",
       "│ Row │ F     │ B      │ C         │\n",
       "│     │ \u001b[90mInt64\u001b[39m │ \u001b[90mString\u001b[39m │ \u001b[90mFloat64\u001b[39m   │\n",
       "├─────┼───────┼────────┼───────────┤\n",
       "│ 1   │ 1     │ a      │ 0.61205   │\n",
       "│ 2   │ 2     │ b      │ 0.210885  │\n",
       "│ 3   │ 3     │ c      │ 0.167169  │\n",
       "│ 4   │ 4     │ d      │ 0.497081  │\n",
       "│ 5   │ 5     │ e      │ 0.969432  │\n",
       "│ 6   │ 6     │ f      │ 0.0823367 │\n",
       "│ 7   │ 7     │ g      │ 0.244683  │\n",
       "│ 8   │ 8     │ h      │ 0.452418  │\n",
       "│ 9   │ 9     │ i      │ 0.763719  │\n",
       "│ 10  │ 10    │ j      │ 0.281987  │"
      ]
     },
     "execution_count": 29,
     "metadata": {},
     "output_type": "execute_result"
    }
   ],
   "source": [
    "rename!(df1,:A => :F) # \"Pegue a coluna que se chama 'A' e agora chame ela de 'F', e agora salve no meu objeto df1 (o ! depois da função atualiza o objeto)\""
   ]
  },
  {
   "cell_type": "markdown",
   "metadata": {},
   "source": [
    "Vamos selecionar colunas e linhas. A gente pode fazer isso pelo número dela ou pelo nome:"
   ]
  },
  {
   "cell_type": "code",
   "execution_count": 30,
   "metadata": {},
   "outputs": [
    {
     "data": {
      "text/plain": [
       "10-element Array{Int64,1}:\n",
       "  1\n",
       "  2\n",
       "  3\n",
       "  4\n",
       "  5\n",
       "  6\n",
       "  7\n",
       "  8\n",
       "  9\n",
       " 10"
      ]
     },
     "execution_count": 30,
     "metadata": {},
     "output_type": "execute_result"
    }
   ],
   "source": [
    "df1[:F] #Se pedir com um colchete, ele retorna um vetor"
   ]
  },
  {
   "cell_type": "code",
   "execution_count": 31,
   "metadata": {},
   "outputs": [
    {
     "data": {
      "text/html": [
       "<table class=\"data-frame\"><thead><tr><th></th><th>F</th></tr><tr><th></th><th>Int64</th></tr></thead><tbody><p>10 rows × 1 columns</p><tr><th>1</th><td>1</td></tr><tr><th>2</th><td>2</td></tr><tr><th>3</th><td>3</td></tr><tr><th>4</th><td>4</td></tr><tr><th>5</th><td>5</td></tr><tr><th>6</th><td>6</td></tr><tr><th>7</th><td>7</td></tr><tr><th>8</th><td>8</td></tr><tr><th>9</th><td>9</td></tr><tr><th>10</th><td>10</td></tr></tbody></table>"
      ],
      "text/latex": [
       "\\begin{tabular}{r|c}\n",
       "\t& F\\\\\n",
       "\t\\hline\n",
       "\t& Int64\\\\\n",
       "\t\\hline\n",
       "\t1 & 1 \\\\\n",
       "\t2 & 2 \\\\\n",
       "\t3 & 3 \\\\\n",
       "\t4 & 4 \\\\\n",
       "\t5 & 5 \\\\\n",
       "\t6 & 6 \\\\\n",
       "\t7 & 7 \\\\\n",
       "\t8 & 8 \\\\\n",
       "\t9 & 9 \\\\\n",
       "\t10 & 10 \\\\\n",
       "\\end{tabular}\n"
      ],
      "text/plain": [
       "10×1 DataFrame\n",
       "│ Row │ F     │\n",
       "│     │ \u001b[90mInt64\u001b[39m │\n",
       "├─────┼───────┤\n",
       "│ 1   │ 1     │\n",
       "│ 2   │ 2     │\n",
       "│ 3   │ 3     │\n",
       "│ 4   │ 4     │\n",
       "│ 5   │ 5     │\n",
       "│ 6   │ 6     │\n",
       "│ 7   │ 7     │\n",
       "│ 8   │ 8     │\n",
       "│ 9   │ 9     │\n",
       "│ 10  │ 10    │"
      ]
     },
     "execution_count": 31,
     "metadata": {},
     "output_type": "execute_result"
    }
   ],
   "source": [
    "df1[[:F]] #Se pedir com dois colchetes, ele retorna um dataframe com uma coluna"
   ]
  },
  {
   "cell_type": "markdown",
   "metadata": {},
   "source": [
    "O Guidoni quer as duas últimas colunas cuja linha da coluna 1 são iguais a 5:"
   ]
  },
  {
   "cell_type": "code",
   "execution_count": 51,
   "metadata": {},
   "outputs": [
    {
     "data": {
      "text/html": [
       "<table class=\"data-frame\"><thead><tr><th></th><th>B</th><th>C</th></tr><tr><th></th><th>String</th><th>Float64</th></tr></thead><tbody><p>1 rows × 2 columns</p><tr><th>1</th><td>e</td><td>0.969432</td></tr></tbody></table>"
      ],
      "text/latex": [
       "\\begin{tabular}{r|cc}\n",
       "\t& B & C\\\\\n",
       "\t\\hline\n",
       "\t& String & Float64\\\\\n",
       "\t\\hline\n",
       "\t1 & e & 0.969432 \\\\\n",
       "\\end{tabular}\n"
      ],
      "text/plain": [
       "1×2 DataFrame\n",
       "│ Row │ B      │ C        │\n",
       "│     │ \u001b[90mString\u001b[39m │ \u001b[90mFloat64\u001b[39m  │\n",
       "├─────┼────────┼──────────┤\n",
       "│ 1   │ e      │ 0.969432 │"
      ]
     },
     "execution_count": 51,
     "metadata": {},
     "output_type": "execute_result"
    }
   ],
   "source": [
    "df1[df1.F.==5,2:3]"
   ]
  },
  {
   "cell_type": "markdown",
   "metadata": {},
   "source": [
    "Agora ele quer as linhas em que o valor da coluna 1 são maiores que 5:"
   ]
  },
  {
   "cell_type": "code",
   "execution_count": 52,
   "metadata": {},
   "outputs": [
    {
     "data": {
      "text/html": [
       "<table class=\"data-frame\"><thead><tr><th></th><th>B</th><th>C</th></tr><tr><th></th><th>String</th><th>Float64</th></tr></thead><tbody><p>5 rows × 2 columns</p><tr><th>1</th><td>f</td><td>0.0823367</td></tr><tr><th>2</th><td>g</td><td>0.244683</td></tr><tr><th>3</th><td>h</td><td>0.452418</td></tr><tr><th>4</th><td>i</td><td>0.763719</td></tr><tr><th>5</th><td>j</td><td>0.281987</td></tr></tbody></table>"
      ],
      "text/latex": [
       "\\begin{tabular}{r|cc}\n",
       "\t& B & C\\\\\n",
       "\t\\hline\n",
       "\t& String & Float64\\\\\n",
       "\t\\hline\n",
       "\t1 & f & 0.0823367 \\\\\n",
       "\t2 & g & 0.244683 \\\\\n",
       "\t3 & h & 0.452418 \\\\\n",
       "\t4 & i & 0.763719 \\\\\n",
       "\t5 & j & 0.281987 \\\\\n",
       "\\end{tabular}\n"
      ],
      "text/plain": [
       "5×2 DataFrame\n",
       "│ Row │ B      │ C         │\n",
       "│     │ \u001b[90mString\u001b[39m │ \u001b[90mFloat64\u001b[39m   │\n",
       "├─────┼────────┼───────────┤\n",
       "│ 1   │ f      │ 0.0823367 │\n",
       "│ 2   │ g      │ 0.244683  │\n",
       "│ 3   │ h      │ 0.452418  │\n",
       "│ 4   │ i      │ 0.763719  │\n",
       "│ 5   │ j      │ 0.281987  │"
      ]
     },
     "execution_count": 52,
     "metadata": {},
     "output_type": "execute_result"
    }
   ],
   "source": [
    "df1[df1.F.>5,2:3]"
   ]
  },
  {
   "cell_type": "markdown",
   "metadata": {},
   "source": [
    "Agora ele quer os menores que 5:"
   ]
  },
  {
   "cell_type": "code",
   "execution_count": 58,
   "metadata": {},
   "outputs": [
    {
     "data": {
      "text/html": [
       "<table class=\"data-frame\"><thead><tr><th></th><th>B</th><th>C</th></tr><tr><th></th><th>String</th><th>Float64</th></tr></thead><tbody><p>4 rows × 2 columns</p><tr><th>1</th><td>a</td><td>0.61205</td></tr><tr><th>2</th><td>b</td><td>0.210885</td></tr><tr><th>3</th><td>c</td><td>0.167169</td></tr><tr><th>4</th><td>d</td><td>0.497081</td></tr></tbody></table>"
      ],
      "text/latex": [
       "\\begin{tabular}{r|cc}\n",
       "\t& B & C\\\\\n",
       "\t\\hline\n",
       "\t& String & Float64\\\\\n",
       "\t\\hline\n",
       "\t1 & a & 0.61205 \\\\\n",
       "\t2 & b & 0.210885 \\\\\n",
       "\t3 & c & 0.167169 \\\\\n",
       "\t4 & d & 0.497081 \\\\\n",
       "\\end{tabular}\n"
      ],
      "text/plain": [
       "4×2 DataFrame\n",
       "│ Row │ B      │ C        │\n",
       "│     │ \u001b[90mString\u001b[39m │ \u001b[90mFloat64\u001b[39m  │\n",
       "├─────┼────────┼──────────┤\n",
       "│ 1   │ a      │ 0.61205  │\n",
       "│ 2   │ b      │ 0.210885 │\n",
       "│ 3   │ c      │ 0.167169 │\n",
       "│ 4   │ d      │ 0.497081 │"
      ]
     },
     "execution_count": 58,
     "metadata": {},
     "output_type": "execute_result"
    }
   ],
   "source": [
    "df1[df1.F.<5,2:3]"
   ]
  },
  {
   "cell_type": "markdown",
   "metadata": {},
   "source": [
    "Agora ele quer os diferentes de 5:"
   ]
  },
  {
   "cell_type": "code",
   "execution_count": 55,
   "metadata": {},
   "outputs": [
    {
     "data": {
      "text/html": [
       "<table class=\"data-frame\"><thead><tr><th></th><th>F</th><th>B</th><th>C</th></tr><tr><th></th><th>Int64</th><th>String</th><th>Float64</th></tr></thead><tbody><p>10 rows × 3 columns</p><tr><th>1</th><td>1</td><td>a</td><td>0.61205</td></tr><tr><th>2</th><td>2</td><td>b</td><td>0.210885</td></tr><tr><th>3</th><td>3</td><td>c</td><td>0.167169</td></tr><tr><th>4</th><td>4</td><td>d</td><td>0.497081</td></tr><tr><th>5</th><td>5</td><td>e</td><td>0.969432</td></tr><tr><th>6</th><td>6</td><td>f</td><td>0.0823367</td></tr><tr><th>7</th><td>7</td><td>g</td><td>0.244683</td></tr><tr><th>8</th><td>8</td><td>h</td><td>0.452418</td></tr><tr><th>9</th><td>9</td><td>i</td><td>0.763719</td></tr><tr><th>10</th><td>10</td><td>j</td><td>0.281987</td></tr></tbody></table>"
      ],
      "text/latex": [
       "\\begin{tabular}{r|ccc}\n",
       "\t& F & B & C\\\\\n",
       "\t\\hline\n",
       "\t& Int64 & String & Float64\\\\\n",
       "\t\\hline\n",
       "\t1 & 1 & a & 0.61205 \\\\\n",
       "\t2 & 2 & b & 0.210885 \\\\\n",
       "\t3 & 3 & c & 0.167169 \\\\\n",
       "\t4 & 4 & d & 0.497081 \\\\\n",
       "\t5 & 5 & e & 0.969432 \\\\\n",
       "\t6 & 6 & f & 0.0823367 \\\\\n",
       "\t7 & 7 & g & 0.244683 \\\\\n",
       "\t8 & 8 & h & 0.452418 \\\\\n",
       "\t9 & 9 & i & 0.763719 \\\\\n",
       "\t10 & 10 & j & 0.281987 \\\\\n",
       "\\end{tabular}\n"
      ],
      "text/plain": [
       "10×3 DataFrame\n",
       "│ Row │ F     │ B      │ C         │\n",
       "│     │ \u001b[90mInt64\u001b[39m │ \u001b[90mString\u001b[39m │ \u001b[90mFloat64\u001b[39m   │\n",
       "├─────┼───────┼────────┼───────────┤\n",
       "│ 1   │ 1     │ a      │ 0.61205   │\n",
       "│ 2   │ 2     │ b      │ 0.210885  │\n",
       "│ 3   │ 3     │ c      │ 0.167169  │\n",
       "│ 4   │ 4     │ d      │ 0.497081  │\n",
       "│ 5   │ 5     │ e      │ 0.969432  │\n",
       "│ 6   │ 6     │ f      │ 0.0823367 │\n",
       "│ 7   │ 7     │ g      │ 0.244683  │\n",
       "│ 8   │ 8     │ h      │ 0.452418  │\n",
       "│ 9   │ 9     │ i      │ 0.763719  │\n",
       "│ 10  │ 10    │ j      │ 0.281987  │"
      ]
     },
     "execution_count": 55,
     "metadata": {},
     "output_type": "execute_result"
    }
   ],
   "source": [
    "df1[df1.F.!=5,2:3]"
   ]
  },
  {
   "cell_type": "markdown",
   "metadata": {},
   "source": [
    "Agora a Raquel quer as linhas cujos valores na coluna 1 estejam entre 2 e 6:"
   ]
  },
  {
   "cell_type": "code",
   "execution_count": 67,
   "metadata": {},
   "outputs": [
    {
     "data": {
      "text/html": [
       "<table class=\"data-frame\"><thead><tr><th></th><th>F</th><th>B</th><th>C</th></tr><tr><th></th><th>Int64</th><th>String</th><th>Float64</th></tr></thead><tbody><p>3 rows × 3 columns</p><tr><th>1</th><td>3</td><td>c</td><td>0.167169</td></tr><tr><th>2</th><td>4</td><td>d</td><td>0.497081</td></tr><tr><th>3</th><td>5</td><td>e</td><td>0.969432</td></tr></tbody></table>"
      ],
      "text/latex": [
       "\\begin{tabular}{r|ccc}\n",
       "\t& F & B & C\\\\\n",
       "\t\\hline\n",
       "\t& Int64 & String & Float64\\\\\n",
       "\t\\hline\n",
       "\t1 & 3 & c & 0.167169 \\\\\n",
       "\t2 & 4 & d & 0.497081 \\\\\n",
       "\t3 & 5 & e & 0.969432 \\\\\n",
       "\\end{tabular}\n"
      ],
      "text/plain": [
       "3×3 DataFrame\n",
       "│ Row │ F     │ B      │ C        │\n",
       "│     │ \u001b[90mInt64\u001b[39m │ \u001b[90mString\u001b[39m │ \u001b[90mFloat64\u001b[39m  │\n",
       "├─────┼───────┼────────┼──────────┤\n",
       "│ 1   │ 3     │ c      │ 0.167169 │\n",
       "│ 2   │ 4     │ d      │ 0.497081 │\n",
       "│ 3   │ 5     │ e      │ 0.969432 │"
      ]
     },
     "execution_count": 67,
     "metadata": {},
     "output_type": "execute_result"
    }
   ],
   "source": [
    "df1[(2 .< df1.F .<6),:]"
   ]
  },
  {
   "cell_type": "markdown",
   "metadata": {},
   "source": [
    "Agora o Guidoni (pô, Guidoni!) quer um subset de df1 baseado em condições de duas colunas:"
   ]
  },
  {
   "cell_type": "code",
   "execution_count": 68,
   "metadata": {},
   "outputs": [
    {
     "data": {
      "text/html": [
       "<table class=\"data-frame\"><thead><tr><th></th><th>F</th><th>B</th><th>C</th></tr><tr><th></th><th>Int64</th><th>String</th><th>Float64</th></tr></thead><tbody><p>2 rows × 3 columns</p><tr><th>1</th><td>4</td><td>d</td><td>0.497081</td></tr><tr><th>2</th><td>5</td><td>e</td><td>0.969432</td></tr></tbody></table>"
      ],
      "text/latex": [
       "\\begin{tabular}{r|ccc}\n",
       "\t& F & B & C\\\\\n",
       "\t\\hline\n",
       "\t& Int64 & String & Float64\\\\\n",
       "\t\\hline\n",
       "\t1 & 4 & d & 0.497081 \\\\\n",
       "\t2 & 5 & e & 0.969432 \\\\\n",
       "\\end{tabular}\n"
      ],
      "text/plain": [
       "2×3 DataFrame\n",
       "│ Row │ F     │ B      │ C        │\n",
       "│     │ \u001b[90mInt64\u001b[39m │ \u001b[90mString\u001b[39m │ \u001b[90mFloat64\u001b[39m  │\n",
       "├─────┼───────┼────────┼──────────┤\n",
       "│ 1   │ 4     │ d      │ 0.497081 │\n",
       "│ 2   │ 5     │ e      │ 0.969432 │"
      ]
     },
     "execution_count": 68,
     "metadata": {},
     "output_type": "execute_result"
    }
   ],
   "source": [
    "df1[(2 .< df1.F .<6) .& (df1.C .> 0.2), :]"
   ]
  },
  {
   "cell_type": "code",
   "execution_count": 69,
   "metadata": {},
   "outputs": [
    {
     "name": "stdout",
     "output_type": "stream",
     "text": [
      "DataFrame  10 observations of 3 variables\n",
      "  F: [1, 2, 3, 4, 5, 6, 7, 8, 9, 10]\n",
      "  B: [\"a\", \"b\", \"c\", \"d\", \"e\", \"f\", \"g\", \"h\", \"i\", \"j\"]\n",
      "  C: [0.61205, 0.210885, 0.167169, 0.497081, 0.969432, 0.0823367, 0.244683, 0.452418, 0.763719, 0.281987]\n",
      "\n"
     ]
    }
   ],
   "source": [
    "dump(df1) #Inspecionar o dataframe"
   ]
  },
  {
   "cell_type": "code",
   "execution_count": 70,
   "metadata": {},
   "outputs": [
    {
     "data": {
      "text/html": [
       "<table class=\"data-frame\"><thead><tr><th></th><th>variable</th><th>mean</th><th>min</th><th>median</th><th>max</th><th>nunique</th><th>nmissing</th><th>eltype</th></tr><tr><th></th><th>Symbol</th><th>Union…</th><th>Any</th><th>Union…</th><th>Any</th><th>Union…</th><th>Nothing</th><th>DataType</th></tr></thead><tbody><p>3 rows × 8 columns</p><tr><th>1</th><td>F</td><td>5.5</td><td>1</td><td>5.5</td><td>10</td><td></td><td></td><td>Int64</td></tr><tr><th>2</th><td>B</td><td></td><td>a</td><td></td><td>j</td><td>10</td><td></td><td>String</td></tr><tr><th>3</th><td>C</td><td>0.428176</td><td>0.0823367</td><td>0.367203</td><td>0.969432</td><td></td><td></td><td>Float64</td></tr></tbody></table>"
      ],
      "text/latex": [
       "\\begin{tabular}{r|cccccccc}\n",
       "\t& variable & mean & min & median & max & nunique & nmissing & eltype\\\\\n",
       "\t\\hline\n",
       "\t& Symbol & Union… & Any & Union… & Any & Union… & Nothing & DataType\\\\\n",
       "\t\\hline\n",
       "\t1 & F & 5.5 & 1 & 5.5 & 10 &  &  & Int64 \\\\\n",
       "\t2 & B &  & a &  & j & 10 &  & String \\\\\n",
       "\t3 & C & 0.428176 & 0.0823367 & 0.367203 & 0.969432 &  &  & Float64 \\\\\n",
       "\\end{tabular}\n"
      ],
      "text/plain": [
       "3×8 DataFrame. Omitted printing of 2 columns\n",
       "│ Row │ variable │ mean     │ min       │ median   │ max      │ nunique │\n",
       "│     │ \u001b[90mSymbol\u001b[39m   │ \u001b[90mUnion…\u001b[39m   │ \u001b[90mAny\u001b[39m       │ \u001b[90mUnion…\u001b[39m   │ \u001b[90mAny\u001b[39m      │ \u001b[90mUnion…\u001b[39m  │\n",
       "├─────┼──────────┼──────────┼───────────┼──────────┼──────────┼─────────┤\n",
       "│ 1   │ F        │ 5.5      │ 1         │ 5.5      │ 10       │         │\n",
       "│ 2   │ B        │          │ a         │          │ j        │ 10      │\n",
       "│ 3   │ C        │ 0.428176 │ 0.0823367 │ 0.367203 │ 0.969432 │         │"
      ]
     },
     "execution_count": 70,
     "metadata": {},
     "output_type": "execute_result"
    }
   ],
   "source": [
    "describe(df1) #Descrição estatística do dataframe"
   ]
  },
  {
   "cell_type": "code",
   "execution_count": 71,
   "metadata": {},
   "outputs": [
    {
     "data": {
      "text/html": [
       "<table class=\"data-frame\"><thead><tr><th></th><th>F</th><th>B</th><th>C</th></tr><tr><th></th><th>Int64</th><th>String</th><th>Float64</th></tr></thead><tbody><p>4 rows × 3 columns</p><tr><th>1</th><td>1</td><td>a</td><td>0.61205</td></tr><tr><th>2</th><td>2</td><td>b</td><td>0.210885</td></tr><tr><th>3</th><td>3</td><td>c</td><td>0.167169</td></tr><tr><th>4</th><td>4</td><td>d</td><td>0.497081</td></tr></tbody></table>"
      ],
      "text/latex": [
       "\\begin{tabular}{r|ccc}\n",
       "\t& F & B & C\\\\\n",
       "\t\\hline\n",
       "\t& Int64 & String & Float64\\\\\n",
       "\t\\hline\n",
       "\t1 & 1 & a & 0.61205 \\\\\n",
       "\t2 & 2 & b & 0.210885 \\\\\n",
       "\t3 & 3 & c & 0.167169 \\\\\n",
       "\t4 & 4 & d & 0.497081 \\\\\n",
       "\\end{tabular}\n"
      ],
      "text/plain": [
       "4×3 DataFrame\n",
       "│ Row │ F     │ B      │ C        │\n",
       "│     │ \u001b[90mInt64\u001b[39m │ \u001b[90mString\u001b[39m │ \u001b[90mFloat64\u001b[39m  │\n",
       "├─────┼───────┼────────┼──────────┤\n",
       "│ 1   │ 1     │ a      │ 0.61205  │\n",
       "│ 2   │ 2     │ b      │ 0.210885 │\n",
       "│ 3   │ 3     │ c      │ 0.167169 │\n",
       "│ 4   │ 4     │ d      │ 0.497081 │"
      ]
     },
     "execution_count": 71,
     "metadata": {},
     "output_type": "execute_result"
    }
   ],
   "source": [
    "first(df1,4) #Esta função mostra as primeiras linhas do df. O default é mostrar só uma linha, mas você pode dizer quantas quer ver (neste caso, queremos ver as 4 primeiras linhas) "
   ]
  },
  {
   "cell_type": "code",
   "execution_count": 72,
   "metadata": {},
   "outputs": [
    {
     "data": {
      "text/html": [
       "<table class=\"data-frame\"><thead><tr><th></th><th>F</th><th>B</th><th>C</th></tr><tr><th></th><th>Int64</th><th>String</th><th>Float64</th></tr></thead><tbody><p>5 rows × 3 columns</p><tr><th>1</th><td>6</td><td>f</td><td>0.0823367</td></tr><tr><th>2</th><td>7</td><td>g</td><td>0.244683</td></tr><tr><th>3</th><td>8</td><td>h</td><td>0.452418</td></tr><tr><th>4</th><td>9</td><td>i</td><td>0.763719</td></tr><tr><th>5</th><td>10</td><td>j</td><td>0.281987</td></tr></tbody></table>"
      ],
      "text/latex": [
       "\\begin{tabular}{r|ccc}\n",
       "\t& F & B & C\\\\\n",
       "\t\\hline\n",
       "\t& Int64 & String & Float64\\\\\n",
       "\t\\hline\n",
       "\t1 & 6 & f & 0.0823367 \\\\\n",
       "\t2 & 7 & g & 0.244683 \\\\\n",
       "\t3 & 8 & h & 0.452418 \\\\\n",
       "\t4 & 9 & i & 0.763719 \\\\\n",
       "\t5 & 10 & j & 0.281987 \\\\\n",
       "\\end{tabular}\n"
      ],
      "text/plain": [
       "5×3 DataFrame\n",
       "│ Row │ F     │ B      │ C         │\n",
       "│     │ \u001b[90mInt64\u001b[39m │ \u001b[90mString\u001b[39m │ \u001b[90mFloat64\u001b[39m   │\n",
       "├─────┼───────┼────────┼───────────┤\n",
       "│ 1   │ 6     │ f      │ 0.0823367 │\n",
       "│ 2   │ 7     │ g      │ 0.244683  │\n",
       "│ 3   │ 8     │ h      │ 0.452418  │\n",
       "│ 4   │ 9     │ i      │ 0.763719  │\n",
       "│ 5   │ 10    │ j      │ 0.281987  │"
      ]
     },
     "execution_count": 72,
     "metadata": {},
     "output_type": "execute_result"
    }
   ],
   "source": [
    "last(df1,5) #Semelhante ao anterior, mas para mostrar as últimas linhas"
   ]
  },
  {
   "cell_type": "code",
   "execution_count": 73,
   "metadata": {},
   "outputs": [
    {
     "data": {
      "text/plain": [
       "10-element Array{Float64,1}:\n",
       " 0.6120496344690995 \n",
       " 0.21088484982656963\n",
       " 0.16716931951820713\n",
       " 0.4970812767934871 \n",
       " 0.9694319430590213 \n",
       " 0.08233666746625179\n",
       " 0.24468287051664506\n",
       " 0.45241842742658944\n",
       " 0.763719368415045  \n",
       " 0.28198708251379423"
      ]
     },
     "execution_count": 73,
     "metadata": {},
     "output_type": "execute_result"
    }
   ],
   "source": [
    "unique(df1.C) #Quais os valores únicos da coluna C?"
   ]
  },
  {
   "cell_type": "code",
   "execution_count": 74,
   "metadata": {},
   "outputs": [
    {
     "data": {
      "text/plain": [
       "10-element Array{Bool,1}:\n",
       " false\n",
       " false\n",
       " false\n",
       " false\n",
       " false\n",
       " false\n",
       " false\n",
       " false\n",
       " false\n",
       " false"
      ]
     },
     "execution_count": 74,
     "metadata": {},
     "output_type": "execute_result"
    }
   ],
   "source": [
    "nonunique(df1) #Existem valores duplicados entre as linhas?"
   ]
  },
  {
   "cell_type": "code",
   "execution_count": 77,
   "metadata": {},
   "outputs": [
    {
     "data": {
      "text/html": [
       "<table class=\"data-frame\"><thead><tr><th></th><th>F</th><th>B</th></tr><tr><th></th><th>Int64</th><th>String</th></tr></thead><tbody><p>10 rows × 2 columns</p><tr><th>1</th><td>1</td><td>a</td></tr><tr><th>2</th><td>2</td><td>b</td></tr><tr><th>3</th><td>3</td><td>c</td></tr><tr><th>4</th><td>4</td><td>d</td></tr><tr><th>5</th><td>5</td><td>e</td></tr><tr><th>6</th><td>6</td><td>f</td></tr><tr><th>7</th><td>7</td><td>g</td></tr><tr><th>8</th><td>8</td><td>h</td></tr><tr><th>9</th><td>9</td><td>i</td></tr><tr><th>10</th><td>10</td><td>j</td></tr></tbody></table>"
      ],
      "text/latex": [
       "\\begin{tabular}{r|cc}\n",
       "\t& F & B\\\\\n",
       "\t\\hline\n",
       "\t& Int64 & String\\\\\n",
       "\t\\hline\n",
       "\t1 & 1 & a \\\\\n",
       "\t2 & 2 & b \\\\\n",
       "\t3 & 3 & c \\\\\n",
       "\t4 & 4 & d \\\\\n",
       "\t5 & 5 & e \\\\\n",
       "\t6 & 6 & f \\\\\n",
       "\t7 & 7 & g \\\\\n",
       "\t8 & 8 & h \\\\\n",
       "\t9 & 9 & i \\\\\n",
       "\t10 & 10 & j \\\\\n",
       "\\end{tabular}\n"
      ],
      "text/plain": [
       "10×2 DataFrame\n",
       "│ Row │ F     │ B      │\n",
       "│     │ \u001b[90mInt64\u001b[39m │ \u001b[90mString\u001b[39m │\n",
       "├─────┼───────┼────────┤\n",
       "│ 1   │ 1     │ a      │\n",
       "│ 2   │ 2     │ b      │\n",
       "│ 3   │ 3     │ c      │\n",
       "│ 4   │ 4     │ d      │\n",
       "│ 5   │ 5     │ e      │\n",
       "│ 6   │ 6     │ f      │\n",
       "│ 7   │ 7     │ g      │\n",
       "│ 8   │ 8     │ h      │\n",
       "│ 9   │ 9     │ i      │\n",
       "│ 10  │ 10    │ j      │"
      ]
     },
     "execution_count": 77,
     "metadata": {},
     "output_type": "execute_result"
    }
   ],
   "source": [
    "deletecols!(df1,:C) #\"Delete a coluna chamada C (e, obviamente, sobrescreva o novo df no meu objeto df1)\""
   ]
  },
  {
   "cell_type": "markdown",
   "metadata": {},
   "source": [
    "Muito bem, agora nosso df1 está todo esculhambado. Vamos criar um df2 para brincar com concatenação de linhas e colunas, e operações."
   ]
  },
  {
   "cell_type": "code",
   "execution_count": 79,
   "metadata": {},
   "outputs": [
    {
     "data": {
      "text/html": [
       "<table class=\"data-frame\"><thead><tr><th></th><th>F</th><th>B</th></tr><tr><th></th><th>Int64</th><th>String</th></tr></thead><tbody><p>10 rows × 2 columns</p><tr><th>1</th><td>1</td><td>a</td></tr><tr><th>2</th><td>2</td><td>b</td></tr><tr><th>3</th><td>3</td><td>c</td></tr><tr><th>4</th><td>4</td><td>d</td></tr><tr><th>5</th><td>5</td><td>e</td></tr><tr><th>6</th><td>6</td><td>f</td></tr><tr><th>7</th><td>7</td><td>g</td></tr><tr><th>8</th><td>8</td><td>h</td></tr><tr><th>9</th><td>9</td><td>i</td></tr><tr><th>10</th><td>10</td><td>j</td></tr></tbody></table>"
      ],
      "text/latex": [
       "\\begin{tabular}{r|cc}\n",
       "\t& F & B\\\\\n",
       "\t\\hline\n",
       "\t& Int64 & String\\\\\n",
       "\t\\hline\n",
       "\t1 & 1 & a \\\\\n",
       "\t2 & 2 & b \\\\\n",
       "\t3 & 3 & c \\\\\n",
       "\t4 & 4 & d \\\\\n",
       "\t5 & 5 & e \\\\\n",
       "\t6 & 6 & f \\\\\n",
       "\t7 & 7 & g \\\\\n",
       "\t8 & 8 & h \\\\\n",
       "\t9 & 9 & i \\\\\n",
       "\t10 & 10 & j \\\\\n",
       "\\end{tabular}\n"
      ],
      "text/plain": [
       "10×2 DataFrame\n",
       "│ Row │ F     │ B      │\n",
       "│     │ \u001b[90mInt64\u001b[39m │ \u001b[90mString\u001b[39m │\n",
       "├─────┼───────┼────────┤\n",
       "│ 1   │ 1     │ a      │\n",
       "│ 2   │ 2     │ b      │\n",
       "│ 3   │ 3     │ c      │\n",
       "│ 4   │ 4     │ d      │\n",
       "│ 5   │ 5     │ e      │\n",
       "│ 6   │ 6     │ f      │\n",
       "│ 7   │ 7     │ g      │\n",
       "│ 8   │ 8     │ h      │\n",
       "│ 9   │ 9     │ i      │\n",
       "│ 10  │ 10    │ j      │"
      ]
     },
     "execution_count": 79,
     "metadata": {},
     "output_type": "execute_result"
    }
   ],
   "source": [
    "df2 = df1"
   ]
  },
  {
   "cell_type": "code",
   "execution_count": 81,
   "metadata": {},
   "outputs": [
    {
     "data": {
      "text/html": [
       "<table class=\"data-frame\"><thead><tr><th></th><th>F</th><th>B</th></tr><tr><th></th><th>Int64</th><th>String</th></tr></thead><tbody><p>20 rows × 2 columns</p><tr><th>1</th><td>1</td><td>a</td></tr><tr><th>2</th><td>2</td><td>b</td></tr><tr><th>3</th><td>3</td><td>c</td></tr><tr><th>4</th><td>4</td><td>d</td></tr><tr><th>5</th><td>5</td><td>e</td></tr><tr><th>6</th><td>6</td><td>f</td></tr><tr><th>7</th><td>7</td><td>g</td></tr><tr><th>8</th><td>8</td><td>h</td></tr><tr><th>9</th><td>9</td><td>i</td></tr><tr><th>10</th><td>10</td><td>j</td></tr><tr><th>11</th><td>1</td><td>a</td></tr><tr><th>12</th><td>2</td><td>b</td></tr><tr><th>13</th><td>3</td><td>c</td></tr><tr><th>14</th><td>4</td><td>d</td></tr><tr><th>15</th><td>5</td><td>e</td></tr><tr><th>16</th><td>6</td><td>f</td></tr><tr><th>17</th><td>7</td><td>g</td></tr><tr><th>18</th><td>8</td><td>h</td></tr><tr><th>19</th><td>9</td><td>i</td></tr><tr><th>20</th><td>10</td><td>j</td></tr></tbody></table>"
      ],
      "text/latex": [
       "\\begin{tabular}{r|cc}\n",
       "\t& F & B\\\\\n",
       "\t\\hline\n",
       "\t& Int64 & String\\\\\n",
       "\t\\hline\n",
       "\t1 & 1 & a \\\\\n",
       "\t2 & 2 & b \\\\\n",
       "\t3 & 3 & c \\\\\n",
       "\t4 & 4 & d \\\\\n",
       "\t5 & 5 & e \\\\\n",
       "\t6 & 6 & f \\\\\n",
       "\t7 & 7 & g \\\\\n",
       "\t8 & 8 & h \\\\\n",
       "\t9 & 9 & i \\\\\n",
       "\t10 & 10 & j \\\\\n",
       "\t11 & 1 & a \\\\\n",
       "\t12 & 2 & b \\\\\n",
       "\t13 & 3 & c \\\\\n",
       "\t14 & 4 & d \\\\\n",
       "\t15 & 5 & e \\\\\n",
       "\t16 & 6 & f \\\\\n",
       "\t17 & 7 & g \\\\\n",
       "\t18 & 8 & h \\\\\n",
       "\t19 & 9 & i \\\\\n",
       "\t20 & 10 & j \\\\\n",
       "\\end{tabular}\n"
      ],
      "text/plain": [
       "20×2 DataFrame\n",
       "│ Row │ F     │ B      │\n",
       "│     │ \u001b[90mInt64\u001b[39m │ \u001b[90mString\u001b[39m │\n",
       "├─────┼───────┼────────┤\n",
       "│ 1   │ 1     │ a      │\n",
       "│ 2   │ 2     │ b      │\n",
       "│ 3   │ 3     │ c      │\n",
       "│ 4   │ 4     │ d      │\n",
       "│ 5   │ 5     │ e      │\n",
       "│ 6   │ 6     │ f      │\n",
       "│ 7   │ 7     │ g      │\n",
       "│ 8   │ 8     │ h      │\n",
       "│ 9   │ 9     │ i      │\n",
       "│ 10  │ 10    │ j      │\n",
       "│ 11  │ 1     │ a      │\n",
       "│ 12  │ 2     │ b      │\n",
       "│ 13  │ 3     │ c      │\n",
       "│ 14  │ 4     │ d      │\n",
       "│ 15  │ 5     │ e      │\n",
       "│ 16  │ 6     │ f      │\n",
       "│ 17  │ 7     │ g      │\n",
       "│ 18  │ 8     │ h      │\n",
       "│ 19  │ 9     │ i      │\n",
       "│ 20  │ 10    │ j      │"
      ]
     },
     "execution_count": 81,
     "metadata": {},
     "output_type": "execute_result"
    }
   ],
   "source": [
    "vcat(df1, df2) #É a mesma coisa de [df1; df2]: junta dataframes pelas linhas. Necessariamente as colunas devem ter os mesmos nomes."
   ]
  },
  {
   "cell_type": "code",
   "execution_count": 84,
   "metadata": {},
   "outputs": [
    {
     "data": {
      "text/html": [
       "<table class=\"data-frame\"><thead><tr><th></th><th>F</th><th>B</th><th>F_1</th><th>B_1</th></tr><tr><th></th><th>Int64</th><th>String</th><th>Int64</th><th>String</th></tr></thead><tbody><p>10 rows × 4 columns</p><tr><th>1</th><td>1</td><td>a</td><td>1</td><td>a</td></tr><tr><th>2</th><td>2</td><td>b</td><td>2</td><td>b</td></tr><tr><th>3</th><td>3</td><td>c</td><td>3</td><td>c</td></tr><tr><th>4</th><td>4</td><td>d</td><td>4</td><td>d</td></tr><tr><th>5</th><td>5</td><td>e</td><td>5</td><td>e</td></tr><tr><th>6</th><td>6</td><td>f</td><td>6</td><td>f</td></tr><tr><th>7</th><td>7</td><td>g</td><td>7</td><td>g</td></tr><tr><th>8</th><td>8</td><td>h</td><td>8</td><td>h</td></tr><tr><th>9</th><td>9</td><td>i</td><td>9</td><td>i</td></tr><tr><th>10</th><td>10</td><td>j</td><td>10</td><td>j</td></tr></tbody></table>"
      ],
      "text/latex": [
       "\\begin{tabular}{r|cccc}\n",
       "\t& F & B & F\\_1 & B\\_1\\\\\n",
       "\t\\hline\n",
       "\t& Int64 & String & Int64 & String\\\\\n",
       "\t\\hline\n",
       "\t1 & 1 & a & 1 & a \\\\\n",
       "\t2 & 2 & b & 2 & b \\\\\n",
       "\t3 & 3 & c & 3 & c \\\\\n",
       "\t4 & 4 & d & 4 & d \\\\\n",
       "\t5 & 5 & e & 5 & e \\\\\n",
       "\t6 & 6 & f & 6 & f \\\\\n",
       "\t7 & 7 & g & 7 & g \\\\\n",
       "\t8 & 8 & h & 8 & h \\\\\n",
       "\t9 & 9 & i & 9 & i \\\\\n",
       "\t10 & 10 & j & 10 & j \\\\\n",
       "\\end{tabular}\n"
      ],
      "text/plain": [
       "10×4 DataFrame\n",
       "│ Row │ F     │ B      │ F_1   │ B_1    │\n",
       "│     │ \u001b[90mInt64\u001b[39m │ \u001b[90mString\u001b[39m │ \u001b[90mInt64\u001b[39m │ \u001b[90mString\u001b[39m │\n",
       "├─────┼───────┼────────┼───────┼────────┤\n",
       "│ 1   │ 1     │ a      │ 1     │ a      │\n",
       "│ 2   │ 2     │ b      │ 2     │ b      │\n",
       "│ 3   │ 3     │ c      │ 3     │ c      │\n",
       "│ 4   │ 4     │ d      │ 4     │ d      │\n",
       "│ 5   │ 5     │ e      │ 5     │ e      │\n",
       "│ 6   │ 6     │ f      │ 6     │ f      │\n",
       "│ 7   │ 7     │ g      │ 7     │ g      │\n",
       "│ 8   │ 8     │ h      │ 8     │ h      │\n",
       "│ 9   │ 9     │ i      │ 9     │ i      │\n",
       "│ 10  │ 10    │ j      │ 10    │ j      │"
      ]
     },
     "execution_count": 84,
     "metadata": {},
     "output_type": "execute_result"
    }
   ],
   "source": [
    "hcat(df1,df2,makeunique=true) # Quando suas colunas têm os mesmos nomes, o Julia fica confuso e não entende como você, jovem, quereria um df com duas colunas com o mesmo nome. E aí você diz \"makeunique\", ou seja: \"faça com que os nomes das colunas sejam únicos\"."
   ]
  },
  {
   "cell_type": "markdown",
   "metadata": {},
   "source": [
    " Caso você precise fazer mesclar dois dfs eliminando redundâncias, você precisa buscar funções como o join do dplyr. A gente não vai entrar nestes detalhes por motivos de tempo. Mas fique à vontade: [como mesclar dataframes eliminando redundâncias no Julia?](http://bfy.tw/NJWa)."
   ]
  },
  {
   "cell_type": "markdown",
   "metadata": {},
   "source": [
    "Vamos testar uns reshapes pra ver o que acontece!"
   ]
  },
  {
   "cell_type": "code",
   "execution_count": 86,
   "metadata": {},
   "outputs": [
    {
     "data": {
      "text/html": [
       "<table class=\"data-frame\"><thead><tr><th></th><th>SepalLength</th><th>SepalWidth</th><th>PetalLength</th><th>PetalWidth</th><th>Species</th></tr><tr><th></th><th>Float64</th><th>Float64</th><th>Float64</th><th>Float64</th><th>Categorical…</th></tr></thead><tbody><p>150 rows × 5 columns</p><tr><th>1</th><td>5.1</td><td>3.5</td><td>1.4</td><td>0.2</td><td>setosa</td></tr><tr><th>2</th><td>4.9</td><td>3.0</td><td>1.4</td><td>0.2</td><td>setosa</td></tr><tr><th>3</th><td>4.7</td><td>3.2</td><td>1.3</td><td>0.2</td><td>setosa</td></tr><tr><th>4</th><td>4.6</td><td>3.1</td><td>1.5</td><td>0.2</td><td>setosa</td></tr><tr><th>5</th><td>5.0</td><td>3.6</td><td>1.4</td><td>0.2</td><td>setosa</td></tr><tr><th>6</th><td>5.4</td><td>3.9</td><td>1.7</td><td>0.4</td><td>setosa</td></tr><tr><th>7</th><td>4.6</td><td>3.4</td><td>1.4</td><td>0.3</td><td>setosa</td></tr><tr><th>8</th><td>5.0</td><td>3.4</td><td>1.5</td><td>0.2</td><td>setosa</td></tr><tr><th>9</th><td>4.4</td><td>2.9</td><td>1.4</td><td>0.2</td><td>setosa</td></tr><tr><th>10</th><td>4.9</td><td>3.1</td><td>1.5</td><td>0.1</td><td>setosa</td></tr><tr><th>11</th><td>5.4</td><td>3.7</td><td>1.5</td><td>0.2</td><td>setosa</td></tr><tr><th>12</th><td>4.8</td><td>3.4</td><td>1.6</td><td>0.2</td><td>setosa</td></tr><tr><th>13</th><td>4.8</td><td>3.0</td><td>1.4</td><td>0.1</td><td>setosa</td></tr><tr><th>14</th><td>4.3</td><td>3.0</td><td>1.1</td><td>0.1</td><td>setosa</td></tr><tr><th>15</th><td>5.8</td><td>4.0</td><td>1.2</td><td>0.2</td><td>setosa</td></tr><tr><th>16</th><td>5.7</td><td>4.4</td><td>1.5</td><td>0.4</td><td>setosa</td></tr><tr><th>17</th><td>5.4</td><td>3.9</td><td>1.3</td><td>0.4</td><td>setosa</td></tr><tr><th>18</th><td>5.1</td><td>3.5</td><td>1.4</td><td>0.3</td><td>setosa</td></tr><tr><th>19</th><td>5.7</td><td>3.8</td><td>1.7</td><td>0.3</td><td>setosa</td></tr><tr><th>20</th><td>5.1</td><td>3.8</td><td>1.5</td><td>0.3</td><td>setosa</td></tr><tr><th>21</th><td>5.4</td><td>3.4</td><td>1.7</td><td>0.2</td><td>setosa</td></tr><tr><th>22</th><td>5.1</td><td>3.7</td><td>1.5</td><td>0.4</td><td>setosa</td></tr><tr><th>23</th><td>4.6</td><td>3.6</td><td>1.0</td><td>0.2</td><td>setosa</td></tr><tr><th>24</th><td>5.1</td><td>3.3</td><td>1.7</td><td>0.5</td><td>setosa</td></tr><tr><th>25</th><td>4.8</td><td>3.4</td><td>1.9</td><td>0.2</td><td>setosa</td></tr><tr><th>26</th><td>5.0</td><td>3.0</td><td>1.6</td><td>0.2</td><td>setosa</td></tr><tr><th>27</th><td>5.0</td><td>3.4</td><td>1.6</td><td>0.4</td><td>setosa</td></tr><tr><th>28</th><td>5.2</td><td>3.5</td><td>1.5</td><td>0.2</td><td>setosa</td></tr><tr><th>29</th><td>5.2</td><td>3.4</td><td>1.4</td><td>0.2</td><td>setosa</td></tr><tr><th>30</th><td>4.7</td><td>3.2</td><td>1.6</td><td>0.2</td><td>setosa</td></tr><tr><th>&vellip;</th><td>&vellip;</td><td>&vellip;</td><td>&vellip;</td><td>&vellip;</td><td>&vellip;</td></tr></tbody></table>"
      ],
      "text/latex": [
       "\\begin{tabular}{r|ccccc}\n",
       "\t& SepalLength & SepalWidth & PetalLength & PetalWidth & Species\\\\\n",
       "\t\\hline\n",
       "\t& Float64 & Float64 & Float64 & Float64 & Categorical…\\\\\n",
       "\t\\hline\n",
       "\t1 & 5.1 & 3.5 & 1.4 & 0.2 & setosa \\\\\n",
       "\t2 & 4.9 & 3.0 & 1.4 & 0.2 & setosa \\\\\n",
       "\t3 & 4.7 & 3.2 & 1.3 & 0.2 & setosa \\\\\n",
       "\t4 & 4.6 & 3.1 & 1.5 & 0.2 & setosa \\\\\n",
       "\t5 & 5.0 & 3.6 & 1.4 & 0.2 & setosa \\\\\n",
       "\t6 & 5.4 & 3.9 & 1.7 & 0.4 & setosa \\\\\n",
       "\t7 & 4.6 & 3.4 & 1.4 & 0.3 & setosa \\\\\n",
       "\t8 & 5.0 & 3.4 & 1.5 & 0.2 & setosa \\\\\n",
       "\t9 & 4.4 & 2.9 & 1.4 & 0.2 & setosa \\\\\n",
       "\t10 & 4.9 & 3.1 & 1.5 & 0.1 & setosa \\\\\n",
       "\t11 & 5.4 & 3.7 & 1.5 & 0.2 & setosa \\\\\n",
       "\t12 & 4.8 & 3.4 & 1.6 & 0.2 & setosa \\\\\n",
       "\t13 & 4.8 & 3.0 & 1.4 & 0.1 & setosa \\\\\n",
       "\t14 & 4.3 & 3.0 & 1.1 & 0.1 & setosa \\\\\n",
       "\t15 & 5.8 & 4.0 & 1.2 & 0.2 & setosa \\\\\n",
       "\t16 & 5.7 & 4.4 & 1.5 & 0.4 & setosa \\\\\n",
       "\t17 & 5.4 & 3.9 & 1.3 & 0.4 & setosa \\\\\n",
       "\t18 & 5.1 & 3.5 & 1.4 & 0.3 & setosa \\\\\n",
       "\t19 & 5.7 & 3.8 & 1.7 & 0.3 & setosa \\\\\n",
       "\t20 & 5.1 & 3.8 & 1.5 & 0.3 & setosa \\\\\n",
       "\t21 & 5.4 & 3.4 & 1.7 & 0.2 & setosa \\\\\n",
       "\t22 & 5.1 & 3.7 & 1.5 & 0.4 & setosa \\\\\n",
       "\t23 & 4.6 & 3.6 & 1.0 & 0.2 & setosa \\\\\n",
       "\t24 & 5.1 & 3.3 & 1.7 & 0.5 & setosa \\\\\n",
       "\t25 & 4.8 & 3.4 & 1.9 & 0.2 & setosa \\\\\n",
       "\t26 & 5.0 & 3.0 & 1.6 & 0.2 & setosa \\\\\n",
       "\t27 & 5.0 & 3.4 & 1.6 & 0.4 & setosa \\\\\n",
       "\t28 & 5.2 & 3.5 & 1.5 & 0.2 & setosa \\\\\n",
       "\t29 & 5.2 & 3.4 & 1.4 & 0.2 & setosa \\\\\n",
       "\t30 & 4.7 & 3.2 & 1.6 & 0.2 & setosa \\\\\n",
       "\t$\\dots$ & $\\dots$ & $\\dots$ & $\\dots$ & $\\dots$ & $\\dots$ \\\\\n",
       "\\end{tabular}\n"
      ],
      "text/plain": [
       "150×5 DataFrame\n",
       "│ Row │ SepalLength │ SepalWidth │ PetalLength │ PetalWidth │ Species      │\n",
       "│     │ \u001b[90mFloat64\u001b[39m     │ \u001b[90mFloat64\u001b[39m    │ \u001b[90mFloat64\u001b[39m     │ \u001b[90mFloat64\u001b[39m    │ \u001b[90mCategorical…\u001b[39m │\n",
       "├─────┼─────────────┼────────────┼─────────────┼────────────┼──────────────┤\n",
       "│ 1   │ 5.1         │ 3.5        │ 1.4         │ 0.2        │ setosa       │\n",
       "│ 2   │ 4.9         │ 3.0        │ 1.4         │ 0.2        │ setosa       │\n",
       "│ 3   │ 4.7         │ 3.2        │ 1.3         │ 0.2        │ setosa       │\n",
       "│ 4   │ 4.6         │ 3.1        │ 1.5         │ 0.2        │ setosa       │\n",
       "│ 5   │ 5.0         │ 3.6        │ 1.4         │ 0.2        │ setosa       │\n",
       "│ 6   │ 5.4         │ 3.9        │ 1.7         │ 0.4        │ setosa       │\n",
       "│ 7   │ 4.6         │ 3.4        │ 1.4         │ 0.3        │ setosa       │\n",
       "│ 8   │ 5.0         │ 3.4        │ 1.5         │ 0.2        │ setosa       │\n",
       "│ 9   │ 4.4         │ 2.9        │ 1.4         │ 0.2        │ setosa       │\n",
       "│ 10  │ 4.9         │ 3.1        │ 1.5         │ 0.1        │ setosa       │\n",
       "⋮\n",
       "│ 140 │ 6.9         │ 3.1        │ 5.4         │ 2.1        │ virginica    │\n",
       "│ 141 │ 6.7         │ 3.1        │ 5.6         │ 2.4        │ virginica    │\n",
       "│ 142 │ 6.9         │ 3.1        │ 5.1         │ 2.3        │ virginica    │\n",
       "│ 143 │ 5.8         │ 2.7        │ 5.1         │ 1.9        │ virginica    │\n",
       "│ 144 │ 6.8         │ 3.2        │ 5.9         │ 2.3        │ virginica    │\n",
       "│ 145 │ 6.7         │ 3.3        │ 5.7         │ 2.5        │ virginica    │\n",
       "│ 146 │ 6.7         │ 3.0        │ 5.2         │ 2.3        │ virginica    │\n",
       "│ 147 │ 6.3         │ 2.5        │ 5.0         │ 1.9        │ virginica    │\n",
       "│ 148 │ 6.5         │ 3.0        │ 5.2         │ 2.0        │ virginica    │\n",
       "│ 149 │ 6.2         │ 3.4        │ 5.4         │ 2.3        │ virginica    │\n",
       "│ 150 │ 5.9         │ 3.0        │ 5.1         │ 1.8        │ virginica    │"
      ]
     },
     "execution_count": 86,
     "metadata": {},
     "output_type": "execute_result"
    }
   ],
   "source": [
    "iris = dataset(\"datasets\", \"iris\")"
   ]
  },
  {
   "cell_type": "code",
   "execution_count": 92,
   "metadata": {},
   "outputs": [
    {
     "data": {
      "text/plain": [
       "1:150"
      ]
     },
     "execution_count": 92,
     "metadata": {},
     "output_type": "execute_result"
    }
   ],
   "source": [
    "iris[:id] = 1:size(iris,1) # Cria uma coluna chamada id no df iris com uma sequência de 1 até o número de linhas do df. O mesmo que `iris[:id] = 1:nrow(iris)`"
   ]
  },
  {
   "cell_type": "code",
   "execution_count": 93,
   "metadata": {},
   "outputs": [
    {
     "data": {
      "text/html": [
       "<table class=\"data-frame\"><thead><tr><th></th><th>variable</th><th>value</th><th>Species</th><th>id</th></tr><tr><th></th><th>Symbol</th><th>Float64</th><th>Categorical…</th><th>Int64</th></tr></thead><tbody><p>600 rows × 4 columns</p><tr><th>1</th><td>SepalLength</td><td>5.1</td><td>setosa</td><td>1</td></tr><tr><th>2</th><td>SepalLength</td><td>4.9</td><td>setosa</td><td>2</td></tr><tr><th>3</th><td>SepalLength</td><td>4.7</td><td>setosa</td><td>3</td></tr><tr><th>4</th><td>SepalLength</td><td>4.6</td><td>setosa</td><td>4</td></tr><tr><th>5</th><td>SepalLength</td><td>5.0</td><td>setosa</td><td>5</td></tr><tr><th>6</th><td>SepalLength</td><td>5.4</td><td>setosa</td><td>6</td></tr><tr><th>7</th><td>SepalLength</td><td>4.6</td><td>setosa</td><td>7</td></tr><tr><th>8</th><td>SepalLength</td><td>5.0</td><td>setosa</td><td>8</td></tr><tr><th>9</th><td>SepalLength</td><td>4.4</td><td>setosa</td><td>9</td></tr><tr><th>10</th><td>SepalLength</td><td>4.9</td><td>setosa</td><td>10</td></tr><tr><th>11</th><td>SepalLength</td><td>5.4</td><td>setosa</td><td>11</td></tr><tr><th>12</th><td>SepalLength</td><td>4.8</td><td>setosa</td><td>12</td></tr><tr><th>13</th><td>SepalLength</td><td>4.8</td><td>setosa</td><td>13</td></tr><tr><th>14</th><td>SepalLength</td><td>4.3</td><td>setosa</td><td>14</td></tr><tr><th>15</th><td>SepalLength</td><td>5.8</td><td>setosa</td><td>15</td></tr><tr><th>16</th><td>SepalLength</td><td>5.7</td><td>setosa</td><td>16</td></tr><tr><th>17</th><td>SepalLength</td><td>5.4</td><td>setosa</td><td>17</td></tr><tr><th>18</th><td>SepalLength</td><td>5.1</td><td>setosa</td><td>18</td></tr><tr><th>19</th><td>SepalLength</td><td>5.7</td><td>setosa</td><td>19</td></tr><tr><th>20</th><td>SepalLength</td><td>5.1</td><td>setosa</td><td>20</td></tr><tr><th>21</th><td>SepalLength</td><td>5.4</td><td>setosa</td><td>21</td></tr><tr><th>22</th><td>SepalLength</td><td>5.1</td><td>setosa</td><td>22</td></tr><tr><th>23</th><td>SepalLength</td><td>4.6</td><td>setosa</td><td>23</td></tr><tr><th>24</th><td>SepalLength</td><td>5.1</td><td>setosa</td><td>24</td></tr><tr><th>25</th><td>SepalLength</td><td>4.8</td><td>setosa</td><td>25</td></tr><tr><th>26</th><td>SepalLength</td><td>5.0</td><td>setosa</td><td>26</td></tr><tr><th>27</th><td>SepalLength</td><td>5.0</td><td>setosa</td><td>27</td></tr><tr><th>28</th><td>SepalLength</td><td>5.2</td><td>setosa</td><td>28</td></tr><tr><th>29</th><td>SepalLength</td><td>5.2</td><td>setosa</td><td>29</td></tr><tr><th>30</th><td>SepalLength</td><td>4.7</td><td>setosa</td><td>30</td></tr><tr><th>&vellip;</th><td>&vellip;</td><td>&vellip;</td><td>&vellip;</td><td>&vellip;</td></tr></tbody></table>"
      ],
      "text/latex": [
       "\\begin{tabular}{r|cccc}\n",
       "\t& variable & value & Species & id\\\\\n",
       "\t\\hline\n",
       "\t& Symbol & Float64 & Categorical… & Int64\\\\\n",
       "\t\\hline\n",
       "\t1 & SepalLength & 5.1 & setosa & 1 \\\\\n",
       "\t2 & SepalLength & 4.9 & setosa & 2 \\\\\n",
       "\t3 & SepalLength & 4.7 & setosa & 3 \\\\\n",
       "\t4 & SepalLength & 4.6 & setosa & 4 \\\\\n",
       "\t5 & SepalLength & 5.0 & setosa & 5 \\\\\n",
       "\t6 & SepalLength & 5.4 & setosa & 6 \\\\\n",
       "\t7 & SepalLength & 4.6 & setosa & 7 \\\\\n",
       "\t8 & SepalLength & 5.0 & setosa & 8 \\\\\n",
       "\t9 & SepalLength & 4.4 & setosa & 9 \\\\\n",
       "\t10 & SepalLength & 4.9 & setosa & 10 \\\\\n",
       "\t11 & SepalLength & 5.4 & setosa & 11 \\\\\n",
       "\t12 & SepalLength & 4.8 & setosa & 12 \\\\\n",
       "\t13 & SepalLength & 4.8 & setosa & 13 \\\\\n",
       "\t14 & SepalLength & 4.3 & setosa & 14 \\\\\n",
       "\t15 & SepalLength & 5.8 & setosa & 15 \\\\\n",
       "\t16 & SepalLength & 5.7 & setosa & 16 \\\\\n",
       "\t17 & SepalLength & 5.4 & setosa & 17 \\\\\n",
       "\t18 & SepalLength & 5.1 & setosa & 18 \\\\\n",
       "\t19 & SepalLength & 5.7 & setosa & 19 \\\\\n",
       "\t20 & SepalLength & 5.1 & setosa & 20 \\\\\n",
       "\t21 & SepalLength & 5.4 & setosa & 21 \\\\\n",
       "\t22 & SepalLength & 5.1 & setosa & 22 \\\\\n",
       "\t23 & SepalLength & 4.6 & setosa & 23 \\\\\n",
       "\t24 & SepalLength & 5.1 & setosa & 24 \\\\\n",
       "\t25 & SepalLength & 4.8 & setosa & 25 \\\\\n",
       "\t26 & SepalLength & 5.0 & setosa & 26 \\\\\n",
       "\t27 & SepalLength & 5.0 & setosa & 27 \\\\\n",
       "\t28 & SepalLength & 5.2 & setosa & 28 \\\\\n",
       "\t29 & SepalLength & 5.2 & setosa & 29 \\\\\n",
       "\t30 & SepalLength & 4.7 & setosa & 30 \\\\\n",
       "\t$\\dots$ & $\\dots$ & $\\dots$ & $\\dots$ & $\\dots$ \\\\\n",
       "\\end{tabular}\n"
      ],
      "text/plain": [
       "600×4 DataFrame\n",
       "│ Row │ variable    │ value   │ Species      │ id    │\n",
       "│     │ \u001b[90mSymbol\u001b[39m      │ \u001b[90mFloat64\u001b[39m │ \u001b[90mCategorical…\u001b[39m │ \u001b[90mInt64\u001b[39m │\n",
       "├─────┼─────────────┼─────────┼──────────────┼───────┤\n",
       "│ 1   │ SepalLength │ 5.1     │ setosa       │ 1     │\n",
       "│ 2   │ SepalLength │ 4.9     │ setosa       │ 2     │\n",
       "│ 3   │ SepalLength │ 4.7     │ setosa       │ 3     │\n",
       "│ 4   │ SepalLength │ 4.6     │ setosa       │ 4     │\n",
       "│ 5   │ SepalLength │ 5.0     │ setosa       │ 5     │\n",
       "│ 6   │ SepalLength │ 5.4     │ setosa       │ 6     │\n",
       "│ 7   │ SepalLength │ 4.6     │ setosa       │ 7     │\n",
       "│ 8   │ SepalLength │ 5.0     │ setosa       │ 8     │\n",
       "│ 9   │ SepalLength │ 4.4     │ setosa       │ 9     │\n",
       "│ 10  │ SepalLength │ 4.9     │ setosa       │ 10    │\n",
       "⋮\n",
       "│ 590 │ PetalWidth  │ 2.1     │ virginica    │ 140   │\n",
       "│ 591 │ PetalWidth  │ 2.4     │ virginica    │ 141   │\n",
       "│ 592 │ PetalWidth  │ 2.3     │ virginica    │ 142   │\n",
       "│ 593 │ PetalWidth  │ 1.9     │ virginica    │ 143   │\n",
       "│ 594 │ PetalWidth  │ 2.3     │ virginica    │ 144   │\n",
       "│ 595 │ PetalWidth  │ 2.5     │ virginica    │ 145   │\n",
       "│ 596 │ PetalWidth  │ 2.3     │ virginica    │ 146   │\n",
       "│ 597 │ PetalWidth  │ 1.9     │ virginica    │ 147   │\n",
       "│ 598 │ PetalWidth  │ 2.0     │ virginica    │ 148   │\n",
       "│ 599 │ PetalWidth  │ 2.3     │ virginica    │ 149   │\n",
       "│ 600 │ PetalWidth  │ 1.8     │ virginica    │ 150   │"
      ]
     },
     "execution_count": 93,
     "metadata": {},
     "output_type": "execute_result"
    }
   ],
   "source": [
    "iris_stacked = stack(iris) #Passa de um df wide pra um df long, listando todas as colunas numéricas com base na variável categórica"
   ]
  },
  {
   "cell_type": "code",
   "execution_count": 94,
   "metadata": {},
   "outputs": [
    {
     "data": {
      "text/html": [
       "<table class=\"data-frame\"><thead><tr><th></th><th>variable</th><th>value</th><th>SepalLength</th><th>Species</th><th>id</th></tr><tr><th></th><th>Symbol</th><th>Float64</th><th>Float64</th><th>Categorical…</th><th>Int64</th></tr></thead><tbody><p>450 rows × 5 columns</p><tr><th>1</th><td>SepalWidth</td><td>3.5</td><td>5.1</td><td>setosa</td><td>1</td></tr><tr><th>2</th><td>SepalWidth</td><td>3.0</td><td>4.9</td><td>setosa</td><td>2</td></tr><tr><th>3</th><td>SepalWidth</td><td>3.2</td><td>4.7</td><td>setosa</td><td>3</td></tr><tr><th>4</th><td>SepalWidth</td><td>3.1</td><td>4.6</td><td>setosa</td><td>4</td></tr><tr><th>5</th><td>SepalWidth</td><td>3.6</td><td>5.0</td><td>setosa</td><td>5</td></tr><tr><th>6</th><td>SepalWidth</td><td>3.9</td><td>5.4</td><td>setosa</td><td>6</td></tr><tr><th>7</th><td>SepalWidth</td><td>3.4</td><td>4.6</td><td>setosa</td><td>7</td></tr><tr><th>8</th><td>SepalWidth</td><td>3.4</td><td>5.0</td><td>setosa</td><td>8</td></tr><tr><th>9</th><td>SepalWidth</td><td>2.9</td><td>4.4</td><td>setosa</td><td>9</td></tr><tr><th>10</th><td>SepalWidth</td><td>3.1</td><td>4.9</td><td>setosa</td><td>10</td></tr><tr><th>11</th><td>SepalWidth</td><td>3.7</td><td>5.4</td><td>setosa</td><td>11</td></tr><tr><th>12</th><td>SepalWidth</td><td>3.4</td><td>4.8</td><td>setosa</td><td>12</td></tr><tr><th>13</th><td>SepalWidth</td><td>3.0</td><td>4.8</td><td>setosa</td><td>13</td></tr><tr><th>14</th><td>SepalWidth</td><td>3.0</td><td>4.3</td><td>setosa</td><td>14</td></tr><tr><th>15</th><td>SepalWidth</td><td>4.0</td><td>5.8</td><td>setosa</td><td>15</td></tr><tr><th>16</th><td>SepalWidth</td><td>4.4</td><td>5.7</td><td>setosa</td><td>16</td></tr><tr><th>17</th><td>SepalWidth</td><td>3.9</td><td>5.4</td><td>setosa</td><td>17</td></tr><tr><th>18</th><td>SepalWidth</td><td>3.5</td><td>5.1</td><td>setosa</td><td>18</td></tr><tr><th>19</th><td>SepalWidth</td><td>3.8</td><td>5.7</td><td>setosa</td><td>19</td></tr><tr><th>20</th><td>SepalWidth</td><td>3.8</td><td>5.1</td><td>setosa</td><td>20</td></tr><tr><th>21</th><td>SepalWidth</td><td>3.4</td><td>5.4</td><td>setosa</td><td>21</td></tr><tr><th>22</th><td>SepalWidth</td><td>3.7</td><td>5.1</td><td>setosa</td><td>22</td></tr><tr><th>23</th><td>SepalWidth</td><td>3.6</td><td>4.6</td><td>setosa</td><td>23</td></tr><tr><th>24</th><td>SepalWidth</td><td>3.3</td><td>5.1</td><td>setosa</td><td>24</td></tr><tr><th>25</th><td>SepalWidth</td><td>3.4</td><td>4.8</td><td>setosa</td><td>25</td></tr><tr><th>26</th><td>SepalWidth</td><td>3.0</td><td>5.0</td><td>setosa</td><td>26</td></tr><tr><th>27</th><td>SepalWidth</td><td>3.4</td><td>5.0</td><td>setosa</td><td>27</td></tr><tr><th>28</th><td>SepalWidth</td><td>3.5</td><td>5.2</td><td>setosa</td><td>28</td></tr><tr><th>29</th><td>SepalWidth</td><td>3.4</td><td>5.2</td><td>setosa</td><td>29</td></tr><tr><th>30</th><td>SepalWidth</td><td>3.2</td><td>4.7</td><td>setosa</td><td>30</td></tr><tr><th>&vellip;</th><td>&vellip;</td><td>&vellip;</td><td>&vellip;</td><td>&vellip;</td><td>&vellip;</td></tr></tbody></table>"
      ],
      "text/latex": [
       "\\begin{tabular}{r|ccccc}\n",
       "\t& variable & value & SepalLength & Species & id\\\\\n",
       "\t\\hline\n",
       "\t& Symbol & Float64 & Float64 & Categorical… & Int64\\\\\n",
       "\t\\hline\n",
       "\t1 & SepalWidth & 3.5 & 5.1 & setosa & 1 \\\\\n",
       "\t2 & SepalWidth & 3.0 & 4.9 & setosa & 2 \\\\\n",
       "\t3 & SepalWidth & 3.2 & 4.7 & setosa & 3 \\\\\n",
       "\t4 & SepalWidth & 3.1 & 4.6 & setosa & 4 \\\\\n",
       "\t5 & SepalWidth & 3.6 & 5.0 & setosa & 5 \\\\\n",
       "\t6 & SepalWidth & 3.9 & 5.4 & setosa & 6 \\\\\n",
       "\t7 & SepalWidth & 3.4 & 4.6 & setosa & 7 \\\\\n",
       "\t8 & SepalWidth & 3.4 & 5.0 & setosa & 8 \\\\\n",
       "\t9 & SepalWidth & 2.9 & 4.4 & setosa & 9 \\\\\n",
       "\t10 & SepalWidth & 3.1 & 4.9 & setosa & 10 \\\\\n",
       "\t11 & SepalWidth & 3.7 & 5.4 & setosa & 11 \\\\\n",
       "\t12 & SepalWidth & 3.4 & 4.8 & setosa & 12 \\\\\n",
       "\t13 & SepalWidth & 3.0 & 4.8 & setosa & 13 \\\\\n",
       "\t14 & SepalWidth & 3.0 & 4.3 & setosa & 14 \\\\\n",
       "\t15 & SepalWidth & 4.0 & 5.8 & setosa & 15 \\\\\n",
       "\t16 & SepalWidth & 4.4 & 5.7 & setosa & 16 \\\\\n",
       "\t17 & SepalWidth & 3.9 & 5.4 & setosa & 17 \\\\\n",
       "\t18 & SepalWidth & 3.5 & 5.1 & setosa & 18 \\\\\n",
       "\t19 & SepalWidth & 3.8 & 5.7 & setosa & 19 \\\\\n",
       "\t20 & SepalWidth & 3.8 & 5.1 & setosa & 20 \\\\\n",
       "\t21 & SepalWidth & 3.4 & 5.4 & setosa & 21 \\\\\n",
       "\t22 & SepalWidth & 3.7 & 5.1 & setosa & 22 \\\\\n",
       "\t23 & SepalWidth & 3.6 & 4.6 & setosa & 23 \\\\\n",
       "\t24 & SepalWidth & 3.3 & 5.1 & setosa & 24 \\\\\n",
       "\t25 & SepalWidth & 3.4 & 4.8 & setosa & 25 \\\\\n",
       "\t26 & SepalWidth & 3.0 & 5.0 & setosa & 26 \\\\\n",
       "\t27 & SepalWidth & 3.4 & 5.0 & setosa & 27 \\\\\n",
       "\t28 & SepalWidth & 3.5 & 5.2 & setosa & 28 \\\\\n",
       "\t29 & SepalWidth & 3.4 & 5.2 & setosa & 29 \\\\\n",
       "\t30 & SepalWidth & 3.2 & 4.7 & setosa & 30 \\\\\n",
       "\t$\\dots$ & $\\dots$ & $\\dots$ & $\\dots$ & $\\dots$ & $\\dots$ \\\\\n",
       "\\end{tabular}\n"
      ],
      "text/plain": [
       "450×5 DataFrame\n",
       "│ Row │ variable   │ value   │ SepalLength │ Species      │ id    │\n",
       "│     │ \u001b[90mSymbol\u001b[39m     │ \u001b[90mFloat64\u001b[39m │ \u001b[90mFloat64\u001b[39m     │ \u001b[90mCategorical…\u001b[39m │ \u001b[90mInt64\u001b[39m │\n",
       "├─────┼────────────┼─────────┼─────────────┼──────────────┼───────┤\n",
       "│ 1   │ SepalWidth │ 3.5     │ 5.1         │ setosa       │ 1     │\n",
       "│ 2   │ SepalWidth │ 3.0     │ 4.9         │ setosa       │ 2     │\n",
       "│ 3   │ SepalWidth │ 3.2     │ 4.7         │ setosa       │ 3     │\n",
       "│ 4   │ SepalWidth │ 3.1     │ 4.6         │ setosa       │ 4     │\n",
       "│ 5   │ SepalWidth │ 3.6     │ 5.0         │ setosa       │ 5     │\n",
       "│ 6   │ SepalWidth │ 3.9     │ 5.4         │ setosa       │ 6     │\n",
       "│ 7   │ SepalWidth │ 3.4     │ 4.6         │ setosa       │ 7     │\n",
       "│ 8   │ SepalWidth │ 3.4     │ 5.0         │ setosa       │ 8     │\n",
       "│ 9   │ SepalWidth │ 2.9     │ 4.4         │ setosa       │ 9     │\n",
       "│ 10  │ SepalWidth │ 3.1     │ 4.9         │ setosa       │ 10    │\n",
       "⋮\n",
       "│ 440 │ PetalWidth │ 2.1     │ 6.9         │ virginica    │ 140   │\n",
       "│ 441 │ PetalWidth │ 2.4     │ 6.7         │ virginica    │ 141   │\n",
       "│ 442 │ PetalWidth │ 2.3     │ 6.9         │ virginica    │ 142   │\n",
       "│ 443 │ PetalWidth │ 1.9     │ 5.8         │ virginica    │ 143   │\n",
       "│ 444 │ PetalWidth │ 2.3     │ 6.8         │ virginica    │ 144   │\n",
       "│ 445 │ PetalWidth │ 2.5     │ 6.7         │ virginica    │ 145   │\n",
       "│ 446 │ PetalWidth │ 2.3     │ 6.7         │ virginica    │ 146   │\n",
       "│ 447 │ PetalWidth │ 1.9     │ 6.3         │ virginica    │ 147   │\n",
       "│ 448 │ PetalWidth │ 2.0     │ 6.5         │ virginica    │ 148   │\n",
       "│ 449 │ PetalWidth │ 2.3     │ 6.2         │ virginica    │ 149   │\n",
       "│ 450 │ PetalWidth │ 1.8     │ 5.9         │ virginica    │ 150   │"
      ]
     },
     "execution_count": 94,
     "metadata": {},
     "output_type": "execute_result"
    }
   ],
   "source": [
    "iris_stacked = stack(iris, 2:4) #Faz a mesma operação anterior só com as colunas 2 a 4"
   ]
  },
  {
   "cell_type": "code",
   "execution_count": 99,
   "metadata": {},
   "outputs": [
    {
     "data": {
      "text/html": [
       "<table class=\"data-frame\"><thead><tr><th></th><th>SepalLength</th><th>Species</th><th>id</th><th>PetalLength</th><th>PetalWidth</th><th>SepalWidth</th></tr><tr><th></th><th>Float64</th><th>Categorical…</th><th>Int64</th><th>Float64⍰</th><th>Float64⍰</th><th>Float64⍰</th></tr></thead><tbody><p>150 rows × 6 columns</p><tr><th>1</th><td>4.3</td><td>setosa</td><td>14</td><td>1.1</td><td>0.1</td><td>3.0</td></tr><tr><th>2</th><td>4.4</td><td>setosa</td><td>9</td><td>1.4</td><td>0.2</td><td>2.9</td></tr><tr><th>3</th><td>4.4</td><td>setosa</td><td>39</td><td>1.3</td><td>0.2</td><td>3.0</td></tr><tr><th>4</th><td>4.4</td><td>setosa</td><td>43</td><td>1.3</td><td>0.2</td><td>3.2</td></tr><tr><th>5</th><td>4.5</td><td>setosa</td><td>42</td><td>1.3</td><td>0.3</td><td>2.3</td></tr><tr><th>6</th><td>4.6</td><td>setosa</td><td>4</td><td>1.5</td><td>0.2</td><td>3.1</td></tr><tr><th>7</th><td>4.6</td><td>setosa</td><td>7</td><td>1.4</td><td>0.3</td><td>3.4</td></tr><tr><th>8</th><td>4.6</td><td>setosa</td><td>23</td><td>1.0</td><td>0.2</td><td>3.6</td></tr><tr><th>9</th><td>4.6</td><td>setosa</td><td>48</td><td>1.4</td><td>0.2</td><td>3.2</td></tr><tr><th>10</th><td>4.7</td><td>setosa</td><td>3</td><td>1.3</td><td>0.2</td><td>3.2</td></tr><tr><th>11</th><td>4.7</td><td>setosa</td><td>30</td><td>1.6</td><td>0.2</td><td>3.2</td></tr><tr><th>12</th><td>4.8</td><td>setosa</td><td>12</td><td>1.6</td><td>0.2</td><td>3.4</td></tr><tr><th>13</th><td>4.8</td><td>setosa</td><td>13</td><td>1.4</td><td>0.1</td><td>3.0</td></tr><tr><th>14</th><td>4.8</td><td>setosa</td><td>25</td><td>1.9</td><td>0.2</td><td>3.4</td></tr><tr><th>15</th><td>4.8</td><td>setosa</td><td>31</td><td>1.6</td><td>0.2</td><td>3.1</td></tr><tr><th>16</th><td>4.8</td><td>setosa</td><td>46</td><td>1.4</td><td>0.3</td><td>3.0</td></tr><tr><th>17</th><td>4.9</td><td>setosa</td><td>2</td><td>1.4</td><td>0.2</td><td>3.0</td></tr><tr><th>18</th><td>4.9</td><td>setosa</td><td>10</td><td>1.5</td><td>0.1</td><td>3.1</td></tr><tr><th>19</th><td>4.9</td><td>setosa</td><td>35</td><td>1.5</td><td>0.2</td><td>3.1</td></tr><tr><th>20</th><td>4.9</td><td>setosa</td><td>38</td><td>1.4</td><td>0.1</td><td>3.6</td></tr><tr><th>21</th><td>4.9</td><td>versicolor</td><td>58</td><td>3.3</td><td>1.0</td><td>2.4</td></tr><tr><th>22</th><td>4.9</td><td>virginica</td><td>107</td><td>4.5</td><td>1.7</td><td>2.5</td></tr><tr><th>23</th><td>5.0</td><td>setosa</td><td>5</td><td>1.4</td><td>0.2</td><td>3.6</td></tr><tr><th>24</th><td>5.0</td><td>setosa</td><td>8</td><td>1.5</td><td>0.2</td><td>3.4</td></tr><tr><th>25</th><td>5.0</td><td>setosa</td><td>26</td><td>1.6</td><td>0.2</td><td>3.0</td></tr><tr><th>26</th><td>5.0</td><td>setosa</td><td>27</td><td>1.6</td><td>0.4</td><td>3.4</td></tr><tr><th>27</th><td>5.0</td><td>setosa</td><td>36</td><td>1.2</td><td>0.2</td><td>3.2</td></tr><tr><th>28</th><td>5.0</td><td>setosa</td><td>41</td><td>1.3</td><td>0.3</td><td>3.5</td></tr><tr><th>29</th><td>5.0</td><td>setosa</td><td>44</td><td>1.6</td><td>0.6</td><td>3.5</td></tr><tr><th>30</th><td>5.0</td><td>setosa</td><td>50</td><td>1.4</td><td>0.2</td><td>3.3</td></tr><tr><th>&vellip;</th><td>&vellip;</td><td>&vellip;</td><td>&vellip;</td><td>&vellip;</td><td>&vellip;</td><td>&vellip;</td></tr></tbody></table>"
      ],
      "text/latex": [
       "\\begin{tabular}{r|cccccc}\n",
       "\t& SepalLength & Species & id & PetalLength & PetalWidth & SepalWidth\\\\\n",
       "\t\\hline\n",
       "\t& Float64 & Categorical… & Int64 & Float64⍰ & Float64⍰ & Float64⍰\\\\\n",
       "\t\\hline\n",
       "\t1 & 4.3 & setosa & 14 & 1.1 & 0.1 & 3.0 \\\\\n",
       "\t2 & 4.4 & setosa & 9 & 1.4 & 0.2 & 2.9 \\\\\n",
       "\t3 & 4.4 & setosa & 39 & 1.3 & 0.2 & 3.0 \\\\\n",
       "\t4 & 4.4 & setosa & 43 & 1.3 & 0.2 & 3.2 \\\\\n",
       "\t5 & 4.5 & setosa & 42 & 1.3 & 0.3 & 2.3 \\\\\n",
       "\t6 & 4.6 & setosa & 4 & 1.5 & 0.2 & 3.1 \\\\\n",
       "\t7 & 4.6 & setosa & 7 & 1.4 & 0.3 & 3.4 \\\\\n",
       "\t8 & 4.6 & setosa & 23 & 1.0 & 0.2 & 3.6 \\\\\n",
       "\t9 & 4.6 & setosa & 48 & 1.4 & 0.2 & 3.2 \\\\\n",
       "\t10 & 4.7 & setosa & 3 & 1.3 & 0.2 & 3.2 \\\\\n",
       "\t11 & 4.7 & setosa & 30 & 1.6 & 0.2 & 3.2 \\\\\n",
       "\t12 & 4.8 & setosa & 12 & 1.6 & 0.2 & 3.4 \\\\\n",
       "\t13 & 4.8 & setosa & 13 & 1.4 & 0.1 & 3.0 \\\\\n",
       "\t14 & 4.8 & setosa & 25 & 1.9 & 0.2 & 3.4 \\\\\n",
       "\t15 & 4.8 & setosa & 31 & 1.6 & 0.2 & 3.1 \\\\\n",
       "\t16 & 4.8 & setosa & 46 & 1.4 & 0.3 & 3.0 \\\\\n",
       "\t17 & 4.9 & setosa & 2 & 1.4 & 0.2 & 3.0 \\\\\n",
       "\t18 & 4.9 & setosa & 10 & 1.5 & 0.1 & 3.1 \\\\\n",
       "\t19 & 4.9 & setosa & 35 & 1.5 & 0.2 & 3.1 \\\\\n",
       "\t20 & 4.9 & setosa & 38 & 1.4 & 0.1 & 3.6 \\\\\n",
       "\t21 & 4.9 & versicolor & 58 & 3.3 & 1.0 & 2.4 \\\\\n",
       "\t22 & 4.9 & virginica & 107 & 4.5 & 1.7 & 2.5 \\\\\n",
       "\t23 & 5.0 & setosa & 5 & 1.4 & 0.2 & 3.6 \\\\\n",
       "\t24 & 5.0 & setosa & 8 & 1.5 & 0.2 & 3.4 \\\\\n",
       "\t25 & 5.0 & setosa & 26 & 1.6 & 0.2 & 3.0 \\\\\n",
       "\t26 & 5.0 & setosa & 27 & 1.6 & 0.4 & 3.4 \\\\\n",
       "\t27 & 5.0 & setosa & 36 & 1.2 & 0.2 & 3.2 \\\\\n",
       "\t28 & 5.0 & setosa & 41 & 1.3 & 0.3 & 3.5 \\\\\n",
       "\t29 & 5.0 & setosa & 44 & 1.6 & 0.6 & 3.5 \\\\\n",
       "\t30 & 5.0 & setosa & 50 & 1.4 & 0.2 & 3.3 \\\\\n",
       "\t$\\dots$ & $\\dots$ & $\\dots$ & $\\dots$ & $\\dots$ & $\\dots$ & $\\dots$ \\\\\n",
       "\\end{tabular}\n"
      ],
      "text/plain": [
       "150×6 DataFrame. Omitted printing of 1 columns\n",
       "│ Row │ SepalLength │ Species      │ id    │ PetalLength │ PetalWidth │\n",
       "│     │ \u001b[90mFloat64\u001b[39m     │ \u001b[90mCategorical…\u001b[39m │ \u001b[90mInt64\u001b[39m │ \u001b[90mFloat64⍰\u001b[39m    │ \u001b[90mFloat64⍰\u001b[39m   │\n",
       "├─────┼─────────────┼──────────────┼───────┼─────────────┼────────────┤\n",
       "│ 1   │ 4.3         │ setosa       │ 14    │ 1.1         │ 0.1        │\n",
       "│ 2   │ 4.4         │ setosa       │ 9     │ 1.4         │ 0.2        │\n",
       "│ 3   │ 4.4         │ setosa       │ 39    │ 1.3         │ 0.2        │\n",
       "│ 4   │ 4.4         │ setosa       │ 43    │ 1.3         │ 0.2        │\n",
       "│ 5   │ 4.5         │ setosa       │ 42    │ 1.3         │ 0.3        │\n",
       "│ 6   │ 4.6         │ setosa       │ 4     │ 1.5         │ 0.2        │\n",
       "│ 7   │ 4.6         │ setosa       │ 7     │ 1.4         │ 0.3        │\n",
       "│ 8   │ 4.6         │ setosa       │ 23    │ 1.0         │ 0.2        │\n",
       "│ 9   │ 4.6         │ setosa       │ 48    │ 1.4         │ 0.2        │\n",
       "│ 10  │ 4.7         │ setosa       │ 3     │ 1.3         │ 0.2        │\n",
       "⋮\n",
       "│ 140 │ 7.2         │ virginica    │ 110   │ 6.1         │ 2.5        │\n",
       "│ 141 │ 7.2         │ virginica    │ 126   │ 6.0         │ 1.8        │\n",
       "│ 142 │ 7.2         │ virginica    │ 130   │ 5.8         │ 1.6        │\n",
       "│ 143 │ 7.3         │ virginica    │ 108   │ 6.3         │ 1.8        │\n",
       "│ 144 │ 7.4         │ virginica    │ 131   │ 6.1         │ 1.9        │\n",
       "│ 145 │ 7.6         │ virginica    │ 106   │ 6.6         │ 2.1        │\n",
       "│ 146 │ 7.7         │ virginica    │ 118   │ 6.7         │ 2.2        │\n",
       "│ 147 │ 7.7         │ virginica    │ 119   │ 6.9         │ 2.3        │\n",
       "│ 148 │ 7.7         │ virginica    │ 123   │ 6.7         │ 2.0        │\n",
       "│ 149 │ 7.7         │ virginica    │ 136   │ 6.1         │ 2.3        │\n",
       "│ 150 │ 7.9         │ virginica    │ 132   │ 6.4         │ 2.0        │"
      ]
     },
     "execution_count": 99,
     "metadata": {},
     "output_type": "execute_result"
    }
   ],
   "source": [
    "unstacked_iris = unstack(iris_stacked) #Volta o df para o formato original"
   ]
  },
  {
   "cell_type": "markdown",
   "metadata": {},
   "source": [
    "\"Vamos bagunçar esse negócio ***agora***!\" (Guidoni, 2019) [Pérolas](#perolas-da-semana)  \n",
    "Vamos ver o que acontece se tivermos mais de uma coluna categórica."
   ]
  },
  {
   "cell_type": "code",
   "execution_count": 103,
   "metadata": {
    "scrolled": false
   },
   "outputs": [
    {
     "data": {
      "text/html": [
       "<table class=\"data-frame\"><thead><tr><th></th><th>variable</th><th>value</th><th>Species</th><th>id</th><th>teste</th></tr><tr><th></th><th>Symbol</th><th>Float64</th><th>Categorical…</th><th>Int64</th><th>String</th></tr></thead><tbody><p>600 rows × 5 columns</p><tr><th>1</th><td>SepalLength</td><td>5.1</td><td>setosa</td><td>1</td><td>perola</td></tr><tr><th>2</th><td>SepalLength</td><td>4.9</td><td>setosa</td><td>2</td><td>peroba</td></tr><tr><th>3</th><td>SepalLength</td><td>4.7</td><td>setosa</td><td>3</td><td>perola</td></tr><tr><th>4</th><td>SepalLength</td><td>4.6</td><td>setosa</td><td>4</td><td>peroba</td></tr><tr><th>5</th><td>SepalLength</td><td>5.0</td><td>setosa</td><td>5</td><td>porco</td></tr><tr><th>6</th><td>SepalLength</td><td>5.4</td><td>setosa</td><td>6</td><td>perola</td></tr><tr><th>7</th><td>SepalLength</td><td>4.6</td><td>setosa</td><td>7</td><td>perola</td></tr><tr><th>8</th><td>SepalLength</td><td>5.0</td><td>setosa</td><td>8</td><td>perola</td></tr><tr><th>9</th><td>SepalLength</td><td>4.4</td><td>setosa</td><td>9</td><td>porco</td></tr><tr><th>10</th><td>SepalLength</td><td>4.9</td><td>setosa</td><td>10</td><td>peroba</td></tr><tr><th>11</th><td>SepalLength</td><td>5.4</td><td>setosa</td><td>11</td><td>perola</td></tr><tr><th>12</th><td>SepalLength</td><td>4.8</td><td>setosa</td><td>12</td><td>porco</td></tr><tr><th>13</th><td>SepalLength</td><td>4.8</td><td>setosa</td><td>13</td><td>peroba</td></tr><tr><th>14</th><td>SepalLength</td><td>4.3</td><td>setosa</td><td>14</td><td>perola</td></tr><tr><th>15</th><td>SepalLength</td><td>5.8</td><td>setosa</td><td>15</td><td>peroba</td></tr><tr><th>16</th><td>SepalLength</td><td>5.7</td><td>setosa</td><td>16</td><td>peroba</td></tr><tr><th>17</th><td>SepalLength</td><td>5.4</td><td>setosa</td><td>17</td><td>perola</td></tr><tr><th>18</th><td>SepalLength</td><td>5.1</td><td>setosa</td><td>18</td><td>porco</td></tr><tr><th>19</th><td>SepalLength</td><td>5.7</td><td>setosa</td><td>19</td><td>porco</td></tr><tr><th>20</th><td>SepalLength</td><td>5.1</td><td>setosa</td><td>20</td><td>perola</td></tr><tr><th>21</th><td>SepalLength</td><td>5.4</td><td>setosa</td><td>21</td><td>peroba</td></tr><tr><th>22</th><td>SepalLength</td><td>5.1</td><td>setosa</td><td>22</td><td>peroba</td></tr><tr><th>23</th><td>SepalLength</td><td>4.6</td><td>setosa</td><td>23</td><td>porco</td></tr><tr><th>24</th><td>SepalLength</td><td>5.1</td><td>setosa</td><td>24</td><td>perola</td></tr><tr><th>25</th><td>SepalLength</td><td>4.8</td><td>setosa</td><td>25</td><td>peroba</td></tr><tr><th>26</th><td>SepalLength</td><td>5.0</td><td>setosa</td><td>26</td><td>peroba</td></tr><tr><th>27</th><td>SepalLength</td><td>5.0</td><td>setosa</td><td>27</td><td>perola</td></tr><tr><th>28</th><td>SepalLength</td><td>5.2</td><td>setosa</td><td>28</td><td>perola</td></tr><tr><th>29</th><td>SepalLength</td><td>5.2</td><td>setosa</td><td>29</td><td>porco</td></tr><tr><th>30</th><td>SepalLength</td><td>4.7</td><td>setosa</td><td>30</td><td>porco</td></tr><tr><th>&vellip;</th><td>&vellip;</td><td>&vellip;</td><td>&vellip;</td><td>&vellip;</td><td>&vellip;</td></tr></tbody></table>"
      ],
      "text/latex": [
       "\\begin{tabular}{r|ccccc}\n",
       "\t& variable & value & Species & id & teste\\\\\n",
       "\t\\hline\n",
       "\t& Symbol & Float64 & Categorical… & Int64 & String\\\\\n",
       "\t\\hline\n",
       "\t1 & SepalLength & 5.1 & setosa & 1 & perola \\\\\n",
       "\t2 & SepalLength & 4.9 & setosa & 2 & peroba \\\\\n",
       "\t3 & SepalLength & 4.7 & setosa & 3 & perola \\\\\n",
       "\t4 & SepalLength & 4.6 & setosa & 4 & peroba \\\\\n",
       "\t5 & SepalLength & 5.0 & setosa & 5 & porco \\\\\n",
       "\t6 & SepalLength & 5.4 & setosa & 6 & perola \\\\\n",
       "\t7 & SepalLength & 4.6 & setosa & 7 & perola \\\\\n",
       "\t8 & SepalLength & 5.0 & setosa & 8 & perola \\\\\n",
       "\t9 & SepalLength & 4.4 & setosa & 9 & porco \\\\\n",
       "\t10 & SepalLength & 4.9 & setosa & 10 & peroba \\\\\n",
       "\t11 & SepalLength & 5.4 & setosa & 11 & perola \\\\\n",
       "\t12 & SepalLength & 4.8 & setosa & 12 & porco \\\\\n",
       "\t13 & SepalLength & 4.8 & setosa & 13 & peroba \\\\\n",
       "\t14 & SepalLength & 4.3 & setosa & 14 & perola \\\\\n",
       "\t15 & SepalLength & 5.8 & setosa & 15 & peroba \\\\\n",
       "\t16 & SepalLength & 5.7 & setosa & 16 & peroba \\\\\n",
       "\t17 & SepalLength & 5.4 & setosa & 17 & perola \\\\\n",
       "\t18 & SepalLength & 5.1 & setosa & 18 & porco \\\\\n",
       "\t19 & SepalLength & 5.7 & setosa & 19 & porco \\\\\n",
       "\t20 & SepalLength & 5.1 & setosa & 20 & perola \\\\\n",
       "\t21 & SepalLength & 5.4 & setosa & 21 & peroba \\\\\n",
       "\t22 & SepalLength & 5.1 & setosa & 22 & peroba \\\\\n",
       "\t23 & SepalLength & 4.6 & setosa & 23 & porco \\\\\n",
       "\t24 & SepalLength & 5.1 & setosa & 24 & perola \\\\\n",
       "\t25 & SepalLength & 4.8 & setosa & 25 & peroba \\\\\n",
       "\t26 & SepalLength & 5.0 & setosa & 26 & peroba \\\\\n",
       "\t27 & SepalLength & 5.0 & setosa & 27 & perola \\\\\n",
       "\t28 & SepalLength & 5.2 & setosa & 28 & perola \\\\\n",
       "\t29 & SepalLength & 5.2 & setosa & 29 & porco \\\\\n",
       "\t30 & SepalLength & 4.7 & setosa & 30 & porco \\\\\n",
       "\t$\\dots$ & $\\dots$ & $\\dots$ & $\\dots$ & $\\dots$ & $\\dots$ \\\\\n",
       "\\end{tabular}\n"
      ],
      "text/plain": [
       "600×5 DataFrame\n",
       "│ Row │ variable    │ value   │ Species      │ id    │ teste  │\n",
       "│     │ \u001b[90mSymbol\u001b[39m      │ \u001b[90mFloat64\u001b[39m │ \u001b[90mCategorical…\u001b[39m │ \u001b[90mInt64\u001b[39m │ \u001b[90mString\u001b[39m │\n",
       "├─────┼─────────────┼─────────┼──────────────┼───────┼────────┤\n",
       "│ 1   │ SepalLength │ 5.1     │ setosa       │ 1     │ perola │\n",
       "│ 2   │ SepalLength │ 4.9     │ setosa       │ 2     │ peroba │\n",
       "│ 3   │ SepalLength │ 4.7     │ setosa       │ 3     │ perola │\n",
       "│ 4   │ SepalLength │ 4.6     │ setosa       │ 4     │ peroba │\n",
       "│ 5   │ SepalLength │ 5.0     │ setosa       │ 5     │ porco  │\n",
       "│ 6   │ SepalLength │ 5.4     │ setosa       │ 6     │ perola │\n",
       "│ 7   │ SepalLength │ 4.6     │ setosa       │ 7     │ perola │\n",
       "│ 8   │ SepalLength │ 5.0     │ setosa       │ 8     │ perola │\n",
       "│ 9   │ SepalLength │ 4.4     │ setosa       │ 9     │ porco  │\n",
       "│ 10  │ SepalLength │ 4.9     │ setosa       │ 10    │ peroba │\n",
       "⋮\n",
       "│ 590 │ PetalWidth  │ 2.1     │ virginica    │ 140   │ porco  │\n",
       "│ 591 │ PetalWidth  │ 2.4     │ virginica    │ 141   │ peroba │\n",
       "│ 592 │ PetalWidth  │ 2.3     │ virginica    │ 142   │ perola │\n",
       "│ 593 │ PetalWidth  │ 1.9     │ virginica    │ 143   │ porco  │\n",
       "│ 594 │ PetalWidth  │ 2.3     │ virginica    │ 144   │ peroba │\n",
       "│ 595 │ PetalWidth  │ 2.5     │ virginica    │ 145   │ porco  │\n",
       "│ 596 │ PetalWidth  │ 2.3     │ virginica    │ 146   │ peroba │\n",
       "│ 597 │ PetalWidth  │ 1.9     │ virginica    │ 147   │ peroba │\n",
       "│ 598 │ PetalWidth  │ 2.0     │ virginica    │ 148   │ porco  │\n",
       "│ 599 │ PetalWidth  │ 2.3     │ virginica    │ 149   │ peroba │\n",
       "│ 600 │ PetalWidth  │ 1.8     │ virginica    │ 150   │ porco  │"
      ]
     },
     "execution_count": 103,
     "metadata": {},
     "output_type": "execute_result"
    }
   ],
   "source": [
    "iris[:teste] = [\"perola\",\"peroba\",\"porco\"][rand(1:3,150)] # Cria um vetor de variáveis categóricas e sorteia a ordem em que elas aparecem no df\n",
    "iris_stacked = stack(iris)"
   ]
  },
  {
   "cell_type": "markdown",
   "metadata": {},
   "source": [
    "Agora vamos mesclar uma linha nova no nosso df. Para isso vamos criar o vetor e mandar mesclar no iris."
   ]
  },
  {
   "cell_type": "code",
   "execution_count": 107,
   "metadata": {
    "scrolled": true
   },
   "outputs": [
    {
     "data": {
      "text/html": [
       "<p>DataFrameRow</p><table class=\"data-frame\"><thead><tr><th></th><th>SepalLength</th><th>SepalWidth</th><th>PetalLength</th><th>PetalWidth</th><th>Species</th><th>id</th><th>teste</th></tr><tr><th></th><th>Float64</th><th>Float64</th><th>Float64</th><th>Float64</th><th>Categorical…</th><th>Int64</th><th>String</th></tr></thead><tbody><p>1 rows × 7 columns</p><tr><th>152</th><td>0.4</td><td>0.5</td><td>0.6</td><td>0.7</td><td>venosa</td><td>199</td><td>gato</td></tr></tbody></table>"
      ],
      "text/latex": [
       "\\begin{tabular}{r|ccccccc}\n",
       "\t& SepalLength & SepalWidth & PetalLength & PetalWidth & Species & id & teste\\\\\n",
       "\t\\hline\n",
       "\t& Float64 & Float64 & Float64 & Float64 & Categorical… & Int64 & String\\\\\n",
       "\t\\hline\n",
       "\t152 & 0.4 & 0.5 & 0.6 & 0.7 & venosa & 199 & gato \\\\\n",
       "\\end{tabular}\n"
      ],
      "text/plain": [
       "DataFrameRow. Omitted printing of 2 columns\n",
       "│ Row │ SepalLength │ SepalWidth │ PetalLength │ PetalWidth │ Species      │\n",
       "│     │ \u001b[90mFloat64\u001b[39m     │ \u001b[90mFloat64\u001b[39m    │ \u001b[90mFloat64\u001b[39m     │ \u001b[90mFloat64\u001b[39m    │ \u001b[90mCategorical…\u001b[39m │\n",
       "├─────┼─────────────┼────────────┼─────────────┼────────────┼──────────────┤\n",
       "│ 152 │ 0.4         │ 0.5        │ 0.6         │ 0.7        │ venosa       │"
      ]
     },
     "execution_count": 107,
     "metadata": {},
     "output_type": "execute_result"
    }
   ],
   "source": [
    "v = [0.4,0.5,0.6,0.7,\"venosa\",199,\"gato\"] #Cria o vetor\n",
    "push!(iris,v) #Meslca o vetor v ao df iris e sobrescreve\n",
    "last(iris) #Mostra a última linha"
   ]
  },
  {
   "cell_type": "markdown",
   "metadata": {},
   "source": [
    "Vamos ordenar essa bagaça que o Guidoni fez o **FAVOR** de esculhambar? Vamos!"
   ]
  },
  {
   "cell_type": "code",
   "execution_count": 109,
   "metadata": {},
   "outputs": [
    {
     "data": {
      "text/html": [
       "<table class=\"data-frame\"><thead><tr><th></th><th>SepalLength</th><th>SepalWidth</th><th>PetalLength</th><th>PetalWidth</th><th>Species</th><th>id</th><th>teste</th></tr><tr><th></th><th>Float64</th><th>Float64</th><th>Float64</th><th>Float64</th><th>Categorical…</th><th>Int64</th><th>String</th></tr></thead><tbody><p>152 rows × 7 columns</p><tr><th>1</th><td>5.1</td><td>3.5</td><td>1.4</td><td>0.2</td><td>setosa</td><td>1</td><td>perola</td></tr><tr><th>2</th><td>4.9</td><td>3.0</td><td>1.4</td><td>0.2</td><td>setosa</td><td>2</td><td>peroba</td></tr><tr><th>3</th><td>4.7</td><td>3.2</td><td>1.3</td><td>0.2</td><td>setosa</td><td>3</td><td>perola</td></tr><tr><th>4</th><td>4.6</td><td>3.1</td><td>1.5</td><td>0.2</td><td>setosa</td><td>4</td><td>peroba</td></tr><tr><th>5</th><td>5.0</td><td>3.6</td><td>1.4</td><td>0.2</td><td>setosa</td><td>5</td><td>porco</td></tr><tr><th>6</th><td>5.4</td><td>3.9</td><td>1.7</td><td>0.4</td><td>setosa</td><td>6</td><td>perola</td></tr><tr><th>7</th><td>4.6</td><td>3.4</td><td>1.4</td><td>0.3</td><td>setosa</td><td>7</td><td>perola</td></tr><tr><th>8</th><td>5.0</td><td>3.4</td><td>1.5</td><td>0.2</td><td>setosa</td><td>8</td><td>perola</td></tr><tr><th>9</th><td>4.4</td><td>2.9</td><td>1.4</td><td>0.2</td><td>setosa</td><td>9</td><td>porco</td></tr><tr><th>10</th><td>4.9</td><td>3.1</td><td>1.5</td><td>0.1</td><td>setosa</td><td>10</td><td>peroba</td></tr><tr><th>11</th><td>5.4</td><td>3.7</td><td>1.5</td><td>0.2</td><td>setosa</td><td>11</td><td>perola</td></tr><tr><th>12</th><td>4.8</td><td>3.4</td><td>1.6</td><td>0.2</td><td>setosa</td><td>12</td><td>porco</td></tr><tr><th>13</th><td>4.8</td><td>3.0</td><td>1.4</td><td>0.1</td><td>setosa</td><td>13</td><td>peroba</td></tr><tr><th>14</th><td>4.3</td><td>3.0</td><td>1.1</td><td>0.1</td><td>setosa</td><td>14</td><td>perola</td></tr><tr><th>15</th><td>5.8</td><td>4.0</td><td>1.2</td><td>0.2</td><td>setosa</td><td>15</td><td>peroba</td></tr><tr><th>16</th><td>5.7</td><td>4.4</td><td>1.5</td><td>0.4</td><td>setosa</td><td>16</td><td>peroba</td></tr><tr><th>17</th><td>5.4</td><td>3.9</td><td>1.3</td><td>0.4</td><td>setosa</td><td>17</td><td>perola</td></tr><tr><th>18</th><td>5.1</td><td>3.5</td><td>1.4</td><td>0.3</td><td>setosa</td><td>18</td><td>porco</td></tr><tr><th>19</th><td>5.7</td><td>3.8</td><td>1.7</td><td>0.3</td><td>setosa</td><td>19</td><td>porco</td></tr><tr><th>20</th><td>5.1</td><td>3.8</td><td>1.5</td><td>0.3</td><td>setosa</td><td>20</td><td>perola</td></tr><tr><th>21</th><td>5.4</td><td>3.4</td><td>1.7</td><td>0.2</td><td>setosa</td><td>21</td><td>peroba</td></tr><tr><th>22</th><td>5.1</td><td>3.7</td><td>1.5</td><td>0.4</td><td>setosa</td><td>22</td><td>peroba</td></tr><tr><th>23</th><td>4.6</td><td>3.6</td><td>1.0</td><td>0.2</td><td>setosa</td><td>23</td><td>porco</td></tr><tr><th>24</th><td>5.1</td><td>3.3</td><td>1.7</td><td>0.5</td><td>setosa</td><td>24</td><td>perola</td></tr><tr><th>25</th><td>4.8</td><td>3.4</td><td>1.9</td><td>0.2</td><td>setosa</td><td>25</td><td>peroba</td></tr><tr><th>26</th><td>5.0</td><td>3.0</td><td>1.6</td><td>0.2</td><td>setosa</td><td>26</td><td>peroba</td></tr><tr><th>27</th><td>5.0</td><td>3.4</td><td>1.6</td><td>0.4</td><td>setosa</td><td>27</td><td>perola</td></tr><tr><th>28</th><td>5.2</td><td>3.5</td><td>1.5</td><td>0.2</td><td>setosa</td><td>28</td><td>perola</td></tr><tr><th>29</th><td>5.2</td><td>3.4</td><td>1.4</td><td>0.2</td><td>setosa</td><td>29</td><td>porco</td></tr><tr><th>30</th><td>4.7</td><td>3.2</td><td>1.6</td><td>0.2</td><td>setosa</td><td>30</td><td>porco</td></tr><tr><th>&vellip;</th><td>&vellip;</td><td>&vellip;</td><td>&vellip;</td><td>&vellip;</td><td>&vellip;</td><td>&vellip;</td><td>&vellip;</td></tr></tbody></table>"
      ],
      "text/latex": [
       "\\begin{tabular}{r|ccccccc}\n",
       "\t& SepalLength & SepalWidth & PetalLength & PetalWidth & Species & id & teste\\\\\n",
       "\t\\hline\n",
       "\t& Float64 & Float64 & Float64 & Float64 & Categorical… & Int64 & String\\\\\n",
       "\t\\hline\n",
       "\t1 & 5.1 & 3.5 & 1.4 & 0.2 & setosa & 1 & perola \\\\\n",
       "\t2 & 4.9 & 3.0 & 1.4 & 0.2 & setosa & 2 & peroba \\\\\n",
       "\t3 & 4.7 & 3.2 & 1.3 & 0.2 & setosa & 3 & perola \\\\\n",
       "\t4 & 4.6 & 3.1 & 1.5 & 0.2 & setosa & 4 & peroba \\\\\n",
       "\t5 & 5.0 & 3.6 & 1.4 & 0.2 & setosa & 5 & porco \\\\\n",
       "\t6 & 5.4 & 3.9 & 1.7 & 0.4 & setosa & 6 & perola \\\\\n",
       "\t7 & 4.6 & 3.4 & 1.4 & 0.3 & setosa & 7 & perola \\\\\n",
       "\t8 & 5.0 & 3.4 & 1.5 & 0.2 & setosa & 8 & perola \\\\\n",
       "\t9 & 4.4 & 2.9 & 1.4 & 0.2 & setosa & 9 & porco \\\\\n",
       "\t10 & 4.9 & 3.1 & 1.5 & 0.1 & setosa & 10 & peroba \\\\\n",
       "\t11 & 5.4 & 3.7 & 1.5 & 0.2 & setosa & 11 & perola \\\\\n",
       "\t12 & 4.8 & 3.4 & 1.6 & 0.2 & setosa & 12 & porco \\\\\n",
       "\t13 & 4.8 & 3.0 & 1.4 & 0.1 & setosa & 13 & peroba \\\\\n",
       "\t14 & 4.3 & 3.0 & 1.1 & 0.1 & setosa & 14 & perola \\\\\n",
       "\t15 & 5.8 & 4.0 & 1.2 & 0.2 & setosa & 15 & peroba \\\\\n",
       "\t16 & 5.7 & 4.4 & 1.5 & 0.4 & setosa & 16 & peroba \\\\\n",
       "\t17 & 5.4 & 3.9 & 1.3 & 0.4 & setosa & 17 & perola \\\\\n",
       "\t18 & 5.1 & 3.5 & 1.4 & 0.3 & setosa & 18 & porco \\\\\n",
       "\t19 & 5.7 & 3.8 & 1.7 & 0.3 & setosa & 19 & porco \\\\\n",
       "\t20 & 5.1 & 3.8 & 1.5 & 0.3 & setosa & 20 & perola \\\\\n",
       "\t21 & 5.4 & 3.4 & 1.7 & 0.2 & setosa & 21 & peroba \\\\\n",
       "\t22 & 5.1 & 3.7 & 1.5 & 0.4 & setosa & 22 & peroba \\\\\n",
       "\t23 & 4.6 & 3.6 & 1.0 & 0.2 & setosa & 23 & porco \\\\\n",
       "\t24 & 5.1 & 3.3 & 1.7 & 0.5 & setosa & 24 & perola \\\\\n",
       "\t25 & 4.8 & 3.4 & 1.9 & 0.2 & setosa & 25 & peroba \\\\\n",
       "\t26 & 5.0 & 3.0 & 1.6 & 0.2 & setosa & 26 & peroba \\\\\n",
       "\t27 & 5.0 & 3.4 & 1.6 & 0.4 & setosa & 27 & perola \\\\\n",
       "\t28 & 5.2 & 3.5 & 1.5 & 0.2 & setosa & 28 & perola \\\\\n",
       "\t29 & 5.2 & 3.4 & 1.4 & 0.2 & setosa & 29 & porco \\\\\n",
       "\t30 & 4.7 & 3.2 & 1.6 & 0.2 & setosa & 30 & porco \\\\\n",
       "\t$\\dots$ & $\\dots$ & $\\dots$ & $\\dots$ & $\\dots$ & $\\dots$ & $\\dots$ & $\\dots$ \\\\\n",
       "\\end{tabular}\n"
      ],
      "text/plain": [
       "152×7 DataFrame. Omitted printing of 2 columns\n",
       "│ Row │ SepalLength │ SepalWidth │ PetalLength │ PetalWidth │ Species      │\n",
       "│     │ \u001b[90mFloat64\u001b[39m     │ \u001b[90mFloat64\u001b[39m    │ \u001b[90mFloat64\u001b[39m     │ \u001b[90mFloat64\u001b[39m    │ \u001b[90mCategorical…\u001b[39m │\n",
       "├─────┼─────────────┼────────────┼─────────────┼────────────┼──────────────┤\n",
       "│ 1   │ 5.1         │ 3.5        │ 1.4         │ 0.2        │ setosa       │\n",
       "│ 2   │ 4.9         │ 3.0        │ 1.4         │ 0.2        │ setosa       │\n",
       "│ 3   │ 4.7         │ 3.2        │ 1.3         │ 0.2        │ setosa       │\n",
       "│ 4   │ 4.6         │ 3.1        │ 1.5         │ 0.2        │ setosa       │\n",
       "│ 5   │ 5.0         │ 3.6        │ 1.4         │ 0.2        │ setosa       │\n",
       "│ 6   │ 5.4         │ 3.9        │ 1.7         │ 0.4        │ setosa       │\n",
       "│ 7   │ 4.6         │ 3.4        │ 1.4         │ 0.3        │ setosa       │\n",
       "│ 8   │ 5.0         │ 3.4        │ 1.5         │ 0.2        │ setosa       │\n",
       "│ 9   │ 4.4         │ 2.9        │ 1.4         │ 0.2        │ setosa       │\n",
       "│ 10  │ 4.9         │ 3.1        │ 1.5         │ 0.1        │ setosa       │\n",
       "⋮\n",
       "│ 142 │ 6.9         │ 3.1        │ 5.1         │ 2.3        │ virginica    │\n",
       "│ 143 │ 5.8         │ 2.7        │ 5.1         │ 1.9        │ virginica    │\n",
       "│ 144 │ 6.8         │ 3.2        │ 5.9         │ 2.3        │ virginica    │\n",
       "│ 145 │ 6.7         │ 3.3        │ 5.7         │ 2.5        │ virginica    │\n",
       "│ 146 │ 6.7         │ 3.0        │ 5.2         │ 2.3        │ virginica    │\n",
       "│ 147 │ 6.3         │ 2.5        │ 5.0         │ 1.9        │ virginica    │\n",
       "│ 148 │ 6.5         │ 3.0        │ 5.2         │ 2.0        │ virginica    │\n",
       "│ 149 │ 6.2         │ 3.4        │ 5.4         │ 2.3        │ virginica    │\n",
       "│ 150 │ 5.9         │ 3.0        │ 5.1         │ 1.8        │ virginica    │\n",
       "│ 151 │ 0.4         │ 0.5        │ 0.6         │ 0.7        │ venosa       │\n",
       "│ 152 │ 0.4         │ 0.5        │ 0.6         │ 0.7        │ venosa       │"
      ]
     },
     "execution_count": 109,
     "metadata": {},
     "output_type": "execute_result"
    }
   ],
   "source": [
    "sort!(iris,:id) # \"Ordene o df iris pela coluna id e sobrescreva\""
   ]
  },
  {
   "cell_type": "markdown",
   "metadata": {},
   "source": [
    "E se a gente quiser aplicar uma função ao longo de todas as colunas/linhas? 🤔"
   ]
  },
  {
   "cell_type": "code",
   "execution_count": 116,
   "metadata": {
    "scrolled": true
   },
   "outputs": [
    {
     "data": {
      "text/html": [
       "<table class=\"data-frame\"><thead><tr><th></th><th>Species</th><th>media</th></tr><tr><th></th><th>Categorical…</th><th>Float64</th></tr></thead><tbody><p>4 rows × 2 columns</p><tr><th>1</th><td>setosa</td><td>5.006</td></tr><tr><th>2</th><td>versicolor</td><td>5.936</td></tr><tr><th>3</th><td>virginica</td><td>6.588</td></tr><tr><th>4</th><td>venosa</td><td>0.4</td></tr></tbody></table>"
      ],
      "text/latex": [
       "\\begin{tabular}{r|cc}\n",
       "\t& Species & media\\\\\n",
       "\t\\hline\n",
       "\t& Categorical… & Float64\\\\\n",
       "\t\\hline\n",
       "\t1 & setosa & 5.006 \\\\\n",
       "\t2 & versicolor & 5.936 \\\\\n",
       "\t3 & virginica & 6.588 \\\\\n",
       "\t4 & venosa & 0.4 \\\\\n",
       "\\end{tabular}\n"
      ],
      "text/plain": [
       "4×2 DataFrame\n",
       "│ Row │ Species      │ media   │\n",
       "│     │ \u001b[90mCategorical…\u001b[39m │ \u001b[90mFloat64\u001b[39m │\n",
       "├─────┼──────────────┼─────────┤\n",
       "│ 1   │ setosa       │ 5.006   │\n",
       "│ 2   │ versicolor   │ 5.936   │\n",
       "│ 3   │ virginica    │ 6.588   │\n",
       "│ 4   │ venosa       │ 0.4     │"
      ]
     },
     "execution_count": 116,
     "metadata": {},
     "output_type": "execute_result"
    }
   ],
   "source": [
    "by(iris,:Species, media=:SepalLength => mean) #Estima a média da variável SepalLength para cada categoria da variável Species"
   ]
  },
  {
   "cell_type": "markdown",
   "metadata": {},
   "source": [
    "---\n",
    "### Vamos aprender a importar datasets?"
   ]
  },
  {
   "cell_type": "code",
   "execution_count": 118,
   "metadata": {
    "scrolled": true
   },
   "outputs": [
    {
     "data": {
      "text/plain": [
       "\"iris_df.csv\""
      ]
     },
     "execution_count": 118,
     "metadata": {},
     "output_type": "execute_result"
    }
   ],
   "source": [
    "CSV.write(\"iris_df.csv\",iris) #\"Salva aqui nessa pastinha que eu tô um arquivo chamado 'iris_df.csv' que contenha o df iris\""
   ]
  },
  {
   "cell_type": "markdown",
   "metadata": {},
   "source": [
    "Como você é uma pessoa jovem, asseada e organizada, você não vai salvar seus dados na mesma pasta das suas análises, né? Faz o favor de organizar seu workspace, criar uma pasta só para os dados e jogar seu arquivo novo lá com \"/data/iris_df.csv\", por exemplo. Ai, ai, ai!"
   ]
  },
  {
   "cell_type": "markdown",
   "metadata": {},
   "source": [
    "Quer conferir se salvou? Dê uma olhada nos arquivos que tem no seu diretório!"
   ]
  },
  {
   "cell_type": "code",
   "execution_count": 119,
   "metadata": {
    "scrolled": true
   },
   "outputs": [
    {
     "data": {
      "text/plain": [
       "4-element Array{String,1}:\n",
       " \".ipynb_checkpoints\"  \n",
       " \"03-colab_notes.ipynb\"\n",
       " \"03-exercicios.md\"    \n",
       " \"iris_df.csv\"         "
      ]
     },
     "execution_count": 119,
     "metadata": {},
     "output_type": "execute_result"
    }
   ],
   "source": [
    "readdir()"
   ]
  },
  {
   "cell_type": "markdown",
   "metadata": {},
   "source": [
    "Agora vamos importar nosso arquivo de volta! 💚"
   ]
  },
  {
   "cell_type": "code",
   "execution_count": 120,
   "metadata": {
    "scrolled": true
   },
   "outputs": [
    {
     "data": {
      "text/html": [
       "<table class=\"data-frame\"><thead><tr><th></th><th>SepalLength</th><th>SepalWidth</th><th>PetalLength</th><th>PetalWidth</th><th>Species</th><th>id</th><th>teste</th></tr><tr><th></th><th>Float64⍰</th><th>Float64⍰</th><th>Float64⍰</th><th>Float64⍰</th><th>String⍰</th><th>Int64⍰</th><th>String⍰</th></tr></thead><tbody><p>152 rows × 7 columns</p><tr><th>1</th><td>5.1</td><td>3.5</td><td>1.4</td><td>0.2</td><td>setosa</td><td>1</td><td>perola</td></tr><tr><th>2</th><td>4.9</td><td>3.0</td><td>1.4</td><td>0.2</td><td>setosa</td><td>2</td><td>peroba</td></tr><tr><th>3</th><td>4.7</td><td>3.2</td><td>1.3</td><td>0.2</td><td>setosa</td><td>3</td><td>perola</td></tr><tr><th>4</th><td>4.6</td><td>3.1</td><td>1.5</td><td>0.2</td><td>setosa</td><td>4</td><td>peroba</td></tr><tr><th>5</th><td>5.0</td><td>3.6</td><td>1.4</td><td>0.2</td><td>setosa</td><td>5</td><td>porco</td></tr><tr><th>6</th><td>5.4</td><td>3.9</td><td>1.7</td><td>0.4</td><td>setosa</td><td>6</td><td>perola</td></tr><tr><th>7</th><td>4.6</td><td>3.4</td><td>1.4</td><td>0.3</td><td>setosa</td><td>7</td><td>perola</td></tr><tr><th>8</th><td>5.0</td><td>3.4</td><td>1.5</td><td>0.2</td><td>setosa</td><td>8</td><td>perola</td></tr><tr><th>9</th><td>4.4</td><td>2.9</td><td>1.4</td><td>0.2</td><td>setosa</td><td>9</td><td>porco</td></tr><tr><th>10</th><td>4.9</td><td>3.1</td><td>1.5</td><td>0.1</td><td>setosa</td><td>10</td><td>peroba</td></tr><tr><th>11</th><td>5.4</td><td>3.7</td><td>1.5</td><td>0.2</td><td>setosa</td><td>11</td><td>perola</td></tr><tr><th>12</th><td>4.8</td><td>3.4</td><td>1.6</td><td>0.2</td><td>setosa</td><td>12</td><td>porco</td></tr><tr><th>13</th><td>4.8</td><td>3.0</td><td>1.4</td><td>0.1</td><td>setosa</td><td>13</td><td>peroba</td></tr><tr><th>14</th><td>4.3</td><td>3.0</td><td>1.1</td><td>0.1</td><td>setosa</td><td>14</td><td>perola</td></tr><tr><th>15</th><td>5.8</td><td>4.0</td><td>1.2</td><td>0.2</td><td>setosa</td><td>15</td><td>peroba</td></tr><tr><th>16</th><td>5.7</td><td>4.4</td><td>1.5</td><td>0.4</td><td>setosa</td><td>16</td><td>peroba</td></tr><tr><th>17</th><td>5.4</td><td>3.9</td><td>1.3</td><td>0.4</td><td>setosa</td><td>17</td><td>perola</td></tr><tr><th>18</th><td>5.1</td><td>3.5</td><td>1.4</td><td>0.3</td><td>setosa</td><td>18</td><td>porco</td></tr><tr><th>19</th><td>5.7</td><td>3.8</td><td>1.7</td><td>0.3</td><td>setosa</td><td>19</td><td>porco</td></tr><tr><th>20</th><td>5.1</td><td>3.8</td><td>1.5</td><td>0.3</td><td>setosa</td><td>20</td><td>perola</td></tr><tr><th>21</th><td>5.4</td><td>3.4</td><td>1.7</td><td>0.2</td><td>setosa</td><td>21</td><td>peroba</td></tr><tr><th>22</th><td>5.1</td><td>3.7</td><td>1.5</td><td>0.4</td><td>setosa</td><td>22</td><td>peroba</td></tr><tr><th>23</th><td>4.6</td><td>3.6</td><td>1.0</td><td>0.2</td><td>setosa</td><td>23</td><td>porco</td></tr><tr><th>24</th><td>5.1</td><td>3.3</td><td>1.7</td><td>0.5</td><td>setosa</td><td>24</td><td>perola</td></tr><tr><th>25</th><td>4.8</td><td>3.4</td><td>1.9</td><td>0.2</td><td>setosa</td><td>25</td><td>peroba</td></tr><tr><th>26</th><td>5.0</td><td>3.0</td><td>1.6</td><td>0.2</td><td>setosa</td><td>26</td><td>peroba</td></tr><tr><th>27</th><td>5.0</td><td>3.4</td><td>1.6</td><td>0.4</td><td>setosa</td><td>27</td><td>perola</td></tr><tr><th>28</th><td>5.2</td><td>3.5</td><td>1.5</td><td>0.2</td><td>setosa</td><td>28</td><td>perola</td></tr><tr><th>29</th><td>5.2</td><td>3.4</td><td>1.4</td><td>0.2</td><td>setosa</td><td>29</td><td>porco</td></tr><tr><th>30</th><td>4.7</td><td>3.2</td><td>1.6</td><td>0.2</td><td>setosa</td><td>30</td><td>porco</td></tr><tr><th>&vellip;</th><td>&vellip;</td><td>&vellip;</td><td>&vellip;</td><td>&vellip;</td><td>&vellip;</td><td>&vellip;</td><td>&vellip;</td></tr></tbody></table>"
      ],
      "text/latex": [
       "\\begin{tabular}{r|ccccccc}\n",
       "\t& SepalLength & SepalWidth & PetalLength & PetalWidth & Species & id & teste\\\\\n",
       "\t\\hline\n",
       "\t& Float64⍰ & Float64⍰ & Float64⍰ & Float64⍰ & String⍰ & Int64⍰ & String⍰\\\\\n",
       "\t\\hline\n",
       "\t1 & 5.1 & 3.5 & 1.4 & 0.2 & setosa & 1 & perola \\\\\n",
       "\t2 & 4.9 & 3.0 & 1.4 & 0.2 & setosa & 2 & peroba \\\\\n",
       "\t3 & 4.7 & 3.2 & 1.3 & 0.2 & setosa & 3 & perola \\\\\n",
       "\t4 & 4.6 & 3.1 & 1.5 & 0.2 & setosa & 4 & peroba \\\\\n",
       "\t5 & 5.0 & 3.6 & 1.4 & 0.2 & setosa & 5 & porco \\\\\n",
       "\t6 & 5.4 & 3.9 & 1.7 & 0.4 & setosa & 6 & perola \\\\\n",
       "\t7 & 4.6 & 3.4 & 1.4 & 0.3 & setosa & 7 & perola \\\\\n",
       "\t8 & 5.0 & 3.4 & 1.5 & 0.2 & setosa & 8 & perola \\\\\n",
       "\t9 & 4.4 & 2.9 & 1.4 & 0.2 & setosa & 9 & porco \\\\\n",
       "\t10 & 4.9 & 3.1 & 1.5 & 0.1 & setosa & 10 & peroba \\\\\n",
       "\t11 & 5.4 & 3.7 & 1.5 & 0.2 & setosa & 11 & perola \\\\\n",
       "\t12 & 4.8 & 3.4 & 1.6 & 0.2 & setosa & 12 & porco \\\\\n",
       "\t13 & 4.8 & 3.0 & 1.4 & 0.1 & setosa & 13 & peroba \\\\\n",
       "\t14 & 4.3 & 3.0 & 1.1 & 0.1 & setosa & 14 & perola \\\\\n",
       "\t15 & 5.8 & 4.0 & 1.2 & 0.2 & setosa & 15 & peroba \\\\\n",
       "\t16 & 5.7 & 4.4 & 1.5 & 0.4 & setosa & 16 & peroba \\\\\n",
       "\t17 & 5.4 & 3.9 & 1.3 & 0.4 & setosa & 17 & perola \\\\\n",
       "\t18 & 5.1 & 3.5 & 1.4 & 0.3 & setosa & 18 & porco \\\\\n",
       "\t19 & 5.7 & 3.8 & 1.7 & 0.3 & setosa & 19 & porco \\\\\n",
       "\t20 & 5.1 & 3.8 & 1.5 & 0.3 & setosa & 20 & perola \\\\\n",
       "\t21 & 5.4 & 3.4 & 1.7 & 0.2 & setosa & 21 & peroba \\\\\n",
       "\t22 & 5.1 & 3.7 & 1.5 & 0.4 & setosa & 22 & peroba \\\\\n",
       "\t23 & 4.6 & 3.6 & 1.0 & 0.2 & setosa & 23 & porco \\\\\n",
       "\t24 & 5.1 & 3.3 & 1.7 & 0.5 & setosa & 24 & perola \\\\\n",
       "\t25 & 4.8 & 3.4 & 1.9 & 0.2 & setosa & 25 & peroba \\\\\n",
       "\t26 & 5.0 & 3.0 & 1.6 & 0.2 & setosa & 26 & peroba \\\\\n",
       "\t27 & 5.0 & 3.4 & 1.6 & 0.4 & setosa & 27 & perola \\\\\n",
       "\t28 & 5.2 & 3.5 & 1.5 & 0.2 & setosa & 28 & perola \\\\\n",
       "\t29 & 5.2 & 3.4 & 1.4 & 0.2 & setosa & 29 & porco \\\\\n",
       "\t30 & 4.7 & 3.2 & 1.6 & 0.2 & setosa & 30 & porco \\\\\n",
       "\t$\\dots$ & $\\dots$ & $\\dots$ & $\\dots$ & $\\dots$ & $\\dots$ & $\\dots$ & $\\dots$ \\\\\n",
       "\\end{tabular}\n"
      ],
      "text/plain": [
       "152×7 DataFrame. Omitted printing of 2 columns\n",
       "│ Row │ SepalLength │ SepalWidth │ PetalLength │ PetalWidth │ Species   │\n",
       "│     │ \u001b[90mFloat64⍰\u001b[39m    │ \u001b[90mFloat64⍰\u001b[39m   │ \u001b[90mFloat64⍰\u001b[39m    │ \u001b[90mFloat64⍰\u001b[39m   │ \u001b[90mString⍰\u001b[39m   │\n",
       "├─────┼─────────────┼────────────┼─────────────┼────────────┼───────────┤\n",
       "│ 1   │ 5.1         │ 3.5        │ 1.4         │ 0.2        │ setosa    │\n",
       "│ 2   │ 4.9         │ 3.0        │ 1.4         │ 0.2        │ setosa    │\n",
       "│ 3   │ 4.7         │ 3.2        │ 1.3         │ 0.2        │ setosa    │\n",
       "│ 4   │ 4.6         │ 3.1        │ 1.5         │ 0.2        │ setosa    │\n",
       "│ 5   │ 5.0         │ 3.6        │ 1.4         │ 0.2        │ setosa    │\n",
       "│ 6   │ 5.4         │ 3.9        │ 1.7         │ 0.4        │ setosa    │\n",
       "│ 7   │ 4.6         │ 3.4        │ 1.4         │ 0.3        │ setosa    │\n",
       "│ 8   │ 5.0         │ 3.4        │ 1.5         │ 0.2        │ setosa    │\n",
       "│ 9   │ 4.4         │ 2.9        │ 1.4         │ 0.2        │ setosa    │\n",
       "│ 10  │ 4.9         │ 3.1        │ 1.5         │ 0.1        │ setosa    │\n",
       "⋮\n",
       "│ 142 │ 6.9         │ 3.1        │ 5.1         │ 2.3        │ virginica │\n",
       "│ 143 │ 5.8         │ 2.7        │ 5.1         │ 1.9        │ virginica │\n",
       "│ 144 │ 6.8         │ 3.2        │ 5.9         │ 2.3        │ virginica │\n",
       "│ 145 │ 6.7         │ 3.3        │ 5.7         │ 2.5        │ virginica │\n",
       "│ 146 │ 6.7         │ 3.0        │ 5.2         │ 2.3        │ virginica │\n",
       "│ 147 │ 6.3         │ 2.5        │ 5.0         │ 1.9        │ virginica │\n",
       "│ 148 │ 6.5         │ 3.0        │ 5.2         │ 2.0        │ virginica │\n",
       "│ 149 │ 6.2         │ 3.4        │ 5.4         │ 2.3        │ virginica │\n",
       "│ 150 │ 5.9         │ 3.0        │ 5.1         │ 1.8        │ virginica │\n",
       "│ 151 │ 0.4         │ 0.5        │ 0.6         │ 0.7        │ venosa    │\n",
       "│ 152 │ 0.4         │ 0.5        │ 0.6         │ 0.7        │ venosa    │"
      ]
     },
     "execution_count": 120,
     "metadata": {},
     "output_type": "execute_result"
    }
   ],
   "source": [
    "CSV.read(\"iris_df.csv\")"
   ]
  },
  {
   "cell_type": "markdown",
   "metadata": {},
   "source": [
    "Se seu coleguinha passou um csv esculhambado, com as colunas delimitadas por outra coisa, inclua um argumento `delim = ` dentro da sua função `CSV.read()`, para indicar **que diabos** está sendo utilizado para separar a **desgraça** das colunas."
   ]
  },
  {
   "cell_type": "markdown",
   "metadata": {},
   "source": [
    "---\n",
    "### Pérolas da semana\n",
    "\n",
    "- \"Vamos bagunçar esse negócio ***agora***!\" (Guidoni, 2019)"
   ]
  }
 ],
 "metadata": {
  "kernelspec": {
   "display_name": "Julia 1.0.3",
   "language": "julia",
   "name": "julia-1.0"
  },
  "language_info": {
   "file_extension": ".jl",
   "mimetype": "application/julia",
   "name": "julia",
   "version": "1.0.3"
  }
 },
 "nbformat": 4,
 "nbformat_minor": 2
}
