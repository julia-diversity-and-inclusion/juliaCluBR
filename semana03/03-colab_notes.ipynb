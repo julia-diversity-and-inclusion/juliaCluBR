{
 "cells": [
  {
   "cell_type": "markdown",
   "metadata": {},
   "source": [
    "# Anotações da semana 03\n",
    "2019-IV-20"
   ]
  },
  {
   "cell_type": "markdown",
   "metadata": {},
   "source": [
    "### Dataframes"
   ]
  },
  {
   "cell_type": "markdown",
   "metadata": {},
   "source": [
    "Organizando os pacotes que vamos usar:"
   ]
  },
  {
   "cell_type": "code",
   "execution_count": 1,
   "metadata": {},
   "outputs": [
    {
     "name": "stdout",
     "output_type": "stream",
     "text": [
      "\u001b[32m\u001b[1m  Updating\u001b[22m\u001b[39m registry at `C:\\Users\\Gracielle\\.juliapro\\JuliaPro_v1.0.3.1\\registries\\JuliaPro`\n"
     ]
    },
    {
     "name": "stderr",
     "output_type": "stream",
     "text": [
      "┌ Warning: InterruptException()\n",
      "└ @ Pkg.Operations C:\\Users\\julia\\AppData\\Local\\Julia-1.0.3\\share\\julia\\stdlib\\v1.0\\Pkg\\src\\Operations.jl:484\n"
     ]
    },
    {
     "name": "stdout",
     "output_type": "stream",
     "text": [
      "\u001b[32m\u001b[1m  Updating\u001b[22m\u001b[39m git-repo `https://pkg.juliacomputing.com//registry/JuliaPro`\n",
      "\u001b[?25l\u001b[2K\u001b[?25h\u001b[32m\u001b[1m Resolving\u001b[22m\u001b[39m package versions...\n",
      "\u001b[32m\u001b[1m Installed\u001b[22m\u001b[39m DataFrames ────────────────── v0.17.1\n",
      "\u001b[32m\u001b[1m Installed\u001b[22m\u001b[39m DataStreams ───────────────── v0.4.1\n",
      "\u001b[32m\u001b[1m Installed\u001b[22m\u001b[39m Tables ────────────────────── v0.1.18\n",
      "\u001b[32m\u001b[1m Installed\u001b[22m\u001b[39m TimeZones ─────────────────── v0.9.0\n",
      "\u001b[32m\u001b[1m Installed\u001b[22m\u001b[39m CategoricalArrays ─────────── v0.5.2\n",
      "\u001b[32m\u001b[1m Installed\u001b[22m\u001b[39m CodecZlib ─────────────────── v0.5.0\n",
      "\u001b[32m\u001b[1m Installed\u001b[22m\u001b[39m IteratorInterfaceExtensions ─ v0.1.1\n",
      "\u001b[32m\u001b[1m Installed\u001b[22m\u001b[39m Mocking ───────────────────── v0.5.7\n",
      "\u001b[32m\u001b[1m Installed\u001b[22m\u001b[39m RData ─────────────────────── v0.6.0\n",
      "\u001b[32m\u001b[1m Installed\u001b[22m\u001b[39m Parsers ───────────────────── v0.2.22\n",
      "\u001b[32m\u001b[1m Installed\u001b[22m\u001b[39m EzXML ─────────────────────── v0.9.0\n",
      "\u001b[32m\u001b[1m Installed\u001b[22m\u001b[39m WeakRefStrings ────────────── v0.5.8\n",
      "\u001b[32m\u001b[1m Installed\u001b[22m\u001b[39m FileIO ────────────────────── v1.0.6\n",
      "\u001b[32m\u001b[1m Installed\u001b[22m\u001b[39m TableTraits ───────────────── v0.4.1\n",
      "\u001b[32m\u001b[1m Installed\u001b[22m\u001b[39m TranscodingStreams ────────── v0.9.4\n",
      "\u001b[32m\u001b[1m Installed\u001b[22m\u001b[39m CSV ───────────────────────── v0.4.3\n",
      "\u001b[32m\u001b[1m Installed\u001b[22m\u001b[39m RDatasets ─────────────────── v0.6.1\n",
      "\u001b[32m\u001b[1m  Updating\u001b[22m\u001b[39m `C:\\Users\\Gracielle\\.juliapro\\JuliaPro_v1.0.3.1\\environments\\v1.0\\Project.toml`\n",
      " \u001b[90m [336ed68f]\u001b[39m\u001b[92m + CSV v0.4.3\u001b[39m\n",
      " \u001b[90m [a93c6f00]\u001b[39m\u001b[92m + DataFrames v0.17.1\u001b[39m\n",
      " \u001b[90m [ce6b1742]\u001b[39m\u001b[92m + RDatasets v0.6.1\u001b[39m\n",
      " \u001b[90m [10745b16]\u001b[39m\u001b[92m + Statistics \u001b[39m\n",
      "\u001b[32m\u001b[1m  Updating\u001b[22m\u001b[39m `C:\\Users\\Gracielle\\.juliapro\\JuliaPro_v1.0.3.1\\environments\\v1.0\\Manifest.toml`\n",
      " \u001b[90m [336ed68f]\u001b[39m\u001b[92m + CSV v0.4.3\u001b[39m\n",
      " \u001b[90m [324d7699]\u001b[39m\u001b[92m + CategoricalArrays v0.5.2\u001b[39m\n",
      " \u001b[90m [944b1d66]\u001b[39m\u001b[92m + CodecZlib v0.5.0\u001b[39m\n",
      " \u001b[90m [a93c6f00]\u001b[39m\u001b[92m + DataFrames v0.17.1\u001b[39m\n",
      " \u001b[90m [9a8bc11e]\u001b[39m\u001b[92m + DataStreams v0.4.1\u001b[39m\n",
      " \u001b[90m [8f5d6c58]\u001b[39m\u001b[92m + EzXML v0.9.0\u001b[39m\n",
      " \u001b[90m [5789e2e9]\u001b[39m\u001b[92m + FileIO v1.0.6\u001b[39m\n",
      " \u001b[90m [82899510]\u001b[39m\u001b[92m + IteratorInterfaceExtensions v0.1.1\u001b[39m\n",
      " \u001b[90m [78c3b35d]\u001b[39m\u001b[92m + Mocking v0.5.7\u001b[39m\n",
      " \u001b[90m [69de0a69]\u001b[39m\u001b[92m + Parsers v0.2.22\u001b[39m\n",
      " \u001b[90m [df47a6cb]\u001b[39m\u001b[92m + RData v0.6.0\u001b[39m\n",
      " \u001b[90m [ce6b1742]\u001b[39m\u001b[92m + RDatasets v0.6.1\u001b[39m\n",
      " \u001b[90m [3783bdb8]\u001b[39m\u001b[92m + TableTraits v0.4.1\u001b[39m\n",
      " \u001b[90m [bd369af6]\u001b[39m\u001b[92m + Tables v0.1.18\u001b[39m\n",
      " \u001b[90m [f269a46b]\u001b[39m\u001b[92m + TimeZones v0.9.0\u001b[39m\n",
      " \u001b[90m [3bb67fe8]\u001b[39m\u001b[92m + TranscodingStreams v0.9.4\u001b[39m\n",
      " \u001b[90m [ea10d353]\u001b[39m\u001b[92m + WeakRefStrings v0.5.8\u001b[39m\n",
      " \u001b[90m [9fa8497b]\u001b[39m\u001b[92m + Future \u001b[39m\n",
      "\u001b[32m\u001b[1m  Building\u001b[22m\u001b[39m EzXML ────→ `C:\\Users\\Gracielle\\.juliapro\\JuliaPro_v1.0.3.1\\packages\\EzXML\\DUxj7\\deps\\build.log`\n",
      "\u001b[32m\u001b[1m  Building\u001b[22m\u001b[39m TimeZones → `C:\\Users\\Gracielle\\.juliapro\\JuliaPro_v1.0.3.1\\packages\\TimeZones\\oXITd\\deps\\build.log`\n",
      "\u001b[32m\u001b[1m  Building\u001b[22m\u001b[39m CodecZlib → `C:\\Users\\Gracielle\\.juliapro\\JuliaPro_v1.0.3.1\\packages\\CodecZlib\\wwgbh\\deps\\build.log`\n"
     ]
    }
   ],
   "source": [
    "using Pkg\n",
    "#Pkg.installed() #lista os pacotes que você já tem e as correspondentes versões\n",
    "Pkg.update() \n",
    "Pkg.add([\n",
    "        \"DataFrames\",\n",
    "        \"CSV\",\n",
    "        \"Statistics\",\n",
    "        \"Random\",\n",
    "        \"RDatasets\"\n",
    "        ])\n",
    "using DataFrames,\n",
    "        CSV,\n",
    "        Statistics,\n",
    "        Random,\n",
    "        RDatasets\n",
    "        ])"
   ]
  },
  {
   "cell_type": "code",
   "execution_count": 5,
   "metadata": {},
   "outputs": [],
   "source": [
    "using DataFrames,\n",
    "        CSV,\n",
    "        Statistics,\n",
    "        Random,\n",
    "        RDatasets"
   ]
  },
  {
   "cell_type": "code",
   "execution_count": null,
   "metadata": {},
   "outputs": [],
   "source": []
  }
 ],
 "metadata": {
  "kernelspec": {
   "display_name": "Julia 1.0.3",
   "language": "julia",
   "name": "julia-1.0"
  },
  "language_info": {
   "file_extension": ".jl",
   "mimetype": "application/julia",
   "name": "julia",
   "version": "1.0.3"
  }
 },
 "nbformat": 4,
 "nbformat_minor": 2
}
