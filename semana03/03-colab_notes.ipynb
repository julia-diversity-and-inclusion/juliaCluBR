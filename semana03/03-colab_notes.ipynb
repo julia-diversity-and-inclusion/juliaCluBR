{
 "cells": [
  {
   "cell_type": "markdown",
   "metadata": {},
   "source": [
    "# Anotações da semana 03\n",
    "2019-IV-20"
   ]
  },
  {
   "cell_type": "markdown",
   "metadata": {},
   "source": [
    "### Dataframes"
   ]
  },
  {
   "cell_type": "markdown",
   "metadata": {},
   "source": [
    "Organizando os pacotes que vamos usar:"
   ]
  },
  {
   "cell_type": "code",
   "execution_count": 1,
   "metadata": {},
   "outputs": [
    {
     "name": "stdout",
     "output_type": "stream",
     "text": [
      "\u001b[32m\u001b[1m  Updating\u001b[22m\u001b[39m registry at `C:\\Users\\Gracielle\\.juliapro\\JuliaPro_v1.0.3.1\\registries\\JuliaPro`\n"
     ]
    },
    {
     "name": "stderr",
     "output_type": "stream",
     "text": [
      "┌ Warning: InterruptException()\n",
      "└ @ Pkg.Operations C:\\Users\\julia\\AppData\\Local\\Julia-1.0.3\\share\\julia\\stdlib\\v1.0\\Pkg\\src\\Operations.jl:484\n"
     ]
    },
    {
     "name": "stdout",
     "output_type": "stream",
     "text": [
      "\u001b[32m\u001b[1m  Updating\u001b[22m\u001b[39m git-repo `https://pkg.juliacomputing.com//registry/JuliaPro`\n",
      "\u001b[?25l\u001b[2K\u001b[?25h\u001b[32m\u001b[1m Resolving\u001b[22m\u001b[39m package versions...\n",
      "\u001b[32m\u001b[1m Installed\u001b[22m\u001b[39m DataFrames ────────────────── v0.17.1\n",
      "\u001b[32m\u001b[1m Installed\u001b[22m\u001b[39m DataStreams ───────────────── v0.4.1\n",
      "\u001b[32m\u001b[1m Installed\u001b[22m\u001b[39m Tables ────────────────────── v0.1.18\n",
      "\u001b[32m\u001b[1m Installed\u001b[22m\u001b[39m TimeZones ─────────────────── v0.9.0\n",
      "\u001b[32m\u001b[1m Installed\u001b[22m\u001b[39m CategoricalArrays ─────────── v0.5.2\n",
      "\u001b[32m\u001b[1m Installed\u001b[22m\u001b[39m CodecZlib ─────────────────── v0.5.0\n",
      "\u001b[32m\u001b[1m Installed\u001b[22m\u001b[39m IteratorInterfaceExtensions ─ v0.1.1\n",
      "\u001b[32m\u001b[1m Installed\u001b[22m\u001b[39m Mocking ───────────────────── v0.5.7\n",
      "\u001b[32m\u001b[1m Installed\u001b[22m\u001b[39m RData ─────────────────────── v0.6.0\n",
      "\u001b[32m\u001b[1m Installed\u001b[22m\u001b[39m Parsers ───────────────────── v0.2.22\n",
      "\u001b[32m\u001b[1m Installed\u001b[22m\u001b[39m EzXML ─────────────────────── v0.9.0\n",
      "\u001b[32m\u001b[1m Installed\u001b[22m\u001b[39m WeakRefStrings ────────────── v0.5.8\n",
      "\u001b[32m\u001b[1m Installed\u001b[22m\u001b[39m FileIO ────────────────────── v1.0.6\n",
      "\u001b[32m\u001b[1m Installed\u001b[22m\u001b[39m TableTraits ───────────────── v0.4.1\n",
      "\u001b[32m\u001b[1m Installed\u001b[22m\u001b[39m TranscodingStreams ────────── v0.9.4\n",
      "\u001b[32m\u001b[1m Installed\u001b[22m\u001b[39m CSV ───────────────────────── v0.4.3\n",
      "\u001b[32m\u001b[1m Installed\u001b[22m\u001b[39m RDatasets ─────────────────── v0.6.1\n",
      "\u001b[32m\u001b[1m  Updating\u001b[22m\u001b[39m `C:\\Users\\Gracielle\\.juliapro\\JuliaPro_v1.0.3.1\\environments\\v1.0\\Project.toml`\n",
      " \u001b[90m [336ed68f]\u001b[39m\u001b[92m + CSV v0.4.3\u001b[39m\n",
      " \u001b[90m [a93c6f00]\u001b[39m\u001b[92m + DataFrames v0.17.1\u001b[39m\n",
      " \u001b[90m [ce6b1742]\u001b[39m\u001b[92m + RDatasets v0.6.1\u001b[39m\n",
      " \u001b[90m [10745b16]\u001b[39m\u001b[92m + Statistics \u001b[39m\n",
      "\u001b[32m\u001b[1m  Updating\u001b[22m\u001b[39m `C:\\Users\\Gracielle\\.juliapro\\JuliaPro_v1.0.3.1\\environments\\v1.0\\Manifest.toml`\n",
      " \u001b[90m [336ed68f]\u001b[39m\u001b[92m + CSV v0.4.3\u001b[39m\n",
      " \u001b[90m [324d7699]\u001b[39m\u001b[92m + CategoricalArrays v0.5.2\u001b[39m\n",
      " \u001b[90m [944b1d66]\u001b[39m\u001b[92m + CodecZlib v0.5.0\u001b[39m\n",
      " \u001b[90m [a93c6f00]\u001b[39m\u001b[92m + DataFrames v0.17.1\u001b[39m\n",
      " \u001b[90m [9a8bc11e]\u001b[39m\u001b[92m + DataStreams v0.4.1\u001b[39m\n",
      " \u001b[90m [8f5d6c58]\u001b[39m\u001b[92m + EzXML v0.9.0\u001b[39m\n",
      " \u001b[90m [5789e2e9]\u001b[39m\u001b[92m + FileIO v1.0.6\u001b[39m\n",
      " \u001b[90m [82899510]\u001b[39m\u001b[92m + IteratorInterfaceExtensions v0.1.1\u001b[39m\n",
      " \u001b[90m [78c3b35d]\u001b[39m\u001b[92m + Mocking v0.5.7\u001b[39m\n",
      " \u001b[90m [69de0a69]\u001b[39m\u001b[92m + Parsers v0.2.22\u001b[39m\n",
      " \u001b[90m [df47a6cb]\u001b[39m\u001b[92m + RData v0.6.0\u001b[39m\n",
      " \u001b[90m [ce6b1742]\u001b[39m\u001b[92m + RDatasets v0.6.1\u001b[39m\n",
      " \u001b[90m [3783bdb8]\u001b[39m\u001b[92m + TableTraits v0.4.1\u001b[39m\n",
      " \u001b[90m [bd369af6]\u001b[39m\u001b[92m + Tables v0.1.18\u001b[39m\n",
      " \u001b[90m [f269a46b]\u001b[39m\u001b[92m + TimeZones v0.9.0\u001b[39m\n",
      " \u001b[90m [3bb67fe8]\u001b[39m\u001b[92m + TranscodingStreams v0.9.4\u001b[39m\n",
      " \u001b[90m [ea10d353]\u001b[39m\u001b[92m + WeakRefStrings v0.5.8\u001b[39m\n",
      " \u001b[90m [9fa8497b]\u001b[39m\u001b[92m + Future \u001b[39m\n",
      "\u001b[32m\u001b[1m  Building\u001b[22m\u001b[39m EzXML ────→ `C:\\Users\\Gracielle\\.juliapro\\JuliaPro_v1.0.3.1\\packages\\EzXML\\DUxj7\\deps\\build.log`\n",
      "\u001b[32m\u001b[1m  Building\u001b[22m\u001b[39m TimeZones → `C:\\Users\\Gracielle\\.juliapro\\JuliaPro_v1.0.3.1\\packages\\TimeZones\\oXITd\\deps\\build.log`\n",
      "\u001b[32m\u001b[1m  Building\u001b[22m\u001b[39m CodecZlib → `C:\\Users\\Gracielle\\.juliapro\\JuliaPro_v1.0.3.1\\packages\\CodecZlib\\wwgbh\\deps\\build.log`\n"
     ]
    }
   ],
   "source": [
    "using Pkg\n",
    "#Pkg.installed() #lista os pacotes que você já tem e as correspondentes versões\n",
    "Pkg.update() \n",
    "Pkg.add([\n",
    "        \"DataFrames\",\n",
    "        \"CSV\",\n",
    "        \"Statistics\",\n",
    "        \"Random\",\n",
    "        \"RDatasets\"\n",
    "        ])\n",
    "using DataFrames,\n",
    "        CSV,\n",
    "        Statistics,\n",
    "        Random,\n",
    "        RDatasets\n",
    "        ])"
   ]
  },
  {
   "cell_type": "code",
   "execution_count": 5,
   "metadata": {},
   "outputs": [],
   "source": [
    "using DataFrames,\n",
    "        CSV,\n",
    "        Statistics,\n",
    "        Random,\n",
    "        RDatasets"
   ]
  },
  {
   "cell_type": "markdown",
   "metadata": {},
   "source": [
    "Vamos explorar o pacote DataFrames pra ver o que ele pode fazer por nós:"
   ]
  },
  {
   "cell_type": "code",
   "execution_count": 7,
   "metadata": {},
   "outputs": [
    {
     "name": "stdout",
     "output_type": "stream",
     "text": [
      "search: \u001b[0m\u001b[1mD\u001b[22m\u001b[0m\u001b[1ma\u001b[22m\u001b[0m\u001b[1mt\u001b[22m\u001b[0m\u001b[1ma\u001b[22m\u001b[0m\u001b[1mF\u001b[22m\u001b[0m\u001b[1mr\u001b[22m\u001b[0m\u001b[1ma\u001b[22m\u001b[0m\u001b[1mm\u001b[22m\u001b[0m\u001b[1me\u001b[22m \u001b[0m\u001b[1mD\u001b[22m\u001b[0m\u001b[1ma\u001b[22m\u001b[0m\u001b[1mt\u001b[22m\u001b[0m\u001b[1ma\u001b[22m\u001b[0m\u001b[1mF\u001b[22m\u001b[0m\u001b[1mr\u001b[22m\u001b[0m\u001b[1ma\u001b[22m\u001b[0m\u001b[1mm\u001b[22m\u001b[0m\u001b[1me\u001b[22ms \u001b[0m\u001b[1mD\u001b[22m\u001b[0m\u001b[1ma\u001b[22m\u001b[0m\u001b[1mt\u001b[22m\u001b[0m\u001b[1ma\u001b[22m\u001b[0m\u001b[1mF\u001b[22m\u001b[0m\u001b[1mr\u001b[22m\u001b[0m\u001b[1ma\u001b[22m\u001b[0m\u001b[1mm\u001b[22m\u001b[0m\u001b[1me\u001b[22mRow Sub\u001b[0m\u001b[1mD\u001b[22m\u001b[0m\u001b[1ma\u001b[22m\u001b[0m\u001b[1mt\u001b[22m\u001b[0m\u001b[1ma\u001b[22m\u001b[0m\u001b[1mF\u001b[22m\u001b[0m\u001b[1mr\u001b[22m\u001b[0m\u001b[1ma\u001b[22m\u001b[0m\u001b[1mm\u001b[22m\u001b[0m\u001b[1me\u001b[22m Groupe\u001b[0m\u001b[1md\u001b[22mD\u001b[0m\u001b[1ma\u001b[22m\u001b[0m\u001b[1mt\u001b[22m\u001b[0m\u001b[1ma\u001b[22m\u001b[0m\u001b[1mF\u001b[22m\u001b[0m\u001b[1mr\u001b[22m\u001b[0m\u001b[1ma\u001b[22m\u001b[0m\u001b[1mm\u001b[22m\u001b[0m\u001b[1me\u001b[22m\n",
      "\n"
     ]
    },
    {
     "data": {
      "text/latex": [
       "\\begin{verbatim}\n",
       "DataFrame <: AbstractDataFrame\n",
       "\\end{verbatim}\n",
       "An AbstractDataFrame that stores a set of named columns\n",
       "\n",
       "The columns are normally AbstractVectors stored in memory, particularly a Vector or CategoricalVector.\n",
       "\n",
       "\\textbf{Constructors}\n",
       "\n",
       "\\begin{verbatim}\n",
       "DataFrame(columns::Vector, names::Vector{Symbol}; makeunique::Bool=false)\n",
       "DataFrame(columns::Matrix, names::Vector{Symbol}; makeunique::Bool=false)\n",
       "DataFrame(kwargs...)\n",
       "DataFrame(pairs::Pair{Symbol}...; makeunique::Bool=false)\n",
       "DataFrame() # an empty DataFrame\n",
       "DataFrame(t::Type, nrows::Integer, ncols::Integer) # an empty DataFrame of arbitrary size\n",
       "DataFrame(column_eltypes::Vector, names::Vector, nrows::Integer; makeunique::Bool=false)\n",
       "DataFrame(column_eltypes::Vector, cnames::Vector, categorical::Vector, nrows::Integer;\n",
       "          makeunique::Bool=false)\n",
       "DataFrame(ds::AbstractDict)\n",
       "DataFrame(table; makeunique::Bool=false)\n",
       "\\end{verbatim}\n",
       "\\textbf{Arguments}\n",
       "\n",
       "\\begin{itemize}\n",
       "\\item \\texttt{columns} : a Vector with each column as contents or a Matrix\n",
       "\n",
       "\n",
       "\\item \\texttt{names} : the column names\n",
       "\n",
       "\n",
       "\\item \\texttt{makeunique} : if \\texttt{false} (the default), an error will be raised if duplicates in \\texttt{names} are found; if \\texttt{true}, duplicate names will be suffixed with \\texttt{\\_i} (\\texttt{i} starting at 1 for the first duplicate).\n",
       "\n",
       "\n",
       "\\item \\texttt{kwargs} : the key gives the column names, and the value is the column contents\n",
       "\n",
       "\n",
       "\\item \\texttt{t} : elemental type of all columns\n",
       "\n",
       "\n",
       "\\item \\texttt{nrows}, \\texttt{ncols} : number of rows and columns\n",
       "\n",
       "\n",
       "\\item \\texttt{column\\_eltypes} : elemental type of each column\n",
       "\n",
       "\n",
       "\\item \\texttt{categorical} : \\texttt{Vector\\{Bool\\}} indicating which columns should be converted to                 \\texttt{CategoricalVector}\n",
       "\n",
       "\n",
       "\\item \\texttt{ds} : \\texttt{AbstractDict} of columns\n",
       "\n",
       "\n",
       "\\item \\texttt{table}: any type that implements the \\href{https://github.com/JuliaData/Tables.jl}{Tables.jl} interface\n",
       "\n",
       "\\end{itemize}\n",
       "Each column in \\texttt{columns} should be the same length.\n",
       "\n",
       "\\textbf{Notes}\n",
       "\n",
       "A \\texttt{DataFrame} is a lightweight object. As long as columns are not manipulated, creation of a \\texttt{DataFrame} from existing AbstractVectors is inexpensive. For example, indexing on columns is inexpensive, but indexing by rows is expensive because copies are made of each column.\n",
       "\n",
       "If a column is passed to a \\texttt{DataFrame} constructor or is assigned as a whole using \\texttt{setindex!} then its reference is stored in the \\texttt{DataFrame}. An exception to this rule is assignment of an \\texttt{AbstractRange} as a column, in which case the range is collected to a \\texttt{Vector}.\n",
       "\n",
       "Because column types can vary, a \\texttt{DataFrame} is not type stable. For performance-critical code, do not index into a \\texttt{DataFrame} inside of loops.\n",
       "\n",
       "\\textbf{Examples}\n",
       "\n",
       "\\begin{verbatim}\n",
       "df = DataFrame()\n",
       "v = [\"x\",\"y\",\"z\"][rand(1:3, 10)]\n",
       "df1 = DataFrame(Any[collect(1:10), v, rand(10)], [:A, :B, :C])\n",
       "df2 = DataFrame(A = 1:10, B = v, C = rand(10))\n",
       "dump(df1)\n",
       "dump(df2)\n",
       "describe(df2)\n",
       "first(df1, 10)\n",
       "df1[:A] + df2[:C]\n",
       "df1[1:4, 1:2]\n",
       "df1[[:A,:C]]\n",
       "df1[1:2, [:A,:C]]\n",
       "df1[:, [:A,:C]]\n",
       "df1[:, [1,3]]\n",
       "df1[1:4, :]\n",
       "df1[1:4, :C]\n",
       "df1[1:4, :C] = 40. * df1[1:4, :C]\n",
       "[df1; df2]  # vcat\n",
       "[df1  df2]  # hcat\n",
       "size(df1)\n",
       "\\end{verbatim}\n"
      ],
      "text/markdown": [
       "```\n",
       "DataFrame <: AbstractDataFrame\n",
       "```\n",
       "\n",
       "An AbstractDataFrame that stores a set of named columns\n",
       "\n",
       "The columns are normally AbstractVectors stored in memory, particularly a Vector or CategoricalVector.\n",
       "\n",
       "**Constructors**\n",
       "\n",
       "```julia\n",
       "DataFrame(columns::Vector, names::Vector{Symbol}; makeunique::Bool=false)\n",
       "DataFrame(columns::Matrix, names::Vector{Symbol}; makeunique::Bool=false)\n",
       "DataFrame(kwargs...)\n",
       "DataFrame(pairs::Pair{Symbol}...; makeunique::Bool=false)\n",
       "DataFrame() # an empty DataFrame\n",
       "DataFrame(t::Type, nrows::Integer, ncols::Integer) # an empty DataFrame of arbitrary size\n",
       "DataFrame(column_eltypes::Vector, names::Vector, nrows::Integer; makeunique::Bool=false)\n",
       "DataFrame(column_eltypes::Vector, cnames::Vector, categorical::Vector, nrows::Integer;\n",
       "          makeunique::Bool=false)\n",
       "DataFrame(ds::AbstractDict)\n",
       "DataFrame(table; makeunique::Bool=false)\n",
       "```\n",
       "\n",
       "**Arguments**\n",
       "\n",
       "  * `columns` : a Vector with each column as contents or a Matrix\n",
       "  * `names` : the column names\n",
       "  * `makeunique` : if `false` (the default), an error will be raised if duplicates in `names` are found; if `true`, duplicate names will be suffixed with `_i` (`i` starting at 1 for the first duplicate).\n",
       "  * `kwargs` : the key gives the column names, and the value is the column contents\n",
       "  * `t` : elemental type of all columns\n",
       "  * `nrows`, `ncols` : number of rows and columns\n",
       "  * `column_eltypes` : elemental type of each column\n",
       "  * `categorical` : `Vector{Bool}` indicating which columns should be converted to                 `CategoricalVector`\n",
       "  * `ds` : `AbstractDict` of columns\n",
       "  * `table`: any type that implements the [Tables.jl](https://github.com/JuliaData/Tables.jl) interface\n",
       "\n",
       "Each column in `columns` should be the same length.\n",
       "\n",
       "**Notes**\n",
       "\n",
       "A `DataFrame` is a lightweight object. As long as columns are not manipulated, creation of a `DataFrame` from existing AbstractVectors is inexpensive. For example, indexing on columns is inexpensive, but indexing by rows is expensive because copies are made of each column.\n",
       "\n",
       "If a column is passed to a `DataFrame` constructor or is assigned as a whole using `setindex!` then its reference is stored in the `DataFrame`. An exception to this rule is assignment of an `AbstractRange` as a column, in which case the range is collected to a `Vector`.\n",
       "\n",
       "Because column types can vary, a `DataFrame` is not type stable. For performance-critical code, do not index into a `DataFrame` inside of loops.\n",
       "\n",
       "**Examples**\n",
       "\n",
       "```julia\n",
       "df = DataFrame()\n",
       "v = [\"x\",\"y\",\"z\"][rand(1:3, 10)]\n",
       "df1 = DataFrame(Any[collect(1:10), v, rand(10)], [:A, :B, :C])\n",
       "df2 = DataFrame(A = 1:10, B = v, C = rand(10))\n",
       "dump(df1)\n",
       "dump(df2)\n",
       "describe(df2)\n",
       "first(df1, 10)\n",
       "df1[:A] + df2[:C]\n",
       "df1[1:4, 1:2]\n",
       "df1[[:A,:C]]\n",
       "df1[1:2, [:A,:C]]\n",
       "df1[:, [:A,:C]]\n",
       "df1[:, [1,3]]\n",
       "df1[1:4, :]\n",
       "df1[1:4, :C]\n",
       "df1[1:4, :C] = 40. * df1[1:4, :C]\n",
       "[df1; df2]  # vcat\n",
       "[df1  df2]  # hcat\n",
       "size(df1)\n",
       "```\n"
      ],
      "text/plain": [
       "\u001b[36m  DataFrame <: AbstractDataFrame\u001b[39m\n",
       "\n",
       "  An AbstractDataFrame that stores a set of named columns\n",
       "\n",
       "  The columns are normally AbstractVectors stored in memory, particularly a\n",
       "  Vector or CategoricalVector.\n",
       "\n",
       "  \u001b[1mConstructors\u001b[22m\n",
       "\n",
       "\u001b[36m  DataFrame(columns::Vector, names::Vector{Symbol}; makeunique::Bool=false)\u001b[39m\n",
       "\u001b[36m  DataFrame(columns::Matrix, names::Vector{Symbol}; makeunique::Bool=false)\u001b[39m\n",
       "\u001b[36m  DataFrame(kwargs...)\u001b[39m\n",
       "\u001b[36m  DataFrame(pairs::Pair{Symbol}...; makeunique::Bool=false)\u001b[39m\n",
       "\u001b[36m  DataFrame() # an empty DataFrame\u001b[39m\n",
       "\u001b[36m  DataFrame(t::Type, nrows::Integer, ncols::Integer) # an empty DataFrame of arbitrary size\u001b[39m\n",
       "\u001b[36m  DataFrame(column_eltypes::Vector, names::Vector, nrows::Integer; makeunique::Bool=false)\u001b[39m\n",
       "\u001b[36m  DataFrame(column_eltypes::Vector, cnames::Vector, categorical::Vector, nrows::Integer;\u001b[39m\n",
       "\u001b[36m            makeunique::Bool=false)\u001b[39m\n",
       "\u001b[36m  DataFrame(ds::AbstractDict)\u001b[39m\n",
       "\u001b[36m  DataFrame(table; makeunique::Bool=false)\u001b[39m\n",
       "\n",
       "  \u001b[1mArguments\u001b[22m\n",
       "\n",
       "    •    \u001b[36mcolumns\u001b[39m : a Vector with each column as contents or a Matrix\n",
       "\n",
       "    •    \u001b[36mnames\u001b[39m : the column names\n",
       "\n",
       "    •    \u001b[36mmakeunique\u001b[39m : if \u001b[36mfalse\u001b[39m (the default), an error will be raised if\n",
       "        duplicates in \u001b[36mnames\u001b[39m are found; if \u001b[36mtrue\u001b[39m, duplicate names will be\n",
       "        suffixed with \u001b[36m_i\u001b[39m (\u001b[36mi\u001b[39m starting at 1 for the first duplicate).\n",
       "\n",
       "    •    \u001b[36mkwargs\u001b[39m : the key gives the column names, and the value is the\n",
       "        column contents\n",
       "\n",
       "    •    \u001b[36mt\u001b[39m : elemental type of all columns\n",
       "\n",
       "    •    \u001b[36mnrows\u001b[39m, \u001b[36mncols\u001b[39m : number of rows and columns\n",
       "\n",
       "    •    \u001b[36mcolumn_eltypes\u001b[39m : elemental type of each column\n",
       "\n",
       "    •    \u001b[36mcategorical\u001b[39m : \u001b[36mVector{Bool}\u001b[39m indicating which columns should be\n",
       "        converted to \u001b[36mCategoricalVector\u001b[39m\n",
       "\n",
       "    •    \u001b[36mds\u001b[39m : \u001b[36mAbstractDict\u001b[39m of columns\n",
       "\n",
       "    •    \u001b[36mtable\u001b[39m: any type that implements the Tables.jl\n",
       "        (https://github.com/JuliaData/Tables.jl) interface\n",
       "\n",
       "  Each column in \u001b[36mcolumns\u001b[39m should be the same length.\n",
       "\n",
       "  \u001b[1mNotes\u001b[22m\n",
       "\n",
       "  A \u001b[36mDataFrame\u001b[39m is a lightweight object. As long as columns are not manipulated,\n",
       "  creation of a \u001b[36mDataFrame\u001b[39m from existing AbstractVectors is inexpensive. For\n",
       "  example, indexing on columns is inexpensive, but indexing by rows is\n",
       "  expensive because copies are made of each column.\n",
       "\n",
       "  If a column is passed to a \u001b[36mDataFrame\u001b[39m constructor or is assigned as a whole\n",
       "  using \u001b[36msetindex!\u001b[39m then its reference is stored in the \u001b[36mDataFrame\u001b[39m. An exception\n",
       "  to this rule is assignment of an \u001b[36mAbstractRange\u001b[39m as a column, in which case\n",
       "  the range is collected to a \u001b[36mVector\u001b[39m.\n",
       "\n",
       "  Because column types can vary, a \u001b[36mDataFrame\u001b[39m is not type stable. For\n",
       "  performance-critical code, do not index into a \u001b[36mDataFrame\u001b[39m inside of loops.\n",
       "\n",
       "  \u001b[1mExamples\u001b[22m\n",
       "\n",
       "\u001b[36m  df = DataFrame()\u001b[39m\n",
       "\u001b[36m  v = [\"x\",\"y\",\"z\"][rand(1:3, 10)]\u001b[39m\n",
       "\u001b[36m  df1 = DataFrame(Any[collect(1:10), v, rand(10)], [:A, :B, :C])\u001b[39m\n",
       "\u001b[36m  df2 = DataFrame(A = 1:10, B = v, C = rand(10))\u001b[39m\n",
       "\u001b[36m  dump(df1)\u001b[39m\n",
       "\u001b[36m  dump(df2)\u001b[39m\n",
       "\u001b[36m  describe(df2)\u001b[39m\n",
       "\u001b[36m  first(df1, 10)\u001b[39m\n",
       "\u001b[36m  df1[:A] + df2[:C]\u001b[39m\n",
       "\u001b[36m  df1[1:4, 1:2]\u001b[39m\n",
       "\u001b[36m  df1[[:A,:C]]\u001b[39m\n",
       "\u001b[36m  df1[1:2, [:A,:C]]\u001b[39m\n",
       "\u001b[36m  df1[:, [:A,:C]]\u001b[39m\n",
       "\u001b[36m  df1[:, [1,3]]\u001b[39m\n",
       "\u001b[36m  df1[1:4, :]\u001b[39m\n",
       "\u001b[36m  df1[1:4, :C]\u001b[39m\n",
       "\u001b[36m  df1[1:4, :C] = 40. * df1[1:4, :C]\u001b[39m\n",
       "\u001b[36m  [df1; df2]  # vcat\u001b[39m\n",
       "\u001b[36m  [df1  df2]  # hcat\u001b[39m\n",
       "\u001b[36m  size(df1)\u001b[39m"
      ]
     },
     "execution_count": 7,
     "metadata": {},
     "output_type": "execute_result"
    }
   ],
   "source": [
    "?DataFrame"
   ]
  },
  {
   "cell_type": "markdown",
   "metadata": {},
   "source": [
    "Vamos então criar um fataframe para brincar:"
   ]
  },
  {
   "cell_type": "code",
   "execution_count": 8,
   "metadata": {},
   "outputs": [
    {
     "data": {
      "text/html": [
       "<table class=\"data-frame\"><thead><tr><th></th></tr><tr><th></th></tr></thead><tbody><p>0 rows × 0 columns</p></tbody></table>"
      ],
      "text/latex": [
       "\\begin{tabular}{r|}\n",
       "\t& \\\\\n",
       "\t\\hline\n",
       "\t& \\\\\n",
       "\t\\hline\n",
       "\\end{tabular}\n"
      ],
      "text/plain": [
       "0×0 DataFrame\n"
      ]
     },
     "execution_count": 8,
     "metadata": {},
     "output_type": "execute_result"
    }
   ],
   "source": [
    "df=DataFrame()"
   ]
  },
  {
   "cell_type": "markdown",
   "metadata": {},
   "source": [
    "Criamos um df vazio. Agora vamos inspecionar as dimensões dele (finge que você não sabe e que alguém te passou um df que você nunca viu na vida)."
   ]
  },
  {
   "cell_type": "code",
   "execution_count": 9,
   "metadata": {
    "scrolled": true
   },
   "outputs": [
    {
     "data": {
      "text/plain": [
       "0"
      ]
     },
     "execution_count": 9,
     "metadata": {},
     "output_type": "execute_result"
    }
   ],
   "source": [
    "size(df,1) # Quantas linhas meu df tem?"
   ]
  },
  {
   "cell_type": "code",
   "execution_count": 11,
   "metadata": {},
   "outputs": [
    {
     "data": {
      "text/plain": [
       "0"
      ]
     },
     "execution_count": 11,
     "metadata": {},
     "output_type": "execute_result"
    }
   ],
   "source": [
    "nrow(df) # A mesma coisa, mas de outro jeito."
   ]
  },
  {
   "cell_type": "code",
   "execution_count": 10,
   "metadata": {},
   "outputs": [
    {
     "data": {
      "text/plain": [
       "0"
      ]
     },
     "execution_count": 10,
     "metadata": {},
     "output_type": "execute_result"
    }
   ],
   "source": [
    "size(df,2) #Quantas colunas meu df tem?"
   ]
  },
  {
   "cell_type": "code",
   "execution_count": 13,
   "metadata": {},
   "outputs": [
    {
     "data": {
      "text/plain": [
       "0"
      ]
     },
     "execution_count": 13,
     "metadata": {},
     "output_type": "execute_result"
    }
   ],
   "source": [
    "ncol(df) # A mesma coisa, mas de outro jeito."
   ]
  },
  {
   "cell_type": "code",
   "execution_count": 16,
   "metadata": {},
   "outputs": [
    {
     "data": {
      "text/html": [
       "<table class=\"data-frame\"><thead><tr><th></th><th>PRIMEIRACOLUNA</th></tr><tr><th></th><th>Int64</th></tr></thead><tbody><p>10 rows × 1 columns</p><tr><th>1</th><td>1</td></tr><tr><th>2</th><td>2</td></tr><tr><th>3</th><td>3</td></tr><tr><th>4</th><td>4</td></tr><tr><th>5</th><td>5</td></tr><tr><th>6</th><td>6</td></tr><tr><th>7</th><td>7</td></tr><tr><th>8</th><td>8</td></tr><tr><th>9</th><td>9</td></tr><tr><th>10</th><td>10</td></tr></tbody></table>"
      ],
      "text/latex": [
       "\\begin{tabular}{r|c}\n",
       "\t& PRIMEIRACOLUNA\\\\\n",
       "\t\\hline\n",
       "\t& Int64\\\\\n",
       "\t\\hline\n",
       "\t1 & 1 \\\\\n",
       "\t2 & 2 \\\\\n",
       "\t3 & 3 \\\\\n",
       "\t4 & 4 \\\\\n",
       "\t5 & 5 \\\\\n",
       "\t6 & 6 \\\\\n",
       "\t7 & 7 \\\\\n",
       "\t8 & 8 \\\\\n",
       "\t9 & 9 \\\\\n",
       "\t10 & 10 \\\\\n",
       "\\end{tabular}\n"
      ],
      "text/plain": [
       "10×1 DataFrame\n",
       "│ Row │ PRIMEIRACOLUNA │\n",
       "│     │ \u001b[90mInt64\u001b[39m          │\n",
       "├─────┼────────────────┤\n",
       "│ 1   │ 1              │\n",
       "│ 2   │ 2              │\n",
       "│ 3   │ 3              │\n",
       "│ 4   │ 4              │\n",
       "│ 5   │ 5              │\n",
       "│ 6   │ 6              │\n",
       "│ 7   │ 7              │\n",
       "│ 8   │ 8              │\n",
       "│ 9   │ 9              │\n",
       "│ 10  │ 10             │"
      ]
     },
     "execution_count": 16,
     "metadata": {},
     "output_type": "execute_result"
    }
   ],
   "source": [
    "df.PRIMEIRACOLUNA=1:10 # Criando a primeira coluna com 10 linhas preenchidas com uma sequência de 1 a 10.\n",
    "df"
   ]
  },
  {
   "cell_type": "code",
   "execution_count": 19,
   "metadata": {},
   "outputs": [
    {
     "data": {
      "text/plain": [
       "MersenneTwister(UInt32[0x0000002a], Random.DSFMT.DSFMT_state(Int32[964434469, 1073036706, 1860149520, 1073503458, 1687169063, 1073083486, -399267803, 1072983952, -909620556, 1072836235  …  -293054293, 1073002412, -1300127419, 1073642642, 1917177374, -666058738, -337596527, 1830741494, 382, 0]), [0.0, 0.0, 0.0, 0.0, 0.0, 0.0, 0.0, 0.0, 0.0, 0.0  …  0.0, 0.0, 0.0, 0.0, 0.0, 0.0, 0.0, 0.0, 0.0, 0.0], UInt128[0x00000000000000000000000000000000, 0x00000000000000000000000000000000, 0x00000000000000000000000000000000, 0x00000000000000000000000000000000, 0x00000000000000000000000000000000, 0x00000000000000000000000000000000, 0x00000000000000000000000000000000, 0x00000000000000000000000000000000, 0x00000000000000000000000000000000, 0x00000000000000000000000000000000  …  0x00000000000000000000000000000000, 0x00000000000000000000000000000000, 0x00000000000000000000000000000000, 0x00000000000000000000000000000000, 0x00000000000000000000000000000000, 0x00000000000000000000000000000000, 0x00000000000000000000000000000000, 0x00000000000000000000000000000000, 0x00000000000000000000000000000000, 0x00000000000000000000000000000000], 1002, 0)"
      ]
     },
     "execution_count": 19,
     "metadata": {},
     "output_type": "execute_result"
    }
   ],
   "source": [
    "Random.seed!(42) # Vamos travar o conjunto de números aleatórios para facilitar nosso trabalho em grupo! <3"
   ]
  },
  {
   "cell_type": "markdown",
   "metadata": {},
   "source": [
    "Vamos preencher a nossa matriz com três colunas:"
   ]
  },
  {
   "cell_type": "code",
   "execution_count": 26,
   "metadata": {},
   "outputs": [
    {
     "data": {
      "text/html": [
       "<table class=\"data-frame\"><thead><tr><th></th><th>A</th><th>B</th><th>C</th></tr><tr><th></th><th>Int64</th><th>String</th><th>Float64</th></tr></thead><tbody><p>10 rows × 3 columns</p><tr><th>1</th><td>1</td><td>a</td><td>0.61205</td></tr><tr><th>2</th><td>2</td><td>b</td><td>0.210885</td></tr><tr><th>3</th><td>3</td><td>c</td><td>0.167169</td></tr><tr><th>4</th><td>4</td><td>d</td><td>0.497081</td></tr><tr><th>5</th><td>5</td><td>e</td><td>0.969432</td></tr><tr><th>6</th><td>6</td><td>f</td><td>0.0823367</td></tr><tr><th>7</th><td>7</td><td>g</td><td>0.244683</td></tr><tr><th>8</th><td>8</td><td>h</td><td>0.452418</td></tr><tr><th>9</th><td>9</td><td>i</td><td>0.763719</td></tr><tr><th>10</th><td>10</td><td>j</td><td>0.281987</td></tr></tbody></table>"
      ],
      "text/latex": [
       "\\begin{tabular}{r|ccc}\n",
       "\t& A & B & C\\\\\n",
       "\t\\hline\n",
       "\t& Int64 & String & Float64\\\\\n",
       "\t\\hline\n",
       "\t1 & 1 & a & 0.61205 \\\\\n",
       "\t2 & 2 & b & 0.210885 \\\\\n",
       "\t3 & 3 & c & 0.167169 \\\\\n",
       "\t4 & 4 & d & 0.497081 \\\\\n",
       "\t5 & 5 & e & 0.969432 \\\\\n",
       "\t6 & 6 & f & 0.0823367 \\\\\n",
       "\t7 & 7 & g & 0.244683 \\\\\n",
       "\t8 & 8 & h & 0.452418 \\\\\n",
       "\t9 & 9 & i & 0.763719 \\\\\n",
       "\t10 & 10 & j & 0.281987 \\\\\n",
       "\\end{tabular}\n"
      ],
      "text/plain": [
       "10×3 DataFrame\n",
       "│ Row │ A     │ B      │ C         │\n",
       "│     │ \u001b[90mInt64\u001b[39m │ \u001b[90mString\u001b[39m │ \u001b[90mFloat64\u001b[39m   │\n",
       "├─────┼───────┼────────┼───────────┤\n",
       "│ 1   │ 1     │ a      │ 0.61205   │\n",
       "│ 2   │ 2     │ b      │ 0.210885  │\n",
       "│ 3   │ 3     │ c      │ 0.167169  │\n",
       "│ 4   │ 4     │ d      │ 0.497081  │\n",
       "│ 5   │ 5     │ e      │ 0.969432  │\n",
       "│ 6   │ 6     │ f      │ 0.0823367 │\n",
       "│ 7   │ 7     │ g      │ 0.244683  │\n",
       "│ 8   │ 8     │ h      │ 0.452418  │\n",
       "│ 9   │ 9     │ i      │ 0.763719  │\n",
       "│ 10  │ 10    │ j      │ 0.281987  │"
      ]
     },
     "execution_count": 26,
     "metadata": {},
     "output_type": "execute_result"
    }
   ],
   "source": [
    "df1 = DataFrame(A = 1:10, B = [\"a\",\"b\",\"c\",\"d\",\"e\",\"f\",\"g\",\"h\",\"i\",\"j\"], C = rand(10))"
   ]
  },
  {
   "cell_type": "markdown",
   "metadata": {},
   "source": [
    "Agora vamos renomear as colunas:"
   ]
  },
  {
   "cell_type": "code",
   "execution_count": 27,
   "metadata": {},
   "outputs": [
    {
     "data": {
      "text/html": [
       "<table class=\"data-frame\"><thead><tr><th></th><th>F</th><th>B</th><th>C</th></tr><tr><th></th><th>Int64</th><th>String</th><th>Float64</th></tr></thead><tbody><p>10 rows × 3 columns</p><tr><th>1</th><td>1</td><td>a</td><td>0.61205</td></tr><tr><th>2</th><td>2</td><td>b</td><td>0.210885</td></tr><tr><th>3</th><td>3</td><td>c</td><td>0.167169</td></tr><tr><th>4</th><td>4</td><td>d</td><td>0.497081</td></tr><tr><th>5</th><td>5</td><td>e</td><td>0.969432</td></tr><tr><th>6</th><td>6</td><td>f</td><td>0.0823367</td></tr><tr><th>7</th><td>7</td><td>g</td><td>0.244683</td></tr><tr><th>8</th><td>8</td><td>h</td><td>0.452418</td></tr><tr><th>9</th><td>9</td><td>i</td><td>0.763719</td></tr><tr><th>10</th><td>10</td><td>j</td><td>0.281987</td></tr></tbody></table>"
      ],
      "text/latex": [
       "\\begin{tabular}{r|ccc}\n",
       "\t& F & B & C\\\\\n",
       "\t\\hline\n",
       "\t& Int64 & String & Float64\\\\\n",
       "\t\\hline\n",
       "\t1 & 1 & a & 0.61205 \\\\\n",
       "\t2 & 2 & b & 0.210885 \\\\\n",
       "\t3 & 3 & c & 0.167169 \\\\\n",
       "\t4 & 4 & d & 0.497081 \\\\\n",
       "\t5 & 5 & e & 0.969432 \\\\\n",
       "\t6 & 6 & f & 0.0823367 \\\\\n",
       "\t7 & 7 & g & 0.244683 \\\\\n",
       "\t8 & 8 & h & 0.452418 \\\\\n",
       "\t9 & 9 & i & 0.763719 \\\\\n",
       "\t10 & 10 & j & 0.281987 \\\\\n",
       "\\end{tabular}\n"
      ],
      "text/plain": [
       "10×3 DataFrame\n",
       "│ Row │ F     │ B      │ C         │\n",
       "│     │ \u001b[90mInt64\u001b[39m │ \u001b[90mString\u001b[39m │ \u001b[90mFloat64\u001b[39m   │\n",
       "├─────┼───────┼────────┼───────────┤\n",
       "│ 1   │ 1     │ a      │ 0.61205   │\n",
       "│ 2   │ 2     │ b      │ 0.210885  │\n",
       "│ 3   │ 3     │ c      │ 0.167169  │\n",
       "│ 4   │ 4     │ d      │ 0.497081  │\n",
       "│ 5   │ 5     │ e      │ 0.969432  │\n",
       "│ 6   │ 6     │ f      │ 0.0823367 │\n",
       "│ 7   │ 7     │ g      │ 0.244683  │\n",
       "│ 8   │ 8     │ h      │ 0.452418  │\n",
       "│ 9   │ 9     │ i      │ 0.763719  │\n",
       "│ 10  │ 10    │ j      │ 0.281987  │"
      ]
     },
     "execution_count": 27,
     "metadata": {},
     "output_type": "execute_result"
    }
   ],
   "source": [
    "rename(df1,:A => :F) # \"Pegue a coluna que se chama 'A' e agora chame ela de 'F', mas não salve no meu objeto df1\""
   ]
  },
  {
   "cell_type": "code",
   "execution_count": 28,
   "metadata": {},
   "outputs": [
    {
     "data": {
      "text/html": [
       "<table class=\"data-frame\"><thead><tr><th></th><th>A</th><th>B</th><th>C</th></tr><tr><th></th><th>Int64</th><th>String</th><th>Float64</th></tr></thead><tbody><p>10 rows × 3 columns</p><tr><th>1</th><td>1</td><td>a</td><td>0.61205</td></tr><tr><th>2</th><td>2</td><td>b</td><td>0.210885</td></tr><tr><th>3</th><td>3</td><td>c</td><td>0.167169</td></tr><tr><th>4</th><td>4</td><td>d</td><td>0.497081</td></tr><tr><th>5</th><td>5</td><td>e</td><td>0.969432</td></tr><tr><th>6</th><td>6</td><td>f</td><td>0.0823367</td></tr><tr><th>7</th><td>7</td><td>g</td><td>0.244683</td></tr><tr><th>8</th><td>8</td><td>h</td><td>0.452418</td></tr><tr><th>9</th><td>9</td><td>i</td><td>0.763719</td></tr><tr><th>10</th><td>10</td><td>j</td><td>0.281987</td></tr></tbody></table>"
      ],
      "text/latex": [
       "\\begin{tabular}{r|ccc}\n",
       "\t& A & B & C\\\\\n",
       "\t\\hline\n",
       "\t& Int64 & String & Float64\\\\\n",
       "\t\\hline\n",
       "\t1 & 1 & a & 0.61205 \\\\\n",
       "\t2 & 2 & b & 0.210885 \\\\\n",
       "\t3 & 3 & c & 0.167169 \\\\\n",
       "\t4 & 4 & d & 0.497081 \\\\\n",
       "\t5 & 5 & e & 0.969432 \\\\\n",
       "\t6 & 6 & f & 0.0823367 \\\\\n",
       "\t7 & 7 & g & 0.244683 \\\\\n",
       "\t8 & 8 & h & 0.452418 \\\\\n",
       "\t9 & 9 & i & 0.763719 \\\\\n",
       "\t10 & 10 & j & 0.281987 \\\\\n",
       "\\end{tabular}\n"
      ],
      "text/plain": [
       "10×3 DataFrame\n",
       "│ Row │ A     │ B      │ C         │\n",
       "│     │ \u001b[90mInt64\u001b[39m │ \u001b[90mString\u001b[39m │ \u001b[90mFloat64\u001b[39m   │\n",
       "├─────┼───────┼────────┼───────────┤\n",
       "│ 1   │ 1     │ a      │ 0.61205   │\n",
       "│ 2   │ 2     │ b      │ 0.210885  │\n",
       "│ 3   │ 3     │ c      │ 0.167169  │\n",
       "│ 4   │ 4     │ d      │ 0.497081  │\n",
       "│ 5   │ 5     │ e      │ 0.969432  │\n",
       "│ 6   │ 6     │ f      │ 0.0823367 │\n",
       "│ 7   │ 7     │ g      │ 0.244683  │\n",
       "│ 8   │ 8     │ h      │ 0.452418  │\n",
       "│ 9   │ 9     │ i      │ 0.763719  │\n",
       "│ 10  │ 10    │ j      │ 0.281987  │"
      ]
     },
     "execution_count": 28,
     "metadata": {},
     "output_type": "execute_result"
    }
   ],
   "source": [
    "df1 #Conferindo se atualizou o objeto ou não"
   ]
  },
  {
   "cell_type": "code",
   "execution_count": 29,
   "metadata": {},
   "outputs": [
    {
     "data": {
      "text/html": [
       "<table class=\"data-frame\"><thead><tr><th></th><th>F</th><th>B</th><th>C</th></tr><tr><th></th><th>Int64</th><th>String</th><th>Float64</th></tr></thead><tbody><p>10 rows × 3 columns</p><tr><th>1</th><td>1</td><td>a</td><td>0.61205</td></tr><tr><th>2</th><td>2</td><td>b</td><td>0.210885</td></tr><tr><th>3</th><td>3</td><td>c</td><td>0.167169</td></tr><tr><th>4</th><td>4</td><td>d</td><td>0.497081</td></tr><tr><th>5</th><td>5</td><td>e</td><td>0.969432</td></tr><tr><th>6</th><td>6</td><td>f</td><td>0.0823367</td></tr><tr><th>7</th><td>7</td><td>g</td><td>0.244683</td></tr><tr><th>8</th><td>8</td><td>h</td><td>0.452418</td></tr><tr><th>9</th><td>9</td><td>i</td><td>0.763719</td></tr><tr><th>10</th><td>10</td><td>j</td><td>0.281987</td></tr></tbody></table>"
      ],
      "text/latex": [
       "\\begin{tabular}{r|ccc}\n",
       "\t& F & B & C\\\\\n",
       "\t\\hline\n",
       "\t& Int64 & String & Float64\\\\\n",
       "\t\\hline\n",
       "\t1 & 1 & a & 0.61205 \\\\\n",
       "\t2 & 2 & b & 0.210885 \\\\\n",
       "\t3 & 3 & c & 0.167169 \\\\\n",
       "\t4 & 4 & d & 0.497081 \\\\\n",
       "\t5 & 5 & e & 0.969432 \\\\\n",
       "\t6 & 6 & f & 0.0823367 \\\\\n",
       "\t7 & 7 & g & 0.244683 \\\\\n",
       "\t8 & 8 & h & 0.452418 \\\\\n",
       "\t9 & 9 & i & 0.763719 \\\\\n",
       "\t10 & 10 & j & 0.281987 \\\\\n",
       "\\end{tabular}\n"
      ],
      "text/plain": [
       "10×3 DataFrame\n",
       "│ Row │ F     │ B      │ C         │\n",
       "│     │ \u001b[90mInt64\u001b[39m │ \u001b[90mString\u001b[39m │ \u001b[90mFloat64\u001b[39m   │\n",
       "├─────┼───────┼────────┼───────────┤\n",
       "│ 1   │ 1     │ a      │ 0.61205   │\n",
       "│ 2   │ 2     │ b      │ 0.210885  │\n",
       "│ 3   │ 3     │ c      │ 0.167169  │\n",
       "│ 4   │ 4     │ d      │ 0.497081  │\n",
       "│ 5   │ 5     │ e      │ 0.969432  │\n",
       "│ 6   │ 6     │ f      │ 0.0823367 │\n",
       "│ 7   │ 7     │ g      │ 0.244683  │\n",
       "│ 8   │ 8     │ h      │ 0.452418  │\n",
       "│ 9   │ 9     │ i      │ 0.763719  │\n",
       "│ 10  │ 10    │ j      │ 0.281987  │"
      ]
     },
     "execution_count": 29,
     "metadata": {},
     "output_type": "execute_result"
    }
   ],
   "source": [
    "rename!(df1,:A => :F) # \"Pegue a coluna que se chama 'A' e agora chame ela de 'F', e agora salve no meu objeto df1 (o ! depois da função atualiza o objeto)\""
   ]
  },
  {
   "cell_type": "markdown",
   "metadata": {},
   "source": [
    "Vamos selecionar colunas e linhas. A gente pode fazer isso pelo número dela ou pelo nome:"
   ]
  },
  {
   "cell_type": "code",
   "execution_count": 30,
   "metadata": {},
   "outputs": [
    {
     "data": {
      "text/plain": [
       "10-element Array{Int64,1}:\n",
       "  1\n",
       "  2\n",
       "  3\n",
       "  4\n",
       "  5\n",
       "  6\n",
       "  7\n",
       "  8\n",
       "  9\n",
       " 10"
      ]
     },
     "execution_count": 30,
     "metadata": {},
     "output_type": "execute_result"
    }
   ],
   "source": [
    "df1[:F] #Se pedir com um colchete, ele retorna um vetor"
   ]
  },
  {
   "cell_type": "code",
   "execution_count": 31,
   "metadata": {},
   "outputs": [
    {
     "data": {
      "text/html": [
       "<table class=\"data-frame\"><thead><tr><th></th><th>F</th></tr><tr><th></th><th>Int64</th></tr></thead><tbody><p>10 rows × 1 columns</p><tr><th>1</th><td>1</td></tr><tr><th>2</th><td>2</td></tr><tr><th>3</th><td>3</td></tr><tr><th>4</th><td>4</td></tr><tr><th>5</th><td>5</td></tr><tr><th>6</th><td>6</td></tr><tr><th>7</th><td>7</td></tr><tr><th>8</th><td>8</td></tr><tr><th>9</th><td>9</td></tr><tr><th>10</th><td>10</td></tr></tbody></table>"
      ],
      "text/latex": [
       "\\begin{tabular}{r|c}\n",
       "\t& F\\\\\n",
       "\t\\hline\n",
       "\t& Int64\\\\\n",
       "\t\\hline\n",
       "\t1 & 1 \\\\\n",
       "\t2 & 2 \\\\\n",
       "\t3 & 3 \\\\\n",
       "\t4 & 4 \\\\\n",
       "\t5 & 5 \\\\\n",
       "\t6 & 6 \\\\\n",
       "\t7 & 7 \\\\\n",
       "\t8 & 8 \\\\\n",
       "\t9 & 9 \\\\\n",
       "\t10 & 10 \\\\\n",
       "\\end{tabular}\n"
      ],
      "text/plain": [
       "10×1 DataFrame\n",
       "│ Row │ F     │\n",
       "│     │ \u001b[90mInt64\u001b[39m │\n",
       "├─────┼───────┤\n",
       "│ 1   │ 1     │\n",
       "│ 2   │ 2     │\n",
       "│ 3   │ 3     │\n",
       "│ 4   │ 4     │\n",
       "│ 5   │ 5     │\n",
       "│ 6   │ 6     │\n",
       "│ 7   │ 7     │\n",
       "│ 8   │ 8     │\n",
       "│ 9   │ 9     │\n",
       "│ 10  │ 10    │"
      ]
     },
     "execution_count": 31,
     "metadata": {},
     "output_type": "execute_result"
    }
   ],
   "source": [
    "df1[[:F]] #Se pedir com dois colchetes, ele retorna um dataframe com uma coluna"
   ]
  },
  {
   "cell_type": "markdown",
   "metadata": {},
   "source": [
    "O Guidoni quer as duas últimas colunas cuja linha da coluna 1 são iguais a 5:"
   ]
  },
  {
   "cell_type": "code",
   "execution_count": 51,
   "metadata": {},
   "outputs": [
    {
     "data": {
      "text/html": [
       "<table class=\"data-frame\"><thead><tr><th></th><th>B</th><th>C</th></tr><tr><th></th><th>String</th><th>Float64</th></tr></thead><tbody><p>1 rows × 2 columns</p><tr><th>1</th><td>e</td><td>0.969432</td></tr></tbody></table>"
      ],
      "text/latex": [
       "\\begin{tabular}{r|cc}\n",
       "\t& B & C\\\\\n",
       "\t\\hline\n",
       "\t& String & Float64\\\\\n",
       "\t\\hline\n",
       "\t1 & e & 0.969432 \\\\\n",
       "\\end{tabular}\n"
      ],
      "text/plain": [
       "1×2 DataFrame\n",
       "│ Row │ B      │ C        │\n",
       "│     │ \u001b[90mString\u001b[39m │ \u001b[90mFloat64\u001b[39m  │\n",
       "├─────┼────────┼──────────┤\n",
       "│ 1   │ e      │ 0.969432 │"
      ]
     },
     "execution_count": 51,
     "metadata": {},
     "output_type": "execute_result"
    }
   ],
   "source": [
    "df1[df1.F.==5,2:3]"
   ]
  },
  {
   "cell_type": "markdown",
   "metadata": {},
   "source": [
    "Agora ele quer as linhas em que o valor da coluna 1 são maiores que 5:"
   ]
  },
  {
   "cell_type": "code",
   "execution_count": 52,
   "metadata": {},
   "outputs": [
    {
     "data": {
      "text/html": [
       "<table class=\"data-frame\"><thead><tr><th></th><th>B</th><th>C</th></tr><tr><th></th><th>String</th><th>Float64</th></tr></thead><tbody><p>5 rows × 2 columns</p><tr><th>1</th><td>f</td><td>0.0823367</td></tr><tr><th>2</th><td>g</td><td>0.244683</td></tr><tr><th>3</th><td>h</td><td>0.452418</td></tr><tr><th>4</th><td>i</td><td>0.763719</td></tr><tr><th>5</th><td>j</td><td>0.281987</td></tr></tbody></table>"
      ],
      "text/latex": [
       "\\begin{tabular}{r|cc}\n",
       "\t& B & C\\\\\n",
       "\t\\hline\n",
       "\t& String & Float64\\\\\n",
       "\t\\hline\n",
       "\t1 & f & 0.0823367 \\\\\n",
       "\t2 & g & 0.244683 \\\\\n",
       "\t3 & h & 0.452418 \\\\\n",
       "\t4 & i & 0.763719 \\\\\n",
       "\t5 & j & 0.281987 \\\\\n",
       "\\end{tabular}\n"
      ],
      "text/plain": [
       "5×2 DataFrame\n",
       "│ Row │ B      │ C         │\n",
       "│     │ \u001b[90mString\u001b[39m │ \u001b[90mFloat64\u001b[39m   │\n",
       "├─────┼────────┼───────────┤\n",
       "│ 1   │ f      │ 0.0823367 │\n",
       "│ 2   │ g      │ 0.244683  │\n",
       "│ 3   │ h      │ 0.452418  │\n",
       "│ 4   │ i      │ 0.763719  │\n",
       "│ 5   │ j      │ 0.281987  │"
      ]
     },
     "execution_count": 52,
     "metadata": {},
     "output_type": "execute_result"
    }
   ],
   "source": [
    "df1[df1.F.>5,2:3]"
   ]
  },
  {
   "cell_type": "markdown",
   "metadata": {},
   "source": [
    "Agora ele quer os menores que 5:"
   ]
  },
  {
   "cell_type": "code",
   "execution_count": 58,
   "metadata": {},
   "outputs": [
    {
     "data": {
      "text/html": [
       "<table class=\"data-frame\"><thead><tr><th></th><th>B</th><th>C</th></tr><tr><th></th><th>String</th><th>Float64</th></tr></thead><tbody><p>4 rows × 2 columns</p><tr><th>1</th><td>a</td><td>0.61205</td></tr><tr><th>2</th><td>b</td><td>0.210885</td></tr><tr><th>3</th><td>c</td><td>0.167169</td></tr><tr><th>4</th><td>d</td><td>0.497081</td></tr></tbody></table>"
      ],
      "text/latex": [
       "\\begin{tabular}{r|cc}\n",
       "\t& B & C\\\\\n",
       "\t\\hline\n",
       "\t& String & Float64\\\\\n",
       "\t\\hline\n",
       "\t1 & a & 0.61205 \\\\\n",
       "\t2 & b & 0.210885 \\\\\n",
       "\t3 & c & 0.167169 \\\\\n",
       "\t4 & d & 0.497081 \\\\\n",
       "\\end{tabular}\n"
      ],
      "text/plain": [
       "4×2 DataFrame\n",
       "│ Row │ B      │ C        │\n",
       "│     │ \u001b[90mString\u001b[39m │ \u001b[90mFloat64\u001b[39m  │\n",
       "├─────┼────────┼──────────┤\n",
       "│ 1   │ a      │ 0.61205  │\n",
       "│ 2   │ b      │ 0.210885 │\n",
       "│ 3   │ c      │ 0.167169 │\n",
       "│ 4   │ d      │ 0.497081 │"
      ]
     },
     "execution_count": 58,
     "metadata": {},
     "output_type": "execute_result"
    }
   ],
   "source": [
    "df1[df1.F.<5,2:3]"
   ]
  },
  {
   "cell_type": "markdown",
   "metadata": {},
   "source": [
    "Agora ele quer os diferentes de 5:"
   ]
  },
  {
   "cell_type": "code",
   "execution_count": 55,
   "metadata": {},
   "outputs": [
    {
     "data": {
      "text/html": [
       "<table class=\"data-frame\"><thead><tr><th></th><th>F</th><th>B</th><th>C</th></tr><tr><th></th><th>Int64</th><th>String</th><th>Float64</th></tr></thead><tbody><p>10 rows × 3 columns</p><tr><th>1</th><td>1</td><td>a</td><td>0.61205</td></tr><tr><th>2</th><td>2</td><td>b</td><td>0.210885</td></tr><tr><th>3</th><td>3</td><td>c</td><td>0.167169</td></tr><tr><th>4</th><td>4</td><td>d</td><td>0.497081</td></tr><tr><th>5</th><td>5</td><td>e</td><td>0.969432</td></tr><tr><th>6</th><td>6</td><td>f</td><td>0.0823367</td></tr><tr><th>7</th><td>7</td><td>g</td><td>0.244683</td></tr><tr><th>8</th><td>8</td><td>h</td><td>0.452418</td></tr><tr><th>9</th><td>9</td><td>i</td><td>0.763719</td></tr><tr><th>10</th><td>10</td><td>j</td><td>0.281987</td></tr></tbody></table>"
      ],
      "text/latex": [
       "\\begin{tabular}{r|ccc}\n",
       "\t& F & B & C\\\\\n",
       "\t\\hline\n",
       "\t& Int64 & String & Float64\\\\\n",
       "\t\\hline\n",
       "\t1 & 1 & a & 0.61205 \\\\\n",
       "\t2 & 2 & b & 0.210885 \\\\\n",
       "\t3 & 3 & c & 0.167169 \\\\\n",
       "\t4 & 4 & d & 0.497081 \\\\\n",
       "\t5 & 5 & e & 0.969432 \\\\\n",
       "\t6 & 6 & f & 0.0823367 \\\\\n",
       "\t7 & 7 & g & 0.244683 \\\\\n",
       "\t8 & 8 & h & 0.452418 \\\\\n",
       "\t9 & 9 & i & 0.763719 \\\\\n",
       "\t10 & 10 & j & 0.281987 \\\\\n",
       "\\end{tabular}\n"
      ],
      "text/plain": [
       "10×3 DataFrame\n",
       "│ Row │ F     │ B      │ C         │\n",
       "│     │ \u001b[90mInt64\u001b[39m │ \u001b[90mString\u001b[39m │ \u001b[90mFloat64\u001b[39m   │\n",
       "├─────┼───────┼────────┼───────────┤\n",
       "│ 1   │ 1     │ a      │ 0.61205   │\n",
       "│ 2   │ 2     │ b      │ 0.210885  │\n",
       "│ 3   │ 3     │ c      │ 0.167169  │\n",
       "│ 4   │ 4     │ d      │ 0.497081  │\n",
       "│ 5   │ 5     │ e      │ 0.969432  │\n",
       "│ 6   │ 6     │ f      │ 0.0823367 │\n",
       "│ 7   │ 7     │ g      │ 0.244683  │\n",
       "│ 8   │ 8     │ h      │ 0.452418  │\n",
       "│ 9   │ 9     │ i      │ 0.763719  │\n",
       "│ 10  │ 10    │ j      │ 0.281987  │"
      ]
     },
     "execution_count": 55,
     "metadata": {},
     "output_type": "execute_result"
    }
   ],
   "source": [
    "df1[df1.F.!=5,2:3]"
   ]
  },
  {
   "cell_type": "markdown",
   "metadata": {},
   "source": [
    "Agora a Raquel quer as linhas cujos valores na coluna 1 estejam entre 2 e 6:"
   ]
  },
  {
   "cell_type": "code",
   "execution_count": 67,
   "metadata": {},
   "outputs": [
    {
     "data": {
      "text/html": [
       "<table class=\"data-frame\"><thead><tr><th></th><th>F</th><th>B</th><th>C</th></tr><tr><th></th><th>Int64</th><th>String</th><th>Float64</th></tr></thead><tbody><p>3 rows × 3 columns</p><tr><th>1</th><td>3</td><td>c</td><td>0.167169</td></tr><tr><th>2</th><td>4</td><td>d</td><td>0.497081</td></tr><tr><th>3</th><td>5</td><td>e</td><td>0.969432</td></tr></tbody></table>"
      ],
      "text/latex": [
       "\\begin{tabular}{r|ccc}\n",
       "\t& F & B & C\\\\\n",
       "\t\\hline\n",
       "\t& Int64 & String & Float64\\\\\n",
       "\t\\hline\n",
       "\t1 & 3 & c & 0.167169 \\\\\n",
       "\t2 & 4 & d & 0.497081 \\\\\n",
       "\t3 & 5 & e & 0.969432 \\\\\n",
       "\\end{tabular}\n"
      ],
      "text/plain": [
       "3×3 DataFrame\n",
       "│ Row │ F     │ B      │ C        │\n",
       "│     │ \u001b[90mInt64\u001b[39m │ \u001b[90mString\u001b[39m │ \u001b[90mFloat64\u001b[39m  │\n",
       "├─────┼───────┼────────┼──────────┤\n",
       "│ 1   │ 3     │ c      │ 0.167169 │\n",
       "│ 2   │ 4     │ d      │ 0.497081 │\n",
       "│ 3   │ 5     │ e      │ 0.969432 │"
      ]
     },
     "execution_count": 67,
     "metadata": {},
     "output_type": "execute_result"
    }
   ],
   "source": [
    "df1[(2 .< df1.F .<6),:]"
   ]
  },
  {
   "cell_type": "markdown",
   "metadata": {},
   "source": [
    "Agora o Guidoni (pô, Guidoni!) quer um subset de df1 baseado em condições de duas colunas:"
   ]
  },
  {
   "cell_type": "code",
   "execution_count": 68,
   "metadata": {},
   "outputs": [
    {
     "data": {
      "text/html": [
       "<table class=\"data-frame\"><thead><tr><th></th><th>F</th><th>B</th><th>C</th></tr><tr><th></th><th>Int64</th><th>String</th><th>Float64</th></tr></thead><tbody><p>2 rows × 3 columns</p><tr><th>1</th><td>4</td><td>d</td><td>0.497081</td></tr><tr><th>2</th><td>5</td><td>e</td><td>0.969432</td></tr></tbody></table>"
      ],
      "text/latex": [
       "\\begin{tabular}{r|ccc}\n",
       "\t& F & B & C\\\\\n",
       "\t\\hline\n",
       "\t& Int64 & String & Float64\\\\\n",
       "\t\\hline\n",
       "\t1 & 4 & d & 0.497081 \\\\\n",
       "\t2 & 5 & e & 0.969432 \\\\\n",
       "\\end{tabular}\n"
      ],
      "text/plain": [
       "2×3 DataFrame\n",
       "│ Row │ F     │ B      │ C        │\n",
       "│     │ \u001b[90mInt64\u001b[39m │ \u001b[90mString\u001b[39m │ \u001b[90mFloat64\u001b[39m  │\n",
       "├─────┼───────┼────────┼──────────┤\n",
       "│ 1   │ 4     │ d      │ 0.497081 │\n",
       "│ 2   │ 5     │ e      │ 0.969432 │"
      ]
     },
     "execution_count": 68,
     "metadata": {},
     "output_type": "execute_result"
    }
   ],
   "source": [
    "df1[(2 .< df1.F .<6) .& (df1.C .> 0.2), :]"
   ]
  },
  {
   "cell_type": "code",
   "execution_count": null,
   "metadata": {},
   "outputs": [],
   "source": []
  }
 ],
 "metadata": {
  "kernelspec": {
   "display_name": "Julia 1.0.3",
   "language": "julia",
   "name": "julia-1.0"
  },
  "language_info": {
   "file_extension": ".jl",
   "mimetype": "application/julia",
   "name": "julia",
   "version": "1.0.3"
  }
 },
 "nbformat": 4,
 "nbformat_minor": 2
}
